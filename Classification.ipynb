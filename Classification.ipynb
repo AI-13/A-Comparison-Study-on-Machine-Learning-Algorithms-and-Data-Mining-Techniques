{
 "cells": [
  {
   "cell_type": "markdown",
   "metadata": {
    "colab_type": "text",
    "id": "9i0HpZejjUPA"
   },
   "source": [
    "\n",
    "\n",
    "\n",
    "---\n",
    "\n",
    "\n",
    "**COMM055 COURSEWORK - A COMPARISON STUDY ON MACHINE LEARNING ALGORITHMS**\n",
    "\n",
    "\n",
    "\n",
    "\n",
    "---\n",
    "\n"
   ]
  },
  {
   "cell_type": "markdown",
   "metadata": {
    "colab_type": "text",
    "id": "c2g0iMHm5zi9"
   },
   "source": [
    "# **MODEL DEVELOPMENT, EVALUATION AND COMPARISONS ON SUPERVISED MACHINE LEARNING ALGORITHMS - CLASSIFICATION**\n",
    "\n",
    "\n",
    "---\n",
    "\n",
    "\n",
    "This notebook focuses on the comparison study on **Supervised ML Algorithms** and various Data Mining techniques.\n",
    "\n",
    "**On Datasets:** IBM Attrition, Mushroom Classification\n",
    "\n",
    "**Problem Type:** Classification\n",
    "\n",
    "**ML Algorithms:** Logistic Regression, Decision Trees, Perceptron, Multi-Layer Perceptron, Support-Vector Machines\n",
    "\n",
    "**Performance Metrics:** ROC curve, Cross-Validation, Accuracy Score, Confusion Matrix\n",
    "\n",
    "\n",
    "\n",
    "---\n",
    "\n",
    "\n",
    "**Contents:**\n",
    "\n",
    "1. Data Pre-processing\n",
    "\n",
    "   **Before Parameter Tuning**\n",
    "2. Python Functions for Modelling, Performance Metrics and Parameter Tuning\n",
    "3. Evaluation and Comparison of the default models\n",
    "\n",
    "   **After Parameter Tuning**\n",
    "4. Parameter Optimization (Manual/Systematic Tuning) on developed models\n",
    "5. Evaluation and Comparison of the (Manual/Systematic Tuning) optimized models\n",
    "6. Parameter Optimization (Automated Tuning) on developed models\n",
    "7. Evaluation and Comparison of the optimized models within and across the datasets\n",
    "\n",
    "  **Conclusion**\n",
    "8. Proposing the best and worst performing Classification Algorithms on \"IBM Attrition\" and \"Mushroom Classification\" Datasets\n",
    "\n",
    "\n",
    "\n",
    "---\n",
    "\n",
    "\n"
   ]
  },
  {
   "cell_type": "markdown",
   "metadata": {
    "colab_type": "text",
    "id": "rHl-CjerajhP"
   },
   "source": [
    "# **1. Data Pre-processing**"
   ]
  },
  {
   "cell_type": "markdown",
   "metadata": {
    "colab_type": "text",
    "id": "SpQn9ZD0aoGv"
   },
   "source": [
    "\n",
    "## **1.1 On IBM Attrition**\n",
    "\n",
    "---\n",
    "\n",
    "\n",
    "1.1.1 Encoding Categorical Features\n",
    "\n",
    "1.1.2 Train-Validation-Test Split\n",
    "\n",
    "\n",
    "---\n",
    "\n"
   ]
  },
  {
   "cell_type": "markdown",
   "metadata": {
    "colab_type": "text",
    "id": "YWylAbJYcRZa"
   },
   "source": [
    "### 1.1.1 Encoding Categorical Features"
   ]
  },
  {
   "cell_type": "code",
   "execution_count": null,
   "metadata": {
    "colab": {},
    "colab_type": "code",
    "id": "2y38YGTSai4q"
   },
   "outputs": [],
   "source": [
    "# Importing the cleaned dataset downloaded from the DPU.ipynb file\n",
    "# Before running this code, please upload the dataset. \n",
    "# To upload the dataset go to Files(the folder icon to the left)> Upload> choose \"ibmData.csv\" dataset from your local drive\n",
    "# Importing pandas library\n",
    "# Importing preprocessing from sklearn to preprocess the dataset\n",
    "# Reading the CSV file using pandas.read_csv function and storing in ibmData variable\n",
    "\n",
    "import pandas as pd\n",
    "from sklearn import preprocessing\n",
    "ibmData = pd.read_csv('/content/ibmData.csv')"
   ]
  },
  {
   "cell_type": "code",
   "execution_count": null,
   "metadata": {
    "colab": {
     "base_uri": "https://localhost:8080/",
     "height": 459
    },
    "colab_type": "code",
    "id": "cy2_r0ppmfT4",
    "outputId": "8ef04524-1ca8-4f18-a1d2-5de22823c1f7"
   },
   "outputs": [
    {
     "name": "stdout",
     "output_type": "stream",
     "text": [
      "      Age     BusinessTravel  ...  YearsSinceLastPromotion YearsWithCurrManager\n",
      "0      41      Travel_Rarely  ...                        0                    5\n",
      "1      49  Travel_Frequently  ...                        1                    7\n",
      "2      37      Travel_Rarely  ...                        0                    0\n",
      "3      33  Travel_Frequently  ...                        3                    0\n",
      "4      27      Travel_Rarely  ...                        2                    2\n",
      "...   ...                ...  ...                      ...                  ...\n",
      "1465   36  Travel_Frequently  ...                        0                    3\n",
      "1466   39      Travel_Rarely  ...                        1                    7\n",
      "1467   27      Travel_Rarely  ...                        0                    3\n",
      "1468   49  Travel_Frequently  ...                        0                    8\n",
      "1469   34      Travel_Rarely  ...                        1                    2\n",
      "\n",
      "[1470 rows x 29 columns]\n",
      "0       Yes\n",
      "1        No\n",
      "2       Yes\n",
      "3        No\n",
      "4        No\n",
      "       ... \n",
      "1465     No\n",
      "1466     No\n",
      "1467     No\n",
      "1468     No\n",
      "1469     No\n",
      "Name: Attrition, Length: 1470, dtype: object\n"
     ]
    }
   ],
   "source": [
    "# Putting all the input variables in one dataframe(IbmX) and the output variable in another(Ibmy)\n",
    "\n",
    "IbmX = ibmData.drop('Attrition', axis=1)\n",
    "Ibmy = ibmData['Attrition']\n",
    "\n",
    "print(IbmX)\n",
    "print(Ibmy)\n"
   ]
  },
  {
   "cell_type": "markdown",
   "metadata": {
    "colab_type": "text",
    "id": "K898kMEwueC1"
   },
   "source": [
    "**Comments:** The dataframe has been divided into:\n",
    "\n",
    "IbmX - with all the input variables/columns\n",
    "\n",
    "Ibmy - with the target variable"
   ]
  },
  {
   "cell_type": "code",
   "execution_count": null,
   "metadata": {
    "colab": {
     "base_uri": "https://localhost:8080/",
     "height": 204
    },
    "colab_type": "code",
    "id": "X7NFj0-jpdbP",
    "outputId": "ed317ac6-9101-48a9-cfa7-2b0725431f09"
   },
   "outputs": [
    {
     "name": "stdout",
     "output_type": "stream",
     "text": [
      "Before Label Encoding: \n",
      " 0    Yes\n",
      "1     No\n",
      "2    Yes\n",
      "3     No\n",
      "4     No\n",
      "Name: Attrition, dtype: object\n",
      "----------------------------------------------------------------------------------------------------\n",
      "After Label Encoding: \n",
      " [1 0 1 ... 0 0 0]\n",
      "No and Yes are labelled as: [0 1]\n"
     ]
    }
   ],
   "source": [
    "# Importing LabelEncoder from sklearn.preprocessing to encode the categorical labels to \"1\" and \"0\"\n",
    "# The target variable 'Attrition' has categorical values 'Yes' and 'No', converting these to '1' and '0'\n",
    "#Importing numpy library to check for the unique values in the Target Column\n",
    "from sklearn.preprocessing import LabelEncoder\n",
    "import numpy as np\n",
    "\n",
    "print(\"Before Label Encoding: \\n\", Ibmy.head())\n",
    "Ibmy_le = LabelEncoder()\n",
    "# Yes -> 1 and No -> 0\n",
    "Ibmy = Ibmy_le.fit_transform(Ibmy.values)\n",
    "print(100*'-')\n",
    "print(\"After Label Encoding: \\n\", Ibmy)\n",
    "print('No and Yes are labelled as:', np.unique(Ibmy))"
   ]
  },
  {
   "cell_type": "markdown",
   "metadata": {
    "colab_type": "text",
    "id": "I1riQXSZu4Jl"
   },
   "source": [
    "**Comments:** Shows that the classes \"Yes\" and \"No\" are labelled as 1 and 0"
   ]
  },
  {
   "cell_type": "code",
   "execution_count": null,
   "metadata": {
    "colab": {
     "base_uri": "https://localhost:8080/",
     "height": 456
    },
    "colab_type": "code",
    "id": "gYq8ELvayaSr",
    "outputId": "6a529879-86cf-4fb6-f237-fe84cfb05209"
   },
   "outputs": [
    {
     "data": {
      "text/html": [
       "<div>\n",
       "<style scoped>\n",
       "    .dataframe tbody tr th:only-of-type {\n",
       "        vertical-align: middle;\n",
       "    }\n",
       "\n",
       "    .dataframe tbody tr th {\n",
       "        vertical-align: top;\n",
       "    }\n",
       "\n",
       "    .dataframe thead th {\n",
       "        text-align: right;\n",
       "    }\n",
       "</style>\n",
       "<table border=\"1\" class=\"dataframe\">\n",
       "  <thead>\n",
       "    <tr style=\"text-align: right;\">\n",
       "      <th></th>\n",
       "      <th>Age</th>\n",
       "      <th>DailyRate</th>\n",
       "      <th>DistanceFromHome</th>\n",
       "      <th>Education</th>\n",
       "      <th>EnvironmentSatisfaction</th>\n",
       "      <th>HourlyRate</th>\n",
       "      <th>JobInvolvement</th>\n",
       "      <th>JobLevel</th>\n",
       "      <th>JobSatisfaction</th>\n",
       "      <th>MonthlyRate</th>\n",
       "      <th>NumCompaniesWorked</th>\n",
       "      <th>PercentSalaryHike</th>\n",
       "      <th>PerformanceRating</th>\n",
       "      <th>RelationshipSatisfaction</th>\n",
       "      <th>StockOptionLevel</th>\n",
       "      <th>TotalWorkingYears</th>\n",
       "      <th>TrainingTimesLastYear</th>\n",
       "      <th>WorkLifeBalance</th>\n",
       "      <th>YearsAtCompany</th>\n",
       "      <th>YearsInCurrentRole</th>\n",
       "      <th>YearsSinceLastPromotion</th>\n",
       "      <th>YearsWithCurrManager</th>\n",
       "      <th>BusinessTravel_Non-Travel</th>\n",
       "      <th>BusinessTravel_Travel_Frequently</th>\n",
       "      <th>BusinessTravel_Travel_Rarely</th>\n",
       "      <th>Department_Human Resources</th>\n",
       "      <th>Department_Research &amp; Development</th>\n",
       "      <th>Department_Sales</th>\n",
       "      <th>EducationField_Human Resources</th>\n",
       "      <th>EducationField_Life Sciences</th>\n",
       "      <th>EducationField_Marketing</th>\n",
       "      <th>EducationField_Medical</th>\n",
       "      <th>EducationField_Other</th>\n",
       "      <th>EducationField_Technical Degree</th>\n",
       "      <th>Gender_Female</th>\n",
       "      <th>Gender_Male</th>\n",
       "      <th>JobRole_Healthcare Representative</th>\n",
       "      <th>JobRole_Human Resources</th>\n",
       "      <th>JobRole_Laboratory Technician</th>\n",
       "      <th>JobRole_Manager</th>\n",
       "      <th>JobRole_Manufacturing Director</th>\n",
       "      <th>JobRole_Research Director</th>\n",
       "      <th>JobRole_Research Scientist</th>\n",
       "      <th>JobRole_Sales Executive</th>\n",
       "      <th>JobRole_Sales Representative</th>\n",
       "      <th>MaritalStatus_Divorced</th>\n",
       "      <th>MaritalStatus_Married</th>\n",
       "      <th>MaritalStatus_Single</th>\n",
       "      <th>OverTime_No</th>\n",
       "      <th>OverTime_Yes</th>\n",
       "    </tr>\n",
       "  </thead>\n",
       "  <tbody>\n",
       "    <tr>\n",
       "      <th>0</th>\n",
       "      <td>41</td>\n",
       "      <td>1102</td>\n",
       "      <td>1</td>\n",
       "      <td>2</td>\n",
       "      <td>2</td>\n",
       "      <td>94</td>\n",
       "      <td>3</td>\n",
       "      <td>2</td>\n",
       "      <td>4</td>\n",
       "      <td>19479</td>\n",
       "      <td>8</td>\n",
       "      <td>11</td>\n",
       "      <td>3</td>\n",
       "      <td>1</td>\n",
       "      <td>0</td>\n",
       "      <td>8</td>\n",
       "      <td>0</td>\n",
       "      <td>1</td>\n",
       "      <td>6</td>\n",
       "      <td>4</td>\n",
       "      <td>0</td>\n",
       "      <td>5</td>\n",
       "      <td>0</td>\n",
       "      <td>0</td>\n",
       "      <td>1</td>\n",
       "      <td>0</td>\n",
       "      <td>0</td>\n",
       "      <td>1</td>\n",
       "      <td>0</td>\n",
       "      <td>1</td>\n",
       "      <td>0</td>\n",
       "      <td>0</td>\n",
       "      <td>0</td>\n",
       "      <td>0</td>\n",
       "      <td>1</td>\n",
       "      <td>0</td>\n",
       "      <td>0</td>\n",
       "      <td>0</td>\n",
       "      <td>0</td>\n",
       "      <td>0</td>\n",
       "      <td>0</td>\n",
       "      <td>0</td>\n",
       "      <td>0</td>\n",
       "      <td>1</td>\n",
       "      <td>0</td>\n",
       "      <td>0</td>\n",
       "      <td>0</td>\n",
       "      <td>1</td>\n",
       "      <td>0</td>\n",
       "      <td>1</td>\n",
       "    </tr>\n",
       "    <tr>\n",
       "      <th>1</th>\n",
       "      <td>49</td>\n",
       "      <td>279</td>\n",
       "      <td>8</td>\n",
       "      <td>1</td>\n",
       "      <td>3</td>\n",
       "      <td>61</td>\n",
       "      <td>2</td>\n",
       "      <td>2</td>\n",
       "      <td>2</td>\n",
       "      <td>24907</td>\n",
       "      <td>1</td>\n",
       "      <td>23</td>\n",
       "      <td>4</td>\n",
       "      <td>4</td>\n",
       "      <td>1</td>\n",
       "      <td>10</td>\n",
       "      <td>3</td>\n",
       "      <td>3</td>\n",
       "      <td>10</td>\n",
       "      <td>7</td>\n",
       "      <td>1</td>\n",
       "      <td>7</td>\n",
       "      <td>0</td>\n",
       "      <td>1</td>\n",
       "      <td>0</td>\n",
       "      <td>0</td>\n",
       "      <td>1</td>\n",
       "      <td>0</td>\n",
       "      <td>0</td>\n",
       "      <td>1</td>\n",
       "      <td>0</td>\n",
       "      <td>0</td>\n",
       "      <td>0</td>\n",
       "      <td>0</td>\n",
       "      <td>0</td>\n",
       "      <td>1</td>\n",
       "      <td>0</td>\n",
       "      <td>0</td>\n",
       "      <td>0</td>\n",
       "      <td>0</td>\n",
       "      <td>0</td>\n",
       "      <td>0</td>\n",
       "      <td>1</td>\n",
       "      <td>0</td>\n",
       "      <td>0</td>\n",
       "      <td>0</td>\n",
       "      <td>1</td>\n",
       "      <td>0</td>\n",
       "      <td>1</td>\n",
       "      <td>0</td>\n",
       "    </tr>\n",
       "    <tr>\n",
       "      <th>2</th>\n",
       "      <td>37</td>\n",
       "      <td>1373</td>\n",
       "      <td>2</td>\n",
       "      <td>2</td>\n",
       "      <td>4</td>\n",
       "      <td>92</td>\n",
       "      <td>2</td>\n",
       "      <td>1</td>\n",
       "      <td>3</td>\n",
       "      <td>2396</td>\n",
       "      <td>6</td>\n",
       "      <td>15</td>\n",
       "      <td>3</td>\n",
       "      <td>2</td>\n",
       "      <td>0</td>\n",
       "      <td>7</td>\n",
       "      <td>3</td>\n",
       "      <td>3</td>\n",
       "      <td>0</td>\n",
       "      <td>0</td>\n",
       "      <td>0</td>\n",
       "      <td>0</td>\n",
       "      <td>0</td>\n",
       "      <td>0</td>\n",
       "      <td>1</td>\n",
       "      <td>0</td>\n",
       "      <td>1</td>\n",
       "      <td>0</td>\n",
       "      <td>0</td>\n",
       "      <td>0</td>\n",
       "      <td>0</td>\n",
       "      <td>0</td>\n",
       "      <td>1</td>\n",
       "      <td>0</td>\n",
       "      <td>0</td>\n",
       "      <td>1</td>\n",
       "      <td>0</td>\n",
       "      <td>0</td>\n",
       "      <td>1</td>\n",
       "      <td>0</td>\n",
       "      <td>0</td>\n",
       "      <td>0</td>\n",
       "      <td>0</td>\n",
       "      <td>0</td>\n",
       "      <td>0</td>\n",
       "      <td>0</td>\n",
       "      <td>0</td>\n",
       "      <td>1</td>\n",
       "      <td>0</td>\n",
       "      <td>1</td>\n",
       "    </tr>\n",
       "    <tr>\n",
       "      <th>3</th>\n",
       "      <td>33</td>\n",
       "      <td>1392</td>\n",
       "      <td>3</td>\n",
       "      <td>4</td>\n",
       "      <td>4</td>\n",
       "      <td>56</td>\n",
       "      <td>3</td>\n",
       "      <td>1</td>\n",
       "      <td>3</td>\n",
       "      <td>23159</td>\n",
       "      <td>1</td>\n",
       "      <td>11</td>\n",
       "      <td>3</td>\n",
       "      <td>3</td>\n",
       "      <td>0</td>\n",
       "      <td>8</td>\n",
       "      <td>3</td>\n",
       "      <td>3</td>\n",
       "      <td>8</td>\n",
       "      <td>7</td>\n",
       "      <td>3</td>\n",
       "      <td>0</td>\n",
       "      <td>0</td>\n",
       "      <td>1</td>\n",
       "      <td>0</td>\n",
       "      <td>0</td>\n",
       "      <td>1</td>\n",
       "      <td>0</td>\n",
       "      <td>0</td>\n",
       "      <td>1</td>\n",
       "      <td>0</td>\n",
       "      <td>0</td>\n",
       "      <td>0</td>\n",
       "      <td>0</td>\n",
       "      <td>1</td>\n",
       "      <td>0</td>\n",
       "      <td>0</td>\n",
       "      <td>0</td>\n",
       "      <td>0</td>\n",
       "      <td>0</td>\n",
       "      <td>0</td>\n",
       "      <td>0</td>\n",
       "      <td>1</td>\n",
       "      <td>0</td>\n",
       "      <td>0</td>\n",
       "      <td>0</td>\n",
       "      <td>1</td>\n",
       "      <td>0</td>\n",
       "      <td>0</td>\n",
       "      <td>1</td>\n",
       "    </tr>\n",
       "    <tr>\n",
       "      <th>4</th>\n",
       "      <td>27</td>\n",
       "      <td>591</td>\n",
       "      <td>2</td>\n",
       "      <td>1</td>\n",
       "      <td>1</td>\n",
       "      <td>40</td>\n",
       "      <td>3</td>\n",
       "      <td>1</td>\n",
       "      <td>2</td>\n",
       "      <td>16632</td>\n",
       "      <td>9</td>\n",
       "      <td>12</td>\n",
       "      <td>3</td>\n",
       "      <td>4</td>\n",
       "      <td>1</td>\n",
       "      <td>6</td>\n",
       "      <td>3</td>\n",
       "      <td>3</td>\n",
       "      <td>2</td>\n",
       "      <td>2</td>\n",
       "      <td>2</td>\n",
       "      <td>2</td>\n",
       "      <td>0</td>\n",
       "      <td>0</td>\n",
       "      <td>1</td>\n",
       "      <td>0</td>\n",
       "      <td>1</td>\n",
       "      <td>0</td>\n",
       "      <td>0</td>\n",
       "      <td>0</td>\n",
       "      <td>0</td>\n",
       "      <td>1</td>\n",
       "      <td>0</td>\n",
       "      <td>0</td>\n",
       "      <td>0</td>\n",
       "      <td>1</td>\n",
       "      <td>0</td>\n",
       "      <td>0</td>\n",
       "      <td>1</td>\n",
       "      <td>0</td>\n",
       "      <td>0</td>\n",
       "      <td>0</td>\n",
       "      <td>0</td>\n",
       "      <td>0</td>\n",
       "      <td>0</td>\n",
       "      <td>0</td>\n",
       "      <td>1</td>\n",
       "      <td>0</td>\n",
       "      <td>1</td>\n",
       "      <td>0</td>\n",
       "    </tr>\n",
       "    <tr>\n",
       "      <th>...</th>\n",
       "      <td>...</td>\n",
       "      <td>...</td>\n",
       "      <td>...</td>\n",
       "      <td>...</td>\n",
       "      <td>...</td>\n",
       "      <td>...</td>\n",
       "      <td>...</td>\n",
       "      <td>...</td>\n",
       "      <td>...</td>\n",
       "      <td>...</td>\n",
       "      <td>...</td>\n",
       "      <td>...</td>\n",
       "      <td>...</td>\n",
       "      <td>...</td>\n",
       "      <td>...</td>\n",
       "      <td>...</td>\n",
       "      <td>...</td>\n",
       "      <td>...</td>\n",
       "      <td>...</td>\n",
       "      <td>...</td>\n",
       "      <td>...</td>\n",
       "      <td>...</td>\n",
       "      <td>...</td>\n",
       "      <td>...</td>\n",
       "      <td>...</td>\n",
       "      <td>...</td>\n",
       "      <td>...</td>\n",
       "      <td>...</td>\n",
       "      <td>...</td>\n",
       "      <td>...</td>\n",
       "      <td>...</td>\n",
       "      <td>...</td>\n",
       "      <td>...</td>\n",
       "      <td>...</td>\n",
       "      <td>...</td>\n",
       "      <td>...</td>\n",
       "      <td>...</td>\n",
       "      <td>...</td>\n",
       "      <td>...</td>\n",
       "      <td>...</td>\n",
       "      <td>...</td>\n",
       "      <td>...</td>\n",
       "      <td>...</td>\n",
       "      <td>...</td>\n",
       "      <td>...</td>\n",
       "      <td>...</td>\n",
       "      <td>...</td>\n",
       "      <td>...</td>\n",
       "      <td>...</td>\n",
       "      <td>...</td>\n",
       "    </tr>\n",
       "    <tr>\n",
       "      <th>1465</th>\n",
       "      <td>36</td>\n",
       "      <td>884</td>\n",
       "      <td>23</td>\n",
       "      <td>2</td>\n",
       "      <td>3</td>\n",
       "      <td>41</td>\n",
       "      <td>4</td>\n",
       "      <td>2</td>\n",
       "      <td>4</td>\n",
       "      <td>12290</td>\n",
       "      <td>4</td>\n",
       "      <td>17</td>\n",
       "      <td>3</td>\n",
       "      <td>3</td>\n",
       "      <td>1</td>\n",
       "      <td>17</td>\n",
       "      <td>3</td>\n",
       "      <td>3</td>\n",
       "      <td>5</td>\n",
       "      <td>2</td>\n",
       "      <td>0</td>\n",
       "      <td>3</td>\n",
       "      <td>0</td>\n",
       "      <td>1</td>\n",
       "      <td>0</td>\n",
       "      <td>0</td>\n",
       "      <td>1</td>\n",
       "      <td>0</td>\n",
       "      <td>0</td>\n",
       "      <td>0</td>\n",
       "      <td>0</td>\n",
       "      <td>1</td>\n",
       "      <td>0</td>\n",
       "      <td>0</td>\n",
       "      <td>0</td>\n",
       "      <td>1</td>\n",
       "      <td>0</td>\n",
       "      <td>0</td>\n",
       "      <td>1</td>\n",
       "      <td>0</td>\n",
       "      <td>0</td>\n",
       "      <td>0</td>\n",
       "      <td>0</td>\n",
       "      <td>0</td>\n",
       "      <td>0</td>\n",
       "      <td>0</td>\n",
       "      <td>1</td>\n",
       "      <td>0</td>\n",
       "      <td>1</td>\n",
       "      <td>0</td>\n",
       "    </tr>\n",
       "    <tr>\n",
       "      <th>1466</th>\n",
       "      <td>39</td>\n",
       "      <td>613</td>\n",
       "      <td>6</td>\n",
       "      <td>1</td>\n",
       "      <td>4</td>\n",
       "      <td>42</td>\n",
       "      <td>2</td>\n",
       "      <td>3</td>\n",
       "      <td>1</td>\n",
       "      <td>21457</td>\n",
       "      <td>4</td>\n",
       "      <td>15</td>\n",
       "      <td>3</td>\n",
       "      <td>1</td>\n",
       "      <td>1</td>\n",
       "      <td>9</td>\n",
       "      <td>5</td>\n",
       "      <td>3</td>\n",
       "      <td>7</td>\n",
       "      <td>7</td>\n",
       "      <td>1</td>\n",
       "      <td>7</td>\n",
       "      <td>0</td>\n",
       "      <td>0</td>\n",
       "      <td>1</td>\n",
       "      <td>0</td>\n",
       "      <td>1</td>\n",
       "      <td>0</td>\n",
       "      <td>0</td>\n",
       "      <td>0</td>\n",
       "      <td>0</td>\n",
       "      <td>1</td>\n",
       "      <td>0</td>\n",
       "      <td>0</td>\n",
       "      <td>0</td>\n",
       "      <td>1</td>\n",
       "      <td>1</td>\n",
       "      <td>0</td>\n",
       "      <td>0</td>\n",
       "      <td>0</td>\n",
       "      <td>0</td>\n",
       "      <td>0</td>\n",
       "      <td>0</td>\n",
       "      <td>0</td>\n",
       "      <td>0</td>\n",
       "      <td>0</td>\n",
       "      <td>1</td>\n",
       "      <td>0</td>\n",
       "      <td>1</td>\n",
       "      <td>0</td>\n",
       "    </tr>\n",
       "    <tr>\n",
       "      <th>1467</th>\n",
       "      <td>27</td>\n",
       "      <td>155</td>\n",
       "      <td>4</td>\n",
       "      <td>3</td>\n",
       "      <td>2</td>\n",
       "      <td>87</td>\n",
       "      <td>4</td>\n",
       "      <td>2</td>\n",
       "      <td>2</td>\n",
       "      <td>5174</td>\n",
       "      <td>1</td>\n",
       "      <td>20</td>\n",
       "      <td>4</td>\n",
       "      <td>2</td>\n",
       "      <td>1</td>\n",
       "      <td>6</td>\n",
       "      <td>0</td>\n",
       "      <td>3</td>\n",
       "      <td>6</td>\n",
       "      <td>2</td>\n",
       "      <td>0</td>\n",
       "      <td>3</td>\n",
       "      <td>0</td>\n",
       "      <td>0</td>\n",
       "      <td>1</td>\n",
       "      <td>0</td>\n",
       "      <td>1</td>\n",
       "      <td>0</td>\n",
       "      <td>0</td>\n",
       "      <td>1</td>\n",
       "      <td>0</td>\n",
       "      <td>0</td>\n",
       "      <td>0</td>\n",
       "      <td>0</td>\n",
       "      <td>0</td>\n",
       "      <td>1</td>\n",
       "      <td>0</td>\n",
       "      <td>0</td>\n",
       "      <td>0</td>\n",
       "      <td>0</td>\n",
       "      <td>1</td>\n",
       "      <td>0</td>\n",
       "      <td>0</td>\n",
       "      <td>0</td>\n",
       "      <td>0</td>\n",
       "      <td>0</td>\n",
       "      <td>1</td>\n",
       "      <td>0</td>\n",
       "      <td>0</td>\n",
       "      <td>1</td>\n",
       "    </tr>\n",
       "    <tr>\n",
       "      <th>1468</th>\n",
       "      <td>49</td>\n",
       "      <td>1023</td>\n",
       "      <td>2</td>\n",
       "      <td>3</td>\n",
       "      <td>4</td>\n",
       "      <td>63</td>\n",
       "      <td>2</td>\n",
       "      <td>2</td>\n",
       "      <td>2</td>\n",
       "      <td>13243</td>\n",
       "      <td>2</td>\n",
       "      <td>14</td>\n",
       "      <td>3</td>\n",
       "      <td>4</td>\n",
       "      <td>0</td>\n",
       "      <td>17</td>\n",
       "      <td>3</td>\n",
       "      <td>2</td>\n",
       "      <td>9</td>\n",
       "      <td>6</td>\n",
       "      <td>0</td>\n",
       "      <td>8</td>\n",
       "      <td>0</td>\n",
       "      <td>1</td>\n",
       "      <td>0</td>\n",
       "      <td>0</td>\n",
       "      <td>0</td>\n",
       "      <td>1</td>\n",
       "      <td>0</td>\n",
       "      <td>0</td>\n",
       "      <td>0</td>\n",
       "      <td>1</td>\n",
       "      <td>0</td>\n",
       "      <td>0</td>\n",
       "      <td>0</td>\n",
       "      <td>1</td>\n",
       "      <td>0</td>\n",
       "      <td>0</td>\n",
       "      <td>0</td>\n",
       "      <td>0</td>\n",
       "      <td>0</td>\n",
       "      <td>0</td>\n",
       "      <td>0</td>\n",
       "      <td>1</td>\n",
       "      <td>0</td>\n",
       "      <td>0</td>\n",
       "      <td>1</td>\n",
       "      <td>0</td>\n",
       "      <td>1</td>\n",
       "      <td>0</td>\n",
       "    </tr>\n",
       "    <tr>\n",
       "      <th>1469</th>\n",
       "      <td>34</td>\n",
       "      <td>628</td>\n",
       "      <td>8</td>\n",
       "      <td>3</td>\n",
       "      <td>2</td>\n",
       "      <td>82</td>\n",
       "      <td>4</td>\n",
       "      <td>2</td>\n",
       "      <td>3</td>\n",
       "      <td>10228</td>\n",
       "      <td>2</td>\n",
       "      <td>12</td>\n",
       "      <td>3</td>\n",
       "      <td>1</td>\n",
       "      <td>0</td>\n",
       "      <td>6</td>\n",
       "      <td>3</td>\n",
       "      <td>4</td>\n",
       "      <td>4</td>\n",
       "      <td>3</td>\n",
       "      <td>1</td>\n",
       "      <td>2</td>\n",
       "      <td>0</td>\n",
       "      <td>0</td>\n",
       "      <td>1</td>\n",
       "      <td>0</td>\n",
       "      <td>1</td>\n",
       "      <td>0</td>\n",
       "      <td>0</td>\n",
       "      <td>0</td>\n",
       "      <td>0</td>\n",
       "      <td>1</td>\n",
       "      <td>0</td>\n",
       "      <td>0</td>\n",
       "      <td>0</td>\n",
       "      <td>1</td>\n",
       "      <td>0</td>\n",
       "      <td>0</td>\n",
       "      <td>1</td>\n",
       "      <td>0</td>\n",
       "      <td>0</td>\n",
       "      <td>0</td>\n",
       "      <td>0</td>\n",
       "      <td>0</td>\n",
       "      <td>0</td>\n",
       "      <td>0</td>\n",
       "      <td>1</td>\n",
       "      <td>0</td>\n",
       "      <td>1</td>\n",
       "      <td>0</td>\n",
       "    </tr>\n",
       "  </tbody>\n",
       "</table>\n",
       "<p>1470 rows × 50 columns</p>\n",
       "</div>"
      ],
      "text/plain": [
       "      Age  DailyRate  ...  OverTime_No  OverTime_Yes\n",
       "0      41       1102  ...            0             1\n",
       "1      49        279  ...            1             0\n",
       "2      37       1373  ...            0             1\n",
       "3      33       1392  ...            0             1\n",
       "4      27        591  ...            1             0\n",
       "...   ...        ...  ...          ...           ...\n",
       "1465   36        884  ...            1             0\n",
       "1466   39        613  ...            1             0\n",
       "1467   27        155  ...            0             1\n",
       "1468   49       1023  ...            1             0\n",
       "1469   34        628  ...            1             0\n",
       "\n",
       "[1470 rows x 50 columns]"
      ]
     },
     "execution_count": 84,
     "metadata": {
      "tags": []
     },
     "output_type": "execute_result"
    }
   ],
   "source": [
    "# Get the dummy variables for the categorical feature\n",
    "# Add the results to the original dataframe\n",
    "# Drop the original categorical variables as dummies are already created\n",
    "\n",
    "import numpy as np\n",
    "\n",
    "ibm_category = IbmX.select_dtypes(exclude = [np.number])\n",
    "ibm_category = ibm_category.columns.values\n",
    "\n",
    "ibmDummies = pd.get_dummies(IbmX[ibm_category])\n",
    "\n",
    "IbmX_onehot = pd.concat([IbmX, ibmDummies], axis = 1)\n",
    "IbmX_onehot.drop(ibm_category, axis = 1, inplace = True)\n",
    "IbmX_onehot.head(5)\n",
    "IbmX = IbmX_onehot\n",
    "IbmX"
   ]
  },
  {
   "cell_type": "markdown",
   "metadata": {
    "colab_type": "text",
    "id": "fgjrGr4kskeN"
   },
   "source": [
    "**Comments:** After one hot encoding, the number of columns changed from 28 to 50, as the n values in one categorical column are converted to n columns. (i.e If one categorical column has three values then it gets converted to three columns with binary values 0 and 1)"
   ]
  },
  {
   "cell_type": "markdown",
   "metadata": {
    "colab_type": "text",
    "id": "hteWf5BAyCxC"
   },
   "source": [
    "### 1.1.2 Train-Validation-Test Split"
   ]
  },
  {
   "cell_type": "code",
   "execution_count": null,
   "metadata": {
    "colab": {
     "base_uri": "https://localhost:8080/",
     "height": 34
    },
    "colab_type": "code",
    "id": "RUWBtyXb0mr8",
    "outputId": "bf94564a-6563-4bd0-c7e5-68d605bd1e66"
   },
   "outputs": [
    {
     "name": "stdout",
     "output_type": "stream",
     "text": [
      "Output variable(\"Attrition\") labels counts: [1233  237]\n"
     ]
    }
   ],
   "source": [
    "# To check if the classes are balanced in the target variable\n",
    "print('Output variable(\"Attrition\") labels counts:', np.bincount(Ibmy))"
   ]
  },
  {
   "cell_type": "markdown",
   "metadata": {
    "colab_type": "text",
    "id": "vjFkKEy20lM1"
   },
   "source": [
    "**Comments:** The output variable 'Attrition' is imbalanced with No = 1233, Yes = 237. Hence we stratify the train and test split so that the ratio of yes and no in train and test are equal"
   ]
  },
  {
   "cell_type": "code",
   "execution_count": null,
   "metadata": {
    "colab": {},
    "colab_type": "code",
    "id": "6_2ZDa3kxXH_"
   },
   "outputs": [],
   "source": [
    "# Importing train_test_split from sklearn.model_selection to split the dataset to train, validation and test sets.\n",
    "from sklearn.model_selection import train_test_split\n",
    "\n",
    "# Splitting the dataset into Train & Validation(85%) and Test(15%)\n",
    "IbmX_tv, IbmX_test, Ibmy_tv, Ibmy_test = train_test_split(IbmX, Ibmy, test_size=0.15, random_state=0, stratify=Ibmy)"
   ]
  },
  {
   "cell_type": "code",
   "execution_count": null,
   "metadata": {
    "colab": {
     "base_uri": "https://localhost:8080/",
     "height": 102
    },
    "colab_type": "code",
    "id": "wxNbAbhYy6rp",
    "outputId": "326731da-ed96-4ef0-960b-08a76309daee"
   },
   "outputs": [
    {
     "name": "stdout",
     "output_type": "stream",
     "text": [
      "Labels counts in y: [1233  237]\n",
      "Labels counts in y_train: [1048  201]\n",
      "Labels counts in y_test: [185  36]\n",
      "Ratio of No and Yes in train set is 1: 5.213930348258707\n",
      "Ratio of No and Yes in test set is 1: 5.138888888888889\n"
     ]
    }
   ],
   "source": [
    "# To check if the label counts are split by the right ratio\n",
    "\n",
    "print('Labels counts in y:', np.bincount(Ibmy))\n",
    "print('Labels counts in y_train:', np.bincount(Ibmy_tv))\n",
    "print('Labels counts in y_test:', np.bincount(Ibmy_test))\n",
    "ratio_train = np.bincount(Ibmy_tv)[0]/np.bincount(Ibmy_tv)[1]\n",
    "print(\"Ratio of No and Yes in train set is 1:\", ratio_train)\n",
    "ratio_test = np.bincount(Ibmy_test)[0]/np.bincount(Ibmy_test)[1]\n",
    "print(\"Ratio of No and Yes in test set is 1:\", ratio_test)\n"
   ]
  },
  {
   "cell_type": "markdown",
   "metadata": {
    "colab_type": "text",
    "id": "iuzYdrAC1c44"
   },
   "source": [
    "**Comments:** The output shows that the stratify parameter of train_test_split has divided the train and test split in such a way that the Yes and No ratio is almost equal (No:Yes = 1:5)"
   ]
  },
  {
   "cell_type": "code",
   "execution_count": null,
   "metadata": {
    "colab": {},
    "colab_type": "code",
    "id": "9wSGOaa31k2o"
   },
   "outputs": [],
   "source": [
    "# Splitting the train data further into train(80%) and validation(20%)\n",
    "\n",
    "IbmX_train, IbmX_val, Ibmy_train, Ibmy_val = train_test_split(IbmX_tv, Ibmy_tv, test_size=0.20, random_state=0, stratify = Ibmy_tv)"
   ]
  },
  {
   "cell_type": "markdown",
   "metadata": {
    "colab_type": "text",
    "id": "g-5YrbvG2Yk_"
   },
   "source": [
    "## **1.2 On Mushroom**\n",
    "\n",
    "---\n",
    "\n",
    "\n",
    "1.2.1 Encoding Categorical Features\n",
    "\n",
    "1.2.2 Train-Validation-Test Split\n",
    "\n",
    "\n",
    "---"
   ]
  },
  {
   "cell_type": "markdown",
   "metadata": {
    "colab_type": "text",
    "id": "7Fz59Grs2vT2"
   },
   "source": [
    "### 1.2.1 Encoding Categorical Features"
   ]
  },
  {
   "cell_type": "code",
   "execution_count": null,
   "metadata": {
    "colab": {},
    "colab_type": "code",
    "id": "jdhnxaew2vT3"
   },
   "outputs": [],
   "source": [
    "# Importing the cleaned dataset downloaded from the DPU.ipynb file\n",
    "# Before running this code, please upload the dataset. \n",
    "# To upload the dataset go to Files(the folder icon to the left)> Upload> choose \"mushroomData.csv\" dataset from your local drive\n",
    "# Importing pandas library\n",
    "# Importing preprocessing from sklearn to preprocess the dataset\n",
    "# Reading the CSV file using pandas.read_csv function and storing in mushroomData variable\n",
    "\n",
    "import pandas as pd\n",
    "from sklearn import preprocessing\n",
    "mushroomData = pd.read_csv('/content/mushroomData.csv')\n",
    "#mushroomData = pd.read_csv('mushrooms.csv')"
   ]
  },
  {
   "cell_type": "code",
   "execution_count": null,
   "metadata": {
    "colab": {
     "base_uri": "https://localhost:8080/",
     "height": 459
    },
    "colab_type": "code",
    "id": "nGjFAEhx2vT9",
    "outputId": "55aae529-b598-40ef-9ab4-6050f120bccf"
   },
   "outputs": [
    {
     "name": "stdout",
     "output_type": "stream",
     "text": [
      "     cap-shape cap-surface cap-color  ... spore-print-color population habitat\n",
      "0            x           s         n  ...                 k          s       u\n",
      "1            x           s         y  ...                 n          n       g\n",
      "2            b           s         w  ...                 n          n       m\n",
      "3            x           y         w  ...                 k          s       u\n",
      "4            x           s         g  ...                 n          a       g\n",
      "...        ...         ...       ...  ...               ...        ...     ...\n",
      "8119         k           s         n  ...                 b          c       l\n",
      "8120         x           s         n  ...                 b          v       l\n",
      "8121         f           s         n  ...                 b          c       l\n",
      "8122         k           y         n  ...                 w          v       l\n",
      "8123         x           s         n  ...                 o          c       l\n",
      "\n",
      "[8124 rows x 20 columns]\n",
      "0       p\n",
      "1       e\n",
      "2       e\n",
      "3       p\n",
      "4       e\n",
      "       ..\n",
      "8119    e\n",
      "8120    e\n",
      "8121    e\n",
      "8122    p\n",
      "8123    e\n",
      "Name: class, Length: 8124, dtype: object\n"
     ]
    }
   ],
   "source": [
    "# Putting all the input variables in one dataframe(mushroomX) and the output variable in another(mushroomy)\n",
    "\n",
    "mushroomX = mushroomData.drop('class', axis=1)\n",
    "mushroomy = mushroomData['class']\n",
    "\n",
    "print(mushroomX)\n",
    "print(mushroomy)\n"
   ]
  },
  {
   "cell_type": "markdown",
   "metadata": {
    "colab_type": "text",
    "id": "v6p38PHO2vUD"
   },
   "source": [
    "**Comments:** The dataframe has been divided into:\n",
    "\n",
    "mushroomX - with all the input variables/columns\n",
    "\n",
    "mushroomy - with the target variable"
   ]
  },
  {
   "cell_type": "code",
   "execution_count": null,
   "metadata": {
    "colab": {
     "base_uri": "https://localhost:8080/",
     "height": 204
    },
    "colab_type": "code",
    "id": "g1rTGAUD2vUE",
    "outputId": "adec865f-4a21-4f4a-813c-2a942d145e57"
   },
   "outputs": [
    {
     "name": "stdout",
     "output_type": "stream",
     "text": [
      "Before Label Encoding: \n",
      " 0    p\n",
      "1    e\n",
      "2    e\n",
      "3    p\n",
      "4    e\n",
      "Name: class, dtype: object\n",
      "----------------------------------------------------------------------------------------------------\n",
      "After Label Encoding: \n",
      " [1 0 0 ... 0 1 0]\n",
      "Edible('e') and Poisonous('p')  are labelled as: [0 1]\n"
     ]
    }
   ],
   "source": [
    "# Importing LabelEncoder from sklearn.preprocessing to encode the categorical labels to \"1\" and \"0\"\n",
    "# The target variable 'class' has categorical values 'p' and 'e', converting these to '1' and '0'\n",
    "# Importing numpy library to check for the unique values in the Target Column\n",
    "from sklearn.preprocessing import LabelEncoder\n",
    "import numpy as np\n",
    "\n",
    "print(\"Before Label Encoding: \\n\", mushroomy.head())\n",
    "mushroomy_le = LabelEncoder()\n",
    "# p -> 1 and e -> 0\n",
    "mushroomy = mushroomy_le.fit_transform(mushroomy.values)\n",
    "print(100*'-')\n",
    "print(\"After Label Encoding: \\n\", mushroomy)\n",
    "print(\"Edible('e') and Poisonous('p')  are labelled as:\", np.unique(mushroomy))"
   ]
  },
  {
   "cell_type": "markdown",
   "metadata": {
    "colab_type": "text",
    "id": "4sqEMu_p2vUI"
   },
   "source": [
    "**Comments:** Shows that the classes \"e\" and \"p\" are labelled as 0 and 1"
   ]
  },
  {
   "cell_type": "code",
   "execution_count": null,
   "metadata": {
    "colab": {
     "base_uri": "https://localhost:8080/",
     "height": 238
    },
    "colab_type": "code",
    "id": "Riwzoa0D2vUI",
    "outputId": "91264285-a1c2-422a-8824-470ce7fb881a"
   },
   "outputs": [
    {
     "data": {
      "text/html": [
       "<div>\n",
       "<style scoped>\n",
       "    .dataframe tbody tr th:only-of-type {\n",
       "        vertical-align: middle;\n",
       "    }\n",
       "\n",
       "    .dataframe tbody tr th {\n",
       "        vertical-align: top;\n",
       "    }\n",
       "\n",
       "    .dataframe thead th {\n",
       "        text-align: right;\n",
       "    }\n",
       "</style>\n",
       "<table border=\"1\" class=\"dataframe\">\n",
       "  <thead>\n",
       "    <tr style=\"text-align: right;\">\n",
       "      <th></th>\n",
       "      <th>cap-shape</th>\n",
       "      <th>cap-surface</th>\n",
       "      <th>cap-color</th>\n",
       "      <th>bruises</th>\n",
       "      <th>odor</th>\n",
       "      <th>gill-attachment</th>\n",
       "      <th>gill-spacing</th>\n",
       "      <th>gill-size</th>\n",
       "      <th>gill-color</th>\n",
       "      <th>stalk-shape</th>\n",
       "      <th>stalk-surface-above-ring</th>\n",
       "      <th>stalk-surface-below-ring</th>\n",
       "      <th>stalk-color-above-ring</th>\n",
       "      <th>stalk-color-below-ring</th>\n",
       "      <th>veil-color</th>\n",
       "      <th>ring-number</th>\n",
       "      <th>ring-type</th>\n",
       "      <th>spore-print-color</th>\n",
       "      <th>population</th>\n",
       "      <th>habitat</th>\n",
       "    </tr>\n",
       "  </thead>\n",
       "  <tbody>\n",
       "    <tr>\n",
       "      <th>0</th>\n",
       "      <td>5</td>\n",
       "      <td>2</td>\n",
       "      <td>4</td>\n",
       "      <td>1</td>\n",
       "      <td>6</td>\n",
       "      <td>1</td>\n",
       "      <td>0</td>\n",
       "      <td>1</td>\n",
       "      <td>4</td>\n",
       "      <td>0</td>\n",
       "      <td>2</td>\n",
       "      <td>2</td>\n",
       "      <td>7</td>\n",
       "      <td>7</td>\n",
       "      <td>2</td>\n",
       "      <td>1</td>\n",
       "      <td>4</td>\n",
       "      <td>2</td>\n",
       "      <td>3</td>\n",
       "      <td>5</td>\n",
       "    </tr>\n",
       "    <tr>\n",
       "      <th>1</th>\n",
       "      <td>5</td>\n",
       "      <td>2</td>\n",
       "      <td>9</td>\n",
       "      <td>1</td>\n",
       "      <td>0</td>\n",
       "      <td>1</td>\n",
       "      <td>0</td>\n",
       "      <td>0</td>\n",
       "      <td>4</td>\n",
       "      <td>0</td>\n",
       "      <td>2</td>\n",
       "      <td>2</td>\n",
       "      <td>7</td>\n",
       "      <td>7</td>\n",
       "      <td>2</td>\n",
       "      <td>1</td>\n",
       "      <td>4</td>\n",
       "      <td>3</td>\n",
       "      <td>2</td>\n",
       "      <td>1</td>\n",
       "    </tr>\n",
       "    <tr>\n",
       "      <th>2</th>\n",
       "      <td>0</td>\n",
       "      <td>2</td>\n",
       "      <td>8</td>\n",
       "      <td>1</td>\n",
       "      <td>3</td>\n",
       "      <td>1</td>\n",
       "      <td>0</td>\n",
       "      <td>0</td>\n",
       "      <td>5</td>\n",
       "      <td>0</td>\n",
       "      <td>2</td>\n",
       "      <td>2</td>\n",
       "      <td>7</td>\n",
       "      <td>7</td>\n",
       "      <td>2</td>\n",
       "      <td>1</td>\n",
       "      <td>4</td>\n",
       "      <td>3</td>\n",
       "      <td>2</td>\n",
       "      <td>3</td>\n",
       "    </tr>\n",
       "    <tr>\n",
       "      <th>3</th>\n",
       "      <td>5</td>\n",
       "      <td>3</td>\n",
       "      <td>8</td>\n",
       "      <td>1</td>\n",
       "      <td>6</td>\n",
       "      <td>1</td>\n",
       "      <td>0</td>\n",
       "      <td>1</td>\n",
       "      <td>5</td>\n",
       "      <td>0</td>\n",
       "      <td>2</td>\n",
       "      <td>2</td>\n",
       "      <td>7</td>\n",
       "      <td>7</td>\n",
       "      <td>2</td>\n",
       "      <td>1</td>\n",
       "      <td>4</td>\n",
       "      <td>2</td>\n",
       "      <td>3</td>\n",
       "      <td>5</td>\n",
       "    </tr>\n",
       "    <tr>\n",
       "      <th>4</th>\n",
       "      <td>5</td>\n",
       "      <td>2</td>\n",
       "      <td>3</td>\n",
       "      <td>0</td>\n",
       "      <td>5</td>\n",
       "      <td>1</td>\n",
       "      <td>1</td>\n",
       "      <td>0</td>\n",
       "      <td>4</td>\n",
       "      <td>1</td>\n",
       "      <td>2</td>\n",
       "      <td>2</td>\n",
       "      <td>7</td>\n",
       "      <td>7</td>\n",
       "      <td>2</td>\n",
       "      <td>1</td>\n",
       "      <td>0</td>\n",
       "      <td>3</td>\n",
       "      <td>0</td>\n",
       "      <td>1</td>\n",
       "    </tr>\n",
       "  </tbody>\n",
       "</table>\n",
       "</div>"
      ],
      "text/plain": [
       "   cap-shape  cap-surface  cap-color  ...  spore-print-color  population  habitat\n",
       "0          5            2          4  ...                  2           3        5\n",
       "1          5            2          9  ...                  3           2        1\n",
       "2          0            2          8  ...                  3           2        3\n",
       "3          5            3          8  ...                  2           3        5\n",
       "4          5            2          3  ...                  3           0        1\n",
       "\n",
       "[5 rows x 20 columns]"
      ]
     },
     "execution_count": 92,
     "metadata": {
      "tags": []
     },
     "output_type": "execute_result"
    }
   ],
   "source": [
    "# LableEncoding categorical values in the dataset\n",
    "# Importing OneHotEncoder from sklearn.preprocessing library to convert n categorical values to n binary values\n",
    "# from sklearn.preprocessing import OneHotEncoder\n",
    "# mushroomX_onehot = OneHotEncoder().fit_transform(mushroomX)\n",
    "# print('Feature matrix size:',mushroomX.shape)\n",
    "\n",
    "mushroomX_le = LabelEncoder()\n",
    "for col in mushroomX.columns:\n",
    "    mushroomX[col] = mushroomX_le.fit_transform(mushroomX[col])\n",
    " \n",
    "mushroomX.head()"
   ]
  },
  {
   "cell_type": "markdown",
   "metadata": {
    "colab_type": "text",
    "id": "slXV_rI52vUN"
   },
   "source": [
    "**Comments:** After one hot encoding, the number of columns increased from 20 to 111, as the n values in one categorical column are converted to n columns leading to \"Curse of Dimensionality\". (i.e If one categorical column has three values then it gets converted to three columns with binary values 0 and 1)\n",
    "\n",
    "**Action and Justification:** It was decided to go along with label encoding rather than one hot for two main reasons:\n",
    "\n",
    "1. The computational time for 20 columns vs 111 columns would be considerably low thereby increasing the efficiency of the ML models\n",
    "\n",
    "2. Trained models on onehot encoded mushroom dataset where all the algorithms returned an accuracy of 100% except for decision trees. And this wouldn't help us to sginificantly compare algorithms\n",
    "\n",
    "**Insight:** Though Decision Trees gave less than 100% accuracy with onehot encoded data but with label encoded data the accuracy of the model on test set is 100%. This may be because of the number of splits a node has to make is considerably few with label encoded data(only 20 colums) compared to onehot encoded data(111 columns) as the tree grows"
   ]
  },
  {
   "cell_type": "markdown",
   "metadata": {
    "colab_type": "text",
    "id": "dvddFl2O_yuP"
   },
   "source": [
    "### 1.2.2 Train-Validation-Test Split"
   ]
  },
  {
   "cell_type": "code",
   "execution_count": null,
   "metadata": {
    "colab": {
     "base_uri": "https://localhost:8080/",
     "height": 34
    },
    "colab_type": "code",
    "id": "BQrq7760_zLR",
    "outputId": "9aa6ec3b-3ab6-405e-f619-ba6d97a70069"
   },
   "outputs": [
    {
     "name": "stdout",
     "output_type": "stream",
     "text": [
      "Output variable(\"class\") labels counts: [4208 3916]\n"
     ]
    }
   ],
   "source": [
    "# To check if the classes are balanced in the target variable\n",
    "print('Output variable(\"class\") labels counts:', np.bincount(mushroomy))"
   ]
  },
  {
   "cell_type": "markdown",
   "metadata": {
    "colab_type": "text",
    "id": "Q-ZKmK3g_zLT"
   },
   "source": [
    "**Comments:** The output variable 'class' is slightly imbalanced with edible(\"e\") = 4208, poisonous(\"p\") = 3916. Hence we stratify the train and test split so that the ratio of e and p in train and test are equal"
   ]
  },
  {
   "cell_type": "code",
   "execution_count": null,
   "metadata": {
    "colab": {},
    "colab_type": "code",
    "id": "uSNcQUj__zLT"
   },
   "outputs": [],
   "source": [
    "# Importing train_test_split from sklearn.model_selection to split the dataset to train, validation and test sets.\n",
    "from sklearn.model_selection import train_test_split\n",
    "\n",
    "# Splitting the dataset into Train & Validation(85%) and Test(15%)\n",
    "mushroomX_tv, mushroomX_test, mushroomy_tv, mushroomy_test = train_test_split(mushroomX, mushroomy, test_size=0.15, random_state=0, stratify=mushroomy)"
   ]
  },
  {
   "cell_type": "code",
   "execution_count": null,
   "metadata": {
    "colab": {
     "base_uri": "https://localhost:8080/",
     "height": 102
    },
    "colab_type": "code",
    "id": "d9b_txoa_zLV",
    "outputId": "d4ab7582-6b8c-4e57-91ac-44602ea145e4"
   },
   "outputs": [
    {
     "name": "stdout",
     "output_type": "stream",
     "text": [
      "Labels counts in y: [4208 3916]\n",
      "Labels counts in y_train: [3577 3328]\n",
      "Labels counts in y_test: [631 588]\n",
      "Ratio of p and e in train set is 1: 1.0748197115384615\n",
      "Ratio of p and e in test set is 1: 1.0731292517006803\n"
     ]
    }
   ],
   "source": [
    "# To check if the label counts are splitted on the right ratio\n",
    "\n",
    "print('Labels counts in y:', np.bincount(mushroomy))\n",
    "print('Labels counts in y_train:', np.bincount(mushroomy_tv))\n",
    "print('Labels counts in y_test:', np.bincount(mushroomy_test))\n",
    "ratio_train = np.bincount(mushroomy_tv)[0]/np.bincount(mushroomy_tv)[1]\n",
    "print(\"Ratio of p and e in train set is 1:\", ratio_train)\n",
    "ratio_test = np.bincount(mushroomy_test)[0]/np.bincount(mushroomy_test)[1]\n",
    "print(\"Ratio of p and e in test set is 1:\", ratio_test)\n"
   ]
  },
  {
   "cell_type": "markdown",
   "metadata": {
    "colab_type": "text",
    "id": "3CBkFLk7_zLX"
   },
   "source": [
    "**Comments:** The output shows that the stratify parameter of train_test_split has divided the train and test split in such a way that the \"p\" and \"e\" ratio is almost equal (p:e = 1:1.07)"
   ]
  },
  {
   "cell_type": "code",
   "execution_count": null,
   "metadata": {
    "colab": {},
    "colab_type": "code",
    "id": "U4149XgL_zLY"
   },
   "outputs": [],
   "source": [
    "# Splitting the train data further into train(80%) and validation(20%)\n",
    "\n",
    "mushroomX_train, mushroomX_val, mushroomy_train, mushroomy_val = train_test_split(mushroomX_tv, mushroomy_tv, test_size=0.20, random_state=0, stratify = mushroomy_tv)"
   ]
  },
  {
   "cell_type": "markdown",
   "metadata": {
    "colab_type": "text",
    "id": "BQdCMVwscjRS"
   },
   "source": [
    "# **2. Functions for Fitting the models and Performance Metrics**"
   ]
  },
  {
   "cell_type": "markdown",
   "metadata": {
    "colab_type": "text",
    "id": "QpSmdCbt9Isg"
   },
   "source": [
    "## 2.1 Modelling"
   ]
  },
  {
   "cell_type": "code",
   "execution_count": null,
   "metadata": {
    "colab": {},
    "colab_type": "code",
    "id": "cO_COlm0a8NL"
   },
   "outputs": [],
   "source": [
    "# Importing all the neccesssary libraries for modelling \n",
    "# Though some of these libraries are not used until the models are built in section 3 - its imported as few of these are needed inside the functions that are written in this section\n",
    "# Logistic Regression and Perceptron from sklearn.linear_model\n",
    "# MLPClassifier from sklearn.neural_network\n",
    "# svm from sklearn\n",
    "# Importing CalibratedClassifierCV as perceptron and SVM models doesnt have predict_proba\n",
    "# GridSearchCV and RandomizedSearchCV to help with automated parameter tuning\n",
    "\n",
    "from sklearn.linear_model import LogisticRegression, Perceptron\n",
    "from sklearn.neural_network import MLPClassifier\n",
    "from sklearn.tree import DecisionTreeClassifier\n",
    "from sklearn import svm\n",
    "from sklearn.calibration import CalibratedClassifierCV\n",
    "from sklearn.pipeline import make_pipeline\n",
    "from sklearn.preprocessing import StandardScaler\n",
    "from sklearn.svm import SVC\n",
    "from sklearn.model_selection import GridSearchCV\n",
    "from sklearn.model_selection import RandomizedSearchCV"
   ]
  },
  {
   "cell_type": "code",
   "execution_count": null,
   "metadata": {
    "colab": {},
    "colab_type": "code",
    "id": "Bsx_upKuRk73"
   },
   "outputs": [],
   "source": [
    "# Writing a function for fitting the five classification algorithm models\n",
    "def models(X_train, y_train, y_test):\n",
    "  bl = [0 for _ in range(len(y_test))]\n",
    "  clf1 = lr.fit(X_train, y_train)\n",
    "  clf2 = dt.fit(X_train, y_train)\n",
    "  clf3 = slp\n",
    "  clf3 = CalibratedClassifierCV(clf3).fit(X_train, y_train)\n",
    "  clf4 = mlp.fit(X_train, y_train)\n",
    "  clf5 = svm\n",
    "  clf5 = CalibratedClassifierCV(clf5).fit(X_train, y_train)\n",
    "  return bl, clf1, clf2, clf3, clf4, clf5\n"
   ]
  },
  {
   "cell_type": "markdown",
   "metadata": {
    "colab_type": "text",
    "id": "IvzwKieE9OGP"
   },
   "source": [
    "## 2.2 ROC Curve"
   ]
  },
  {
   "cell_type": "code",
   "execution_count": null,
   "metadata": {
    "colab": {},
    "colab_type": "code",
    "id": "HzcPDIIfTLIJ"
   },
   "outputs": [],
   "source": [
    "# Import roc_curve and roc_auc_score from sklearn.metrics to get the ROC and AUC scores\n",
    "# Also import metrics from sklearn \n",
    "# Import pyplot from matplotlib to plot the ROC curve\n",
    "\n",
    "from sklearn import metrics\n",
    "from matplotlib import pyplot\n",
    "from sklearn.metrics import roc_curve\n",
    "from sklearn.metrics import roc_auc_score\n",
    "\n",
    "#Creating a function for plotting ROC to call it many times in the further steps\n",
    "\n",
    "def rocplot(X_test, y_test, X_train, y_train, data):\n",
    "  bl, clf1, clf2, clf3, clf4, clf5 = models(X_train, y_train, y_test)\n",
    "  # predict probabilities for different models\n",
    "  lr_probs1 = clf1.predict_proba(X_test)\n",
    "  lr_probs2 = clf2.predict_proba(X_test)\n",
    "  lr_probs3 = clf3.predict_proba(X_test)\n",
    "  lr_probs4 = clf4.predict_proba(X_test)\n",
    "  lr_probs5 = clf5.predict_proba(X_test)\n",
    "\n",
    "  # keep probabilities for the positive outcome only\n",
    "  lr_probs1 = lr_probs1[:, 1]\n",
    "  lr_probs2 = lr_probs2[:, 1]\n",
    "  lr_probs3 = lr_probs3[:, 1]\n",
    "  lr_probs4 = lr_probs4[:, 1]\n",
    "  lr_probs5 = lr_probs5[:, 1]\n",
    "\n",
    "  # calculate accuracy score for random prediction model\n",
    "  bl_auc = roc_auc_score(y_test, bl)\n",
    "\n",
    "  # calculate accuracy score different models\n",
    "  lr_auc1 = roc_auc_score(y_test, lr_probs1)\n",
    "  lr_auc2 = roc_auc_score(y_test, lr_probs2)\n",
    "  lr_auc3 = roc_auc_score(y_test, lr_probs3)\n",
    "  lr_auc4 = roc_auc_score(y_test, lr_probs4)\n",
    "  lr_auc5 = roc_auc_score(y_test, lr_probs5)\n",
    "\n",
    "  # summarize scores\n",
    "  print(100*'-')\n",
    "  print(\"The AUC scores for the default models trained on \" + str(data) + \" are as follows: \")\n",
    "  print(100*'-')\n",
    "  print('Baseline (random guess): ROC AUC=%.4f' % (bl_auc))\n",
    "  print('Logistic Regression: ROC AUC=%.4f' % (lr_auc1))\n",
    "  print('Decision Trees: ROC AUC=%.4f' % (lr_auc2))\n",
    "  print('Perceptron: ROC AUC=%.4f' % (lr_auc3))\n",
    "  print('MLP: ROC AUC=%.4f' % (lr_auc4))\n",
    "  print('SVM: ROC AUC=%.4f' % (lr_auc5))\n",
    "\n",
    "  # calculate roc curves\n",
    "  ns_fpr, ns_tpr, _ = roc_curve(y_test, bl)\n",
    "  lr_fpr1, lr_tpr1, _ = roc_curve(y_test, lr_probs1)\n",
    "  lr_fpr2, lr_tpr2, _ = roc_curve(y_test, lr_probs2)\n",
    "  lr_fpr3, lr_tpr3, _ = roc_curve(y_test, lr_probs3)\n",
    "  lr_fpr4, lr_tpr4, _ = roc_curve(y_test, lr_probs4)\n",
    "  lr_fpr5, lr_tpr5, _ = roc_curve(y_test, lr_probs5)\n",
    "\n",
    "  # Plot size\n",
    "  pyplot.figure(figsize=(10,6))\n",
    "\n",
    "  # plot the roc curve for the model\n",
    "  pyplot.plot(ns_fpr, ns_tpr, linestyle='--', label='Baseline (random guess)')\n",
    "  pyplot.plot(lr_fpr1, lr_tpr1, marker='.', label='Logistic Regression')\n",
    "  pyplot.plot(lr_fpr2, lr_tpr2, marker='.', label='Decision Trees')\n",
    "  pyplot.plot(lr_fpr3, lr_tpr3, marker='.', label='Perceptron')\n",
    "  pyplot.plot(lr_fpr4, lr_tpr4, marker='.', label='MLP')\n",
    "  pyplot.plot(lr_fpr5, lr_tpr5, marker='.', label='SVM')\n",
    "  pyplot.title('ROC Curve ' + str(data))\n",
    "  print(100*'-')\n",
    "  # show the legend\n",
    "  pyplot.legend()\n",
    "  # axis labels\n",
    "  pyplot.xlabel('False Positive Rate')\n",
    "  pyplot.ylabel('True Positive Rate')\n",
    "  # show the plot\n",
    "  return pyplot.show()\n"
   ]
  },
  {
   "cell_type": "markdown",
   "metadata": {
    "colab_type": "text",
    "id": "J_3wk8hc-QMG"
   },
   "source": [
    "## 2.3 Cross-Validation"
   ]
  },
  {
   "cell_type": "code",
   "execution_count": null,
   "metadata": {
    "colab": {},
    "colab_type": "code",
    "id": "S-O2-o8fUogs"
   },
   "outputs": [],
   "source": [
    "# Importing cross_val_score and StratifiedKFold from sklearn.model_selection for getting the accuracy score of the stratified k-fold splits where we have k or no of splits as 10\n",
    "\n",
    "from sklearn.model_selection import cross_val_score\n",
    "from sklearn.model_selection import StratifiedKFold\n",
    "\n",
    "# Writing function for getting the accuracy of the model on the train data using stratified k-fold cross validation and presenting all the accuracies through a box plot\n",
    "def cv(X_train, y_train, y_test, data):\n",
    "  bl, clf1, clf2, clf3, clf4, clf5 = models(X_train, y_train, y_test)\n",
    "  modelscv = []\n",
    "  #modelscv.append(('Baseline Model', rand))\n",
    "  modelscv.append(('Logistic Regression', clf1))\n",
    "  modelscv.append(('Decision Tree', clf2))\n",
    "  modelscv.append(('Perceptron', clf3))\n",
    "  modelscv.append(('MLP', clf4))\n",
    "  modelscv.append(('SVM', clf5))\n",
    "  results = []\n",
    "  names = []\n",
    "  print(90*'-')\n",
    "  print ('\\t \\t \\t \\t \\t ON ' + str(data))\n",
    "  print(90*'-')\n",
    "  for name, model in modelscv:\n",
    "\t  kfold = StratifiedKFold(n_splits=10)  #The number of folds are 10\n",
    "\t  cv_results = cross_val_score(model, X_train, y_train, cv=kfold, scoring='accuracy')\n",
    "\t  results.append(cv_results)\n",
    "\t  names.append(name)\n",
    "\t  print('%s: Average Accuracy is %f and standard deviation is %f' % (name, cv_results.mean(), cv_results.std()))\n",
    "  print(90*'-') \n",
    "  # Compare Algorithms\n",
    "  pyplot.figure(figsize=(10,7))\n",
    "  pyplot.boxplot(results, labels=names)\n",
    "  pyplot.xticks(rotation = 90)\n",
    "  pyplot.title('10-fold cross-validation on ' + str(data) + ' dataset')\n",
    "  return pyplot.show()"
   ]
  },
  {
   "cell_type": "markdown",
   "metadata": {
    "colab_type": "text",
    "id": "1CfDnrQWMUrl"
   },
   "source": [
    "## 2.4 Accuracy Score"
   ]
  },
  {
   "cell_type": "code",
   "execution_count": null,
   "metadata": {
    "colab": {},
    "colab_type": "code",
    "id": "cWVHFaR2FAEI"
   },
   "outputs": [],
   "source": [
    "# A function for getting the accuracy of all the models trained\n",
    "\n",
    "def accuracy(X_train, y_train, X_val, y_val, X_test, y_test, data):\n",
    "  bl, clf1, clf2, clf3, clf4, clf5 = models(X_train, y_train, y_test)\n",
    "  modelscv = []\n",
    "  #modelscv.append(('Baseline Model', bl))\n",
    "  modelscv.append(('Logistic Regression', clf1))\n",
    "  modelscv.append(('Decision Tree', clf2))\n",
    "  modelscv.append(('Perceptron', clf3))\n",
    "  modelscv.append(('MLP', clf4))\n",
    "  modelscv.append(('SVM', clf5))\n",
    "  print(100*'-')\n",
    "  print(\" \\t \\t \\t \\t Accuracy Score on \" + str(data))\n",
    "  print(100*'-')\n",
    "  for name, model in modelscv:\n",
    "    train_acc = model.score(X_train, y_train)\n",
    "    val_acc = model.score(X_val, y_val)\n",
    "    test_acc = model.score(X_test, y_test)\n",
    "    print('%s: on train set = %f, on validation set = %f, on test set = %f' % (name, train_acc, val_acc, test_acc))\n",
    "    print(100*'-')"
   ]
  },
  {
   "cell_type": "markdown",
   "metadata": {
    "colab_type": "text",
    "id": "AyW9GJTXMZsN"
   },
   "source": [
    "## 2.5 Confusion Matrix\n",
    "\n"
   ]
  },
  {
   "cell_type": "code",
   "execution_count": null,
   "metadata": {
    "colab": {},
    "colab_type": "code",
    "id": "tyHVsaUmMTPI"
   },
   "outputs": [],
   "source": [
    "from sklearn.metrics import confusion_matrix\n",
    "\n",
    "def cm(X_train, y_train, X_val, y_val, X_test, y_test, data):\n",
    "  bl, clf1, clf2, clf3, clf4, clf5 = models(X_train, y_train, y_test)\n",
    "  modelscv = []\n",
    "  #modelscv.append(('Baseline Model', bl))\n",
    "  modelscv.append(('Logistic Regression', clf1))\n",
    "  modelscv.append(('Decision Tree', clf2))\n",
    "  modelscv.append(('Perceptron', clf3))\n",
    "  modelscv.append(('MLP', clf4))\n",
    "  modelscv.append(('SVM', clf5))\n",
    "  print(30*'-')\n",
    "  print('  Confusion Matrix - ' + str(data))\n",
    "  print(30*'-')\n",
    "  for name, model in modelscv:\n",
    "    train_cm = confusion_matrix(y_true=y_train, y_pred=model.predict(X_train))\n",
    "    val_cm = confusion_matrix(y_true=y_val, y_pred=model.predict(X_val))\n",
    "    test_cm = confusion_matrix(y_true=y_test, y_pred=model.predict(X_test))\n",
    "    print('%s Model: \\n train set: \\n %s \\n validation set: \\n %s \\n test set: \\n %s' % (name, train_cm, val_cm, test_cm))\n",
    "    print(30*'-')"
   ]
  },
  {
   "cell_type": "markdown",
   "metadata": {
    "colab_type": "text",
    "id": "hvXqGsQKQESU"
   },
   "source": [
    "## 2.6 Classification Report"
   ]
  },
  {
   "cell_type": "code",
   "execution_count": null,
   "metadata": {
    "colab": {},
    "colab_type": "code",
    "id": "1Z24AVZZS9VC"
   },
   "outputs": [],
   "source": [
    "from sklearn.metrics import classification_report\n",
    "\n",
    "def cr(X_train, y_train, X_val, y_val, X_test, y_test, data):\n",
    "  bl, clf1, clf2, clf3, clf4, clf5 = models(X_train, y_train, y_test)\n",
    "  modelscv = []\n",
    "  #modelscv.append(('Baseline Model', bl))\n",
    "  modelscv.append(('Logistic Regression', clf1))\n",
    "  modelscv.append(('Decision Tree', clf2))\n",
    "  modelscv.append(('Perceptron', clf3))\n",
    "  modelscv.append(('MLP', clf4))\n",
    "  modelscv.append(('SVM', clf5))\n",
    "  print(70*'-')\n",
    "  print('\\t \\t    Classification Report - ' + str(data))\n",
    "  print(70*'-')\n",
    "  for name, model in modelscv:\n",
    "    train_cr = classification_report(y_true=y_train, y_pred=model.predict(X_train))\n",
    "    val_cr = classification_report(y_true=y_val, y_pred=model.predict(X_val))\n",
    "    test_cr = classification_report(y_true=y_test, y_pred=model.predict(X_test))\n",
    "    print('\\t \\t \\t %s: \\n ON TRAIN SET: \\n %s \\n ON VALIDATION SET: \\n %s \\n ON TEST SET: \\n %s' % (name, train_cr, val_cr, test_cr))\n",
    "    print(70*'-')"
   ]
  },
  {
   "cell_type": "markdown",
   "metadata": {
    "colab_type": "text",
    "id": "95twLPTK-Pbk"
   },
   "source": [
    "## 2.7 Automated Tuning"
   ]
  },
  {
   "cell_type": "code",
   "execution_count": null,
   "metadata": {
    "colab": {},
    "colab_type": "code",
    "id": "btvfKTje-an4"
   },
   "outputs": [],
   "source": [
    "# Function for Grid Search and Random Search method which can be called for tuning parameters automatically using GridSearchCV() and RandomizedSearchCV\n",
    "# For the given model, the below function returns the tuned parameters mentioned in a grid of dictionary type and the accuracy after cross-validation\n",
    "def gridsearch(model, X_train, y_train, data):\n",
    "  model=GridSearchCV(model,grid,cv=5)\n",
    "  model = model.fit(X_train,y_train)\n",
    "  print(100*'-')\n",
    "  print(\"On \" + str(data))\n",
    "  print(100*'-')\n",
    "  print(\"Best Parameters with Grid Search: \",model.best_params_)\n",
    "  print(\"Accuracy after Cross-Validation: \",model.best_score_)\n",
    "  print(100*'-')\n",
    "  print()\n",
    "\n",
    "# For the given model, the below function returns the tuned parameters mentioned in a grid of dictionary type and the accuracy\n",
    "def randomsearch(model, X_train, y_train, data):\n",
    "  model = RandomizedSearchCV(model, grid,  n_iter = 20)\n",
    "  model = model.fit(X_train, y_train)\n",
    "  print(100*'-')\n",
    "  print(\"On \" + str(data))\n",
    "  print(100*'-')\n",
    "  print(\"Best Parameters with Random Search: \", model.best_params_)\n",
    "  print(\"Accuracy: \", model.best_score_)\n",
    "  print(100*'-')\n",
    "  print()"
   ]
  },
  {
   "cell_type": "markdown",
   "metadata": {
    "colab_type": "text",
    "id": "-i_KE5NWgZku"
   },
   "source": [
    "**Comments:** Eight functions are written which can be called later for:\n",
    "\n",
    "1. Fitting the models \n",
    "\n",
    "2. Getting AUC values and plotting ROC curves for the fitted models \n",
    "\n",
    "3. Getting the average accuracy for k-fold train sets and plotting all the accuracies returned by the k-fold models in a box plot\n",
    "\n",
    "4. Accuracy score for all the models\n",
    "\n",
    "5. Confusion Matrix for all the models\n",
    "\n",
    "6. Classification Report for all the models\n",
    "\n",
    "7. Grid Search - returns optimum values for the mentioned parameters \n",
    "\n",
    "8. Randomized Search - returns optimum values for the mentioned parameters "
   ]
  },
  {
   "cell_type": "markdown",
   "metadata": {
    "colab_type": "text",
    "id": "jj_7wN42c7KK"
   },
   "source": [
    "# **3. Evaluation and Comparison of the default models** "
   ]
  },
  {
   "cell_type": "markdown",
   "metadata": {
    "colab_type": "text",
    "id": "loo0WFmL-kjA"
   },
   "source": [
    "**Modelling Classification Algorithms with default Parameter values**\n",
    "\n",
    "---\n",
    "Logistic Regression \n",
    "    \n",
    "Decision Trees\n",
    "\n",
    "Perceptron\n",
    "\n",
    "Multi Layer Perceptron\n",
    "\n",
    "Support Vector Machines\n",
    "\n",
    " \n",
    "---\n",
    "\n"
   ]
  },
  {
   "cell_type": "code",
   "execution_count": null,
   "metadata": {
    "colab": {},
    "colab_type": "code",
    "id": "TbEMJtr76kLp"
   },
   "outputs": [],
   "source": [
    "# Calling the default Algorithm models and storing them in relevant variables that gets called further in a function\n",
    "\n",
    "lr = LogisticRegression()\n",
    "dt = DecisionTreeClassifier()\n",
    "slp = Perceptron()\n",
    "mlp = MLPClassifier()\n",
    "svm = make_pipeline(StandardScaler(), SVC())"
   ]
  },
  {
   "cell_type": "markdown",
   "metadata": {
    "colab_type": "text",
    "id": "HzGHAjfeqMWW"
   },
   "source": [
    "## 3.1 ROC Curve"
   ]
  },
  {
   "cell_type": "code",
   "execution_count": null,
   "metadata": {
    "colab": {
     "base_uri": "https://localhost:8080/",
     "height": 1000
    },
    "colab_type": "code",
    "id": "KeFek837-cOz",
    "outputId": "1c7d21c2-ff89-4703-8cb8-b440c09c60e0"
   },
   "outputs": [
    {
     "name": "stdout",
     "output_type": "stream",
     "text": [
      "----------------------------------------------------------------------------------------------------\n",
      "The AUC scores for the default models trained on IBM are as follows: \n",
      "----------------------------------------------------------------------------------------------------\n",
      "Baseline (random guess): ROC AUC=0.5000\n",
      "Logistic Regression: ROC AUC=0.7021\n",
      "Decision Trees: ROC AUC=0.5605\n",
      "Perceptron: ROC AUC=0.5000\n",
      "MLP: ROC AUC=0.5471\n",
      "SVM: ROC AUC=0.8086\n",
      "----------------------------------------------------------------------------------------------------\n"
     ]
    },
    {
     "data": {
      "image/png": "[encoded data removed]",
      "text/plain": [
       "<Figure size 720x432 with 1 Axes>"
      ]
     },
     "metadata": {
      "needs_background": "light",
      "tags": []
     },
     "output_type": "display_data"
    },
    {
     "name": "stdout",
     "output_type": "stream",
     "text": [
      "\n",
      "----------------------------------------------------------------------------------------------------\n",
      "The AUC scores for the default models trained on Mushroom are as follows: \n",
      "----------------------------------------------------------------------------------------------------\n",
      "Baseline (random guess): ROC AUC=0.5000\n",
      "Logistic Regression: ROC AUC=0.9749\n",
      "Decision Trees: ROC AUC=1.0000\n",
      "Perceptron: ROC AUC=0.9722\n",
      "MLP: ROC AUC=1.0000\n",
      "SVM: ROC AUC=1.0000\n",
      "----------------------------------------------------------------------------------------------------\n"
     ]
    },
    {
     "data": {
      "image/png": "[encoded data removed]",
      "text/plain": [
       "<Figure size 720x432 with 1 Axes>"
      ]
     },
     "metadata": {
      "needs_background": "light",
      "tags": []
     },
     "output_type": "display_data"
    }
   ],
   "source": [
    "# To hide all the warnings for a neat presentation\n",
    "import warnings\n",
    "warnings.filterwarnings('ignore')\n",
    "#warnings.filterwarnings(action='once') # uncomment to display the warnings once adn not repeatedly and comment the line just above\n",
    "\n",
    "# ROC for default models on IBM and Mushroom\n",
    "rocplot(IbmX_test, Ibmy_test, IbmX_train, Ibmy_train, \"IBM\")\n",
    "print()\n",
    "rocplot(mushroomX_test, mushroomy_test, mushroomX_train, mushroomy_train, \"Mushroom\")\n",
    "\n"
   ]
  },
  {
   "cell_type": "markdown",
   "metadata": {
    "colab_type": "text",
    "id": "dDI5XsAmpSVM"
   },
   "source": [
    "**Insights**: With default parameter values only Logistic Regression performed better with 0.70 AUC score (the model's capability of distinguishing classes) and all other algorithms are not any better than the baseline model(random prediction) having AUC score only around 0.5"
   ]
  },
  {
   "cell_type": "markdown",
   "metadata": {
    "colab_type": "text",
    "id": "tCAana4gqSr2"
   },
   "source": [
    "## 3.2 Cross-Validation"
   ]
  },
  {
   "cell_type": "code",
   "execution_count": null,
   "metadata": {
    "colab": {
     "base_uri": "https://localhost:8080/",
     "height": 1000
    },
    "colab_type": "code",
    "id": "WVJTCtYS_vEn",
    "outputId": "a174e119-766a-4e59-bd18-cf1ca2120155"
   },
   "outputs": [
    {
     "name": "stdout",
     "output_type": "stream",
     "text": [
      "------------------------------------------------------------------------------------------\n",
      "\t \t \t \t \t ON IBM\n",
      "------------------------------------------------------------------------------------------\n",
      "Logistic Regression: Average Accuracy is 0.840838 and standard deviation is 0.005437\n",
      "Decision Tree: Average Accuracy is 0.803838 and standard deviation is 0.028153\n",
      "Perceptron: Average Accuracy is 0.838838 and standard deviation is 0.002985\n",
      "MLP: Average Accuracy is 0.780838 and standard deviation is 0.124138\n",
      "SVM: Average Accuracy is 0.877899 and standard deviation is 0.025916\n",
      "------------------------------------------------------------------------------------------\n"
     ]
    },
    {
     "data": {
      "image/png": "[encoded data removed]",
      "text/plain": [
       "<Figure size 720x504 with 1 Axes>"
      ]
     },
     "metadata": {
      "needs_background": "light",
      "tags": []
     },
     "output_type": "display_data"
    },
    {
     "name": "stdout",
     "output_type": "stream",
     "text": [
      "\n",
      "------------------------------------------------------------------------------------------\n",
      "\t \t \t \t \t ON MUSHROOM\n",
      "------------------------------------------------------------------------------------------\n",
      "Logistic Regression: Average Accuracy is 0.948229 and standard deviation is 0.011351\n",
      "Decision Tree: Average Accuracy is 1.000000 and standard deviation is 0.000000\n",
      "Perceptron: Average Accuracy is 0.944247 and standard deviation is 0.009890\n",
      "MLP: Average Accuracy is 1.000000 and standard deviation is 0.000000\n",
      "SVM: Average Accuracy is 1.000000 and standard deviation is 0.000000\n",
      "------------------------------------------------------------------------------------------\n"
     ]
    },
    {
     "data": {
      "image/png": "[encoded data removed]",
      "text/plain": [
       "<Figure size 720x504 with 1 Axes>"
      ]
     },
     "metadata": {
      "needs_background": "light",
      "tags": []
     },
     "output_type": "display_data"
    }
   ],
   "source": [
    "# Evaluation of the default models using the performance metric Crossvalidation for IBM and mushroom\n",
    "\n",
    "cv(IbmX_train, Ibmy_train, Ibmy_test, \"IBM\")\n",
    "print()\n",
    "cv(mushroomX_train, mushroomy_train, mushroomy_test, \"MUSHROOM\")"
   ]
  },
  {
   "cell_type": "markdown",
   "metadata": {
    "colab_type": "text",
    "id": "oTxkQOlQvMxR"
   },
   "source": [
    "**Comments:** #To be included"
   ]
  },
  {
   "cell_type": "markdown",
   "metadata": {
    "colab_type": "text",
    "id": "V7pUJHumNB4E"
   },
   "source": [
    "## 3.3 Accuracy Score"
   ]
  },
  {
   "cell_type": "code",
   "execution_count": null,
   "metadata": {
    "colab": {
     "base_uri": "https://localhost:8080/",
     "height": 476
    },
    "colab_type": "code",
    "id": "BNjWF6pSRuuU",
    "outputId": "aa134dad-d9a6-4eb9-d3aa-239aeb6fe51d"
   },
   "outputs": [
    {
     "name": "stdout",
     "output_type": "stream",
     "text": [
      "----------------------------------------------------------------------------------------------------\n",
      " \t \t \t \t Accuracy Score on IBM\n",
      "----------------------------------------------------------------------------------------------------\n",
      "Logistic Regression: on train set = 0.837838, on validation set = 0.840000, on test set = 0.841629\n",
      "----------------------------------------------------------------------------------------------------\n",
      "Decision Tree: on train set = 1.000000, on validation set = 0.796000, on test set = 0.742081\n",
      "----------------------------------------------------------------------------------------------------\n",
      "Perceptron: on train set = 0.838839, on validation set = 0.840000, on test set = 0.837104\n",
      "----------------------------------------------------------------------------------------------------\n",
      "MLP: on train set = 0.571572, on validation set = 0.548000, on test set = 0.538462\n",
      "----------------------------------------------------------------------------------------------------\n",
      "SVM: on train set = 0.933934, on validation set = 0.848000, on test set = 0.855204\n",
      "----------------------------------------------------------------------------------------------------\n",
      "\n",
      "----------------------------------------------------------------------------------------------------\n",
      " \t \t \t \t Accuracy Score on MUSHROOM\n",
      "----------------------------------------------------------------------------------------------------\n",
      "Logistic Regression: on train set = 0.948045, on validation set = 0.944243, on test set = 0.945037\n",
      "----------------------------------------------------------------------------------------------------\n",
      "Decision Tree: on train set = 1.000000, on validation set = 1.000000, on test set = 1.000000\n",
      "----------------------------------------------------------------------------------------------------\n",
      "Perceptron: on train set = 0.948407, on validation set = 0.943519, on test set = 0.941756\n",
      "----------------------------------------------------------------------------------------------------\n",
      "MLP: on train set = 1.000000, on validation set = 1.000000, on test set = 1.000000\n",
      "----------------------------------------------------------------------------------------------------\n",
      "SVM: on train set = 1.000000, on validation set = 1.000000, on test set = 1.000000\n",
      "----------------------------------------------------------------------------------------------------\n"
     ]
    }
   ],
   "source": [
    "# Accuracy Score for all the default models on IBM and Mushroom dataset\n",
    "\n",
    "accuracy(IbmX_train, Ibmy_train, IbmX_val, Ibmy_val, IbmX_test, Ibmy_test, 'IBM')\n",
    "print ()\n",
    "accuracy(mushroomX_train, mushroomy_train, mushroomX_val, mushroomy_val, mushroomX_test, mushroomy_test, 'MUSHROOM')"
   ]
  },
  {
   "cell_type": "markdown",
   "metadata": {
    "colab_type": "text",
    "id": "7n6GXlD9NFlz"
   },
   "source": [
    "## 3.4 Confusion Matrix"
   ]
  },
  {
   "cell_type": "code",
   "execution_count": null,
   "metadata": {
    "colab": {
     "base_uri": "https://localhost:8080/",
     "height": 1000
    },
    "colab_type": "code",
    "id": "Txg1v5NQQHIe",
    "outputId": "0c987647-a7cb-4fd0-cb2a-9401f3073ff8"
   },
   "outputs": [
    {
     "name": "stdout",
     "output_type": "stream",
     "text": [
      "------------------------------\n",
      "  Confusion Matrix - IBM\n",
      "------------------------------\n",
      "Logistic Regression Model: \n",
      " train set: \n",
      " [[837   1]\n",
      " [161   0]] \n",
      " validation set: \n",
      " [[210   0]\n",
      " [ 40   0]] \n",
      " test set: \n",
      " [[185   0]\n",
      " [ 35   1]]\n",
      "------------------------------\n",
      "Decision Tree Model: \n",
      " train set: \n",
      " [[838   0]\n",
      " [  0 161]] \n",
      " validation set: \n",
      " [[181  29]\n",
      " [ 27  13]] \n",
      " test set: \n",
      " [[155  30]\n",
      " [ 26  10]]\n",
      "------------------------------\n",
      "Perceptron Model: \n",
      " train set: \n",
      " [[838   0]\n",
      " [161   0]] \n",
      " validation set: \n",
      " [[210   0]\n",
      " [ 40   0]] \n",
      " test set: \n",
      " [[185   0]\n",
      " [ 36   0]]\n",
      "------------------------------\n",
      "MLP Model: \n",
      " train set: \n",
      " [[838   0]\n",
      " [161   0]] \n",
      " validation set: \n",
      " [[210   0]\n",
      " [ 40   0]] \n",
      " test set: \n",
      " [[185   0]\n",
      " [ 36   0]]\n",
      "------------------------------\n",
      "SVM Model: \n",
      " train set: \n",
      " [[837   1]\n",
      " [ 65  96]] \n",
      " validation set: \n",
      " [[203   7]\n",
      " [ 31   9]] \n",
      " test set: \n",
      " [[181   4]\n",
      " [ 28   8]]\n",
      "------------------------------\n",
      "----------------------------------------------------------------------------------------------------\n",
      "------------------------------\n",
      "  Confusion Matrix - Mushroom\n",
      "------------------------------\n",
      "Logistic Regression Model: \n",
      " train set: \n",
      " [[2751  111]\n",
      " [ 176 2486]] \n",
      " validation set: \n",
      " [[689  26]\n",
      " [ 51 615]] \n",
      " test set: \n",
      " [[602  29]\n",
      " [ 38 550]]\n",
      "------------------------------\n",
      "Decision Tree Model: \n",
      " train set: \n",
      " [[2862    0]\n",
      " [   0 2662]] \n",
      " validation set: \n",
      " [[715   0]\n",
      " [  0 666]] \n",
      " test set: \n",
      " [[631   0]\n",
      " [  0 588]]\n",
      "------------------------------\n",
      "Perceptron Model: \n",
      " train set: \n",
      " [[2746  116]\n",
      " [ 169 2493]] \n",
      " validation set: \n",
      " [[687  28]\n",
      " [ 50 616]] \n",
      " test set: \n",
      " [[602  29]\n",
      " [ 42 546]]\n",
      "------------------------------\n",
      "MLP Model: \n",
      " train set: \n",
      " [[2862    0]\n",
      " [   0 2662]] \n",
      " validation set: \n",
      " [[715   0]\n",
      " [  0 666]] \n",
      " test set: \n",
      " [[631   0]\n",
      " [  0 588]]\n",
      "------------------------------\n",
      "SVM Model: \n",
      " train set: \n",
      " [[2862    0]\n",
      " [   0 2662]] \n",
      " validation set: \n",
      " [[715   0]\n",
      " [  0 666]] \n",
      " test set: \n",
      " [[631   0]\n",
      " [  0 588]]\n",
      "------------------------------\n"
     ]
    }
   ],
   "source": [
    "# Confusion Matrix for all the default models on IBM and Mushroom dataset\n",
    " \n",
    "cm(IbmX_train, Ibmy_train, IbmX_val, Ibmy_val, IbmX_test, Ibmy_test, 'IBM')\n",
    "print(100*'-')\n",
    "cm(mushroomX_train, mushroomy_train, mushroomX_val, mushroomy_val, mushroomX_test, mushroomy_test, 'Mushroom')"
   ]
  },
  {
   "cell_type": "markdown",
   "metadata": {
    "colab_type": "text",
    "id": "IqziBzj5UMos"
   },
   "source": [
    "## 3.5 Classification Report"
   ]
  },
  {
   "cell_type": "code",
   "execution_count": null,
   "metadata": {
    "colab": {
     "base_uri": "https://localhost:8080/",
     "height": 1000
    },
    "colab_type": "code",
    "id": "IkpizkzKTooF",
    "outputId": "4d75ec60-bf48-4a8b-965d-3878924da083"
   },
   "outputs": [
    {
     "name": "stdout",
     "output_type": "stream",
     "text": [
      "----------------------------------------------------------------------\n",
      "\t \t    Classification Report - IBM\n",
      "----------------------------------------------------------------------\n",
      "\t \t \t Logistic Regression: \n",
      " ON TRAIN SET: \n",
      "               precision    recall  f1-score   support\n",
      "\n",
      "           0       0.84      1.00      0.91       838\n",
      "           1       0.00      0.00      0.00       161\n",
      "\n",
      "    accuracy                           0.84       999\n",
      "   macro avg       0.42      0.50      0.46       999\n",
      "weighted avg       0.70      0.84      0.76       999\n",
      " \n",
      " ON VALIDATION SET: \n",
      "               precision    recall  f1-score   support\n",
      "\n",
      "           0       0.84      1.00      0.91       210\n",
      "           1       0.00      0.00      0.00        40\n",
      "\n",
      "    accuracy                           0.84       250\n",
      "   macro avg       0.42      0.50      0.46       250\n",
      "weighted avg       0.71      0.84      0.77       250\n",
      " \n",
      " ON TEST SET: \n",
      "               precision    recall  f1-score   support\n",
      "\n",
      "           0       0.84      1.00      0.91       185\n",
      "           1       1.00      0.03      0.05        36\n",
      "\n",
      "    accuracy                           0.84       221\n",
      "   macro avg       0.92      0.51      0.48       221\n",
      "weighted avg       0.87      0.84      0.77       221\n",
      "\n",
      "----------------------------------------------------------------------\n",
      "\t \t \t Decision Tree: \n",
      " ON TRAIN SET: \n",
      "               precision    recall  f1-score   support\n",
      "\n",
      "           0       1.00      1.00      1.00       838\n",
      "           1       1.00      1.00      1.00       161\n",
      "\n",
      "    accuracy                           1.00       999\n",
      "   macro avg       1.00      1.00      1.00       999\n",
      "weighted avg       1.00      1.00      1.00       999\n",
      " \n",
      " ON VALIDATION SET: \n",
      "               precision    recall  f1-score   support\n",
      "\n",
      "           0       0.88      0.87      0.88       210\n",
      "           1       0.36      0.40      0.38        40\n",
      "\n",
      "    accuracy                           0.79       250\n",
      "   macro avg       0.62      0.63      0.63       250\n",
      "weighted avg       0.80      0.79      0.80       250\n",
      " \n",
      " ON TEST SET: \n",
      "               precision    recall  f1-score   support\n",
      "\n",
      "           0       0.86      0.85      0.85       185\n",
      "           1       0.26      0.28      0.27        36\n",
      "\n",
      "    accuracy                           0.76       221\n",
      "   macro avg       0.56      0.56      0.56       221\n",
      "weighted avg       0.76      0.76      0.76       221\n",
      "\n",
      "----------------------------------------------------------------------\n",
      "\t \t \t Perceptron: \n",
      " ON TRAIN SET: \n",
      "               precision    recall  f1-score   support\n",
      "\n",
      "           0       0.84      1.00      0.91       838\n",
      "           1       0.00      0.00      0.00       161\n",
      "\n",
      "    accuracy                           0.84       999\n",
      "   macro avg       0.42      0.50      0.46       999\n",
      "weighted avg       0.70      0.84      0.77       999\n",
      " \n",
      " ON VALIDATION SET: \n",
      "               precision    recall  f1-score   support\n",
      "\n",
      "           0       0.84      1.00      0.91       210\n",
      "           1       0.00      0.00      0.00        40\n",
      "\n",
      "    accuracy                           0.84       250\n",
      "   macro avg       0.42      0.50      0.46       250\n",
      "weighted avg       0.71      0.84      0.77       250\n",
      " \n",
      " ON TEST SET: \n",
      "               precision    recall  f1-score   support\n",
      "\n",
      "           0       0.84      1.00      0.91       185\n",
      "           1       0.00      0.00      0.00        36\n",
      "\n",
      "    accuracy                           0.84       221\n",
      "   macro avg       0.42      0.50      0.46       221\n",
      "weighted avg       0.70      0.84      0.76       221\n",
      "\n",
      "----------------------------------------------------------------------\n",
      "\t \t \t MLP: \n",
      " ON TRAIN SET: \n",
      "               precision    recall  f1-score   support\n",
      "\n",
      "           0       0.84      1.00      0.91       838\n",
      "           1       0.00      0.00      0.00       161\n",
      "\n",
      "    accuracy                           0.84       999\n",
      "   macro avg       0.42      0.50      0.46       999\n",
      "weighted avg       0.70      0.84      0.77       999\n",
      " \n",
      " ON VALIDATION SET: \n",
      "               precision    recall  f1-score   support\n",
      "\n",
      "           0       0.84      1.00      0.91       210\n",
      "           1       0.00      0.00      0.00        40\n",
      "\n",
      "    accuracy                           0.84       250\n",
      "   macro avg       0.42      0.50      0.46       250\n",
      "weighted avg       0.71      0.84      0.77       250\n",
      " \n",
      " ON TEST SET: \n",
      "               precision    recall  f1-score   support\n",
      "\n",
      "           0       0.84      1.00      0.91       185\n",
      "           1       0.00      0.00      0.00        36\n",
      "\n",
      "    accuracy                           0.84       221\n",
      "   macro avg       0.42      0.50      0.46       221\n",
      "weighted avg       0.70      0.84      0.76       221\n",
      "\n",
      "----------------------------------------------------------------------\n",
      "\t \t \t SVM: \n",
      " ON TRAIN SET: \n",
      "               precision    recall  f1-score   support\n",
      "\n",
      "           0       0.93      1.00      0.96       838\n",
      "           1       0.99      0.60      0.74       161\n",
      "\n",
      "    accuracy                           0.93       999\n",
      "   macro avg       0.96      0.80      0.85       999\n",
      "weighted avg       0.94      0.93      0.93       999\n",
      " \n",
      " ON VALIDATION SET: \n",
      "               precision    recall  f1-score   support\n",
      "\n",
      "           0       0.87      0.97      0.91       210\n",
      "           1       0.56      0.23      0.32        40\n",
      "\n",
      "    accuracy                           0.85       250\n",
      "   macro avg       0.72      0.60      0.62       250\n",
      "weighted avg       0.82      0.85      0.82       250\n",
      " \n",
      " ON TEST SET: \n",
      "               precision    recall  f1-score   support\n",
      "\n",
      "           0       0.87      0.98      0.92       185\n",
      "           1       0.67      0.22      0.33        36\n",
      "\n",
      "    accuracy                           0.86       221\n",
      "   macro avg       0.77      0.60      0.63       221\n",
      "weighted avg       0.83      0.86      0.82       221\n",
      "\n",
      "----------------------------------------------------------------------\n",
      "----------------------------------------------------------------------------------------------------\n",
      "----------------------------------------------------------------------\n",
      "\t \t    Classification Report - Mushroom\n",
      "----------------------------------------------------------------------\n",
      "\t \t \t Logistic Regression: \n",
      " ON TRAIN SET: \n",
      "               precision    recall  f1-score   support\n",
      "\n",
      "           0       0.94      0.96      0.95      2862\n",
      "           1       0.96      0.93      0.95      2662\n",
      "\n",
      "    accuracy                           0.95      5524\n",
      "   macro avg       0.95      0.95      0.95      5524\n",
      "weighted avg       0.95      0.95      0.95      5524\n",
      " \n",
      " ON VALIDATION SET: \n",
      "               precision    recall  f1-score   support\n",
      "\n",
      "           0       0.93      0.96      0.95       715\n",
      "           1       0.96      0.92      0.94       666\n",
      "\n",
      "    accuracy                           0.94      1381\n",
      "   macro avg       0.95      0.94      0.94      1381\n",
      "weighted avg       0.94      0.94      0.94      1381\n",
      " \n",
      " ON TEST SET: \n",
      "               precision    recall  f1-score   support\n",
      "\n",
      "           0       0.94      0.95      0.95       631\n",
      "           1       0.95      0.94      0.94       588\n",
      "\n",
      "    accuracy                           0.95      1219\n",
      "   macro avg       0.95      0.94      0.94      1219\n",
      "weighted avg       0.95      0.95      0.95      1219\n",
      "\n",
      "----------------------------------------------------------------------\n",
      "\t \t \t Decision Tree: \n",
      " ON TRAIN SET: \n",
      "               precision    recall  f1-score   support\n",
      "\n",
      "           0       1.00      1.00      1.00      2862\n",
      "           1       1.00      1.00      1.00      2662\n",
      "\n",
      "    accuracy                           1.00      5524\n",
      "   macro avg       1.00      1.00      1.00      5524\n",
      "weighted avg       1.00      1.00      1.00      5524\n",
      " \n",
      " ON VALIDATION SET: \n",
      "               precision    recall  f1-score   support\n",
      "\n",
      "           0       1.00      1.00      1.00       715\n",
      "           1       1.00      1.00      1.00       666\n",
      "\n",
      "    accuracy                           1.00      1381\n",
      "   macro avg       1.00      1.00      1.00      1381\n",
      "weighted avg       1.00      1.00      1.00      1381\n",
      " \n",
      " ON TEST SET: \n",
      "               precision    recall  f1-score   support\n",
      "\n",
      "           0       1.00      1.00      1.00       631\n",
      "           1       1.00      1.00      1.00       588\n",
      "\n",
      "    accuracy                           1.00      1219\n",
      "   macro avg       1.00      1.00      1.00      1219\n",
      "weighted avg       1.00      1.00      1.00      1219\n",
      "\n",
      "----------------------------------------------------------------------\n",
      "\t \t \t Perceptron: \n",
      " ON TRAIN SET: \n",
      "               precision    recall  f1-score   support\n",
      "\n",
      "           0       0.94      0.96      0.95      2862\n",
      "           1       0.96      0.94      0.95      2662\n",
      "\n",
      "    accuracy                           0.95      5524\n",
      "   macro avg       0.95      0.95      0.95      5524\n",
      "weighted avg       0.95      0.95      0.95      5524\n",
      " \n",
      " ON VALIDATION SET: \n",
      "               precision    recall  f1-score   support\n",
      "\n",
      "           0       0.93      0.96      0.95       715\n",
      "           1       0.96      0.92      0.94       666\n",
      "\n",
      "    accuracy                           0.94      1381\n",
      "   macro avg       0.94      0.94      0.94      1381\n",
      "weighted avg       0.94      0.94      0.94      1381\n",
      " \n",
      " ON TEST SET: \n",
      "               precision    recall  f1-score   support\n",
      "\n",
      "           0       0.93      0.95      0.94       631\n",
      "           1       0.95      0.93      0.94       588\n",
      "\n",
      "    accuracy                           0.94      1219\n",
      "   macro avg       0.94      0.94      0.94      1219\n",
      "weighted avg       0.94      0.94      0.94      1219\n",
      "\n",
      "----------------------------------------------------------------------\n",
      "\t \t \t MLP: \n",
      " ON TRAIN SET: \n",
      "               precision    recall  f1-score   support\n",
      "\n",
      "           0       1.00      1.00      1.00      2862\n",
      "           1       1.00      1.00      1.00      2662\n",
      "\n",
      "    accuracy                           1.00      5524\n",
      "   macro avg       1.00      1.00      1.00      5524\n",
      "weighted avg       1.00      1.00      1.00      5524\n",
      " \n",
      " ON VALIDATION SET: \n",
      "               precision    recall  f1-score   support\n",
      "\n",
      "           0       1.00      1.00      1.00       715\n",
      "           1       1.00      1.00      1.00       666\n",
      "\n",
      "    accuracy                           1.00      1381\n",
      "   macro avg       1.00      1.00      1.00      1381\n",
      "weighted avg       1.00      1.00      1.00      1381\n",
      " \n",
      " ON TEST SET: \n",
      "               precision    recall  f1-score   support\n",
      "\n",
      "           0       1.00      1.00      1.00       631\n",
      "           1       1.00      1.00      1.00       588\n",
      "\n",
      "    accuracy                           1.00      1219\n",
      "   macro avg       1.00      1.00      1.00      1219\n",
      "weighted avg       1.00      1.00      1.00      1219\n",
      "\n",
      "----------------------------------------------------------------------\n",
      "\t \t \t SVM: \n",
      " ON TRAIN SET: \n",
      "               precision    recall  f1-score   support\n",
      "\n",
      "           0       1.00      1.00      1.00      2862\n",
      "           1       1.00      1.00      1.00      2662\n",
      "\n",
      "    accuracy                           1.00      5524\n",
      "   macro avg       1.00      1.00      1.00      5524\n",
      "weighted avg       1.00      1.00      1.00      5524\n",
      " \n",
      " ON VALIDATION SET: \n",
      "               precision    recall  f1-score   support\n",
      "\n",
      "           0       1.00      1.00      1.00       715\n",
      "           1       1.00      1.00      1.00       666\n",
      "\n",
      "    accuracy                           1.00      1381\n",
      "   macro avg       1.00      1.00      1.00      1381\n",
      "weighted avg       1.00      1.00      1.00      1381\n",
      " \n",
      " ON TEST SET: \n",
      "               precision    recall  f1-score   support\n",
      "\n",
      "           0       1.00      1.00      1.00       631\n",
      "           1       1.00      1.00      1.00       588\n",
      "\n",
      "    accuracy                           1.00      1219\n",
      "   macro avg       1.00      1.00      1.00      1219\n",
      "weighted avg       1.00      1.00      1.00      1219\n",
      "\n",
      "----------------------------------------------------------------------\n"
     ]
    }
   ],
   "source": [
    "# Classification Report for all the default models on IBM and mushroom datasets\n",
    "\n",
    "cr(IbmX_train, Ibmy_train, IbmX_val, Ibmy_val, IbmX_test, Ibmy_test, \"IBM\")\n",
    "print(100*'-')\n",
    "cr(mushroomX_train, mushroomy_train, mushroomX_val, mushroomy_val, mushroomX_test, mushroomy_test, \"Mushroom\")"
   ]
  },
  {
   "cell_type": "markdown",
   "metadata": {
    "colab_type": "text",
    "id": "8rvuwlOW1Gkj"
   },
   "source": [
    "# **Parameter Optimization**"
   ]
  },
  {
   "cell_type": "markdown",
   "metadata": {
    "colab_type": "text",
    "id": "7eQWG2FnTLmY"
   },
   "source": [
    "Tuning parameters is essential to build an optimum model that doesn't just perform well with data used for training but also has the ability to generalize well with the unseen data. Hence, in section 1 we divided the whole data into Train, Validation and Test. This enables us to not use the \n",
    "test data to tune the paraemeters but to use it only at the end to see how well we have trained a model. But the validation data can be used to tune the parameters and gives us an insight on how well the model can generalize on unseen data.\n",
    "\n",
    "\n",
    "---\n",
    "\n",
    "Tuning parameters is done in three main steps:\n",
    "\n",
    "1a. Manual Tuning - This helps in understanding the parameters and the values it can take in an algorithm model. Also, helps in tweaking the parameters (finding the optimum value) using the model trained on train data and tested on validation set \n",
    "\n",
    "1b. Systematic approach - This is where one parameter is picked from the algorithm and optimizing it through a systematic approach. (Similar to finding the best ccp_alpha value for decision trees done in Lab 2).\n",
    "\n",
    "2. Automated Tuning - This is done either through Grid Search or Randomized Search method where it finds the optimum parameter values efficiently.\n",
    "In Grid Search,  all the possible combinations of parameter values are evaluated and the best combination is retained. Randomized search implements a randomized search over parameters, where each setting is sampled from a distribution over possible parameter values.(Reference:scikit-learn)\n",
    "\n",
    "\n",
    "\n",
    "\n",
    "\n",
    "---\n",
    "\n",
    "\n"
   ]
  },
  {
   "cell_type": "markdown",
   "metadata": {
    "colab_type": "text",
    "id": "6fuH_8EGWXbr"
   },
   "source": [
    "# **4. Parameter Optimization - Manual Tuning**"
   ]
  },
  {
   "cell_type": "markdown",
   "metadata": {
    "colab_type": "text",
    "id": "eKm2Vzx9g1av"
   },
   "source": [
    "### 4.1 Logistic Regression "
   ]
  },
  {
   "cell_type": "code",
   "execution_count": null,
   "metadata": {
    "colab": {
     "base_uri": "https://localhost:8080/",
     "height": 102
    },
    "colab_type": "code",
    "id": "BN27bmxlQ5VM",
    "outputId": "6275ae44-b0e9-4575-89c1-cc3730b918b3"
   },
   "outputs": [
    {
     "name": "stdout",
     "output_type": "stream",
     "text": [
      "LogisticRegression(C=1.0, class_weight=None, dual=False, fit_intercept=True,\n",
      "                   intercept_scaling=1, l1_ratio=None, max_iter=100,\n",
      "                   multi_class='auto', n_jobs=None, penalty='l2',\n",
      "                   random_state=None, solver='lbfgs', tol=0.0001, verbose=0,\n",
      "                   warm_start=False)\n"
     ]
    }
   ],
   "source": [
    "# Logistic model with default parameter values\n",
    "\n",
    "LR_MT = LogisticRegression()\n",
    "\n",
    "Ibm_LR_MT = LR_MT.fit(IbmX_train, Ibmy_train)\n",
    "Mushroom_LR_MT = LR_MT.fit(mushroomX_train, mushroomy_train)\n",
    "\n",
    "print(Ibm_LR_MT)"
   ]
  },
  {
   "cell_type": "markdown",
   "metadata": {
    "colab_type": "text",
    "id": "ugc6SgBARaNd"
   },
   "source": [
    "**Insight:** The model hasn't converged as the default max_iter = 100 is reached. Tweaking this value to higher number could help in converging."
   ]
  },
  {
   "cell_type": "code",
   "execution_count": null,
   "metadata": {
    "colab": {
     "base_uri": "https://localhost:8080/",
     "height": 102
    },
    "colab_type": "code",
    "id": "c1viY0EyRZZg",
    "outputId": "4a029c50-8db7-480a-cc89-6a4f1da8035d"
   },
   "outputs": [
    {
     "name": "stdout",
     "output_type": "stream",
     "text": [
      "Accuracy of on IBM train set: 0.90290\n",
      "Accuracy of on IBM validation set: 0.86800\n",
      "----------------------------------------------------------------------------------------------------\n",
      "Accuracy of on Mushroom train set: 0.94823\n",
      "Accuracy of on Mushroom validation set: 0.94352\n"
     ]
    }
   ],
   "source": [
    "# Parameter Optimization - Tuning Manually\n",
    "# Step 1 - Optimizing the max_iter parameter \n",
    "\n",
    "# Tuning max_iter until the model covnerges on IBM and getting the accuracy\n",
    "Ibm_LR_MT = LogisticRegression(max_iter = 4300)\n",
    "Ibm_LR_MT.fit(IbmX_train, Ibmy_train)\n",
    "print('Accuracy of on IBM train set: {:.5f}'.format(Ibm_LR_MT.score(IbmX_train, Ibmy_train)))\n",
    "print('Accuracy of on IBM validation set: {:.5f}'.format(Ibm_LR_MT.score(IbmX_val, Ibmy_val)))\n",
    "print(100*'-')\n",
    "\n",
    "# Tuning max_iter until the model covnerges on Mushroom and getting the accuracy\n",
    "Mushroom_LR_MT = LogisticRegression(max_iter = 428)\n",
    "Mushroom_LR_MT.fit(mushroomX_train, mushroomy_train)\n",
    "print('Accuracy of on Mushroom train set: {:.5f}'.format(Mushroom_LR_MT.score(mushroomX_train, mushroomy_train)))\n",
    "print('Accuracy of on Mushroom validation set: {:.5f}'.format(Mushroom_LR_MT.score(mushroomX_val, mushroomy_val)))\n"
   ]
  },
  {
   "cell_type": "markdown",
   "metadata": {
    "colab_type": "text",
    "id": "dY8QwwPzSR0u"
   },
   "source": [
    "**Comments:** On IBM data, the model converged when max_iter = 4300. Worked with different max_iter values (checking the accuracy simultaneously so the model doesn't overfit) until it convereged when max_iter = 4300\n",
    "\n",
    "On Mushroom data, the model converged when max_iter = 428\n",
    "\n",
    "---\n",
    "\n",
    "**Further Steps:** To tune all different parameters using Train, Validation set and find the optimum value for the parameters and test the performance of the model on test data in the final step."
   ]
  },
  {
   "cell_type": "code",
   "execution_count": null,
   "metadata": {
    "colab": {
     "base_uri": "https://localhost:8080/",
     "height": 765
    },
    "colab_type": "code",
    "id": "Ek65tSceZS_j",
    "outputId": "b5ad650d-39da-4e97-ea39-640cc1db2396"
   },
   "outputs": [
    {
     "name": "stdout",
     "output_type": "stream",
     "text": [
      "On IBM\n",
      "For solver  newton-cg\n",
      "Accuracy on train set: 0.89890\n",
      "Accuracy on validation set: 0.87600\n",
      "----------------------------------------------------------------------------------------------------\n",
      "For solver  lbfgs\n",
      "Accuracy on train set: 0.90290\n",
      "Accuracy on validation set: 0.86800\n",
      "----------------------------------------------------------------------------------------------------\n",
      "For solver  liblinear\n",
      "Accuracy on train set: 0.89089\n",
      "Accuracy on validation set: 0.86000\n",
      "----------------------------------------------------------------------------------------------------\n",
      "For solver  sag\n",
      "Accuracy on train set: 0.83884\n",
      "Accuracy on validation set: 0.84000\n",
      "----------------------------------------------------------------------------------------------------\n",
      "For solver  saga\n",
      "Accuracy on train set: 0.83884\n",
      "Accuracy on validation set: 0.84000\n",
      "----------------------------------------------------------------------------------------------------\n",
      "----------------------------------------------------------------------------------------------------\n",
      "----------------------------------------------------------------------------------------------------\n",
      "On Mushroom\n",
      "For solver  newton-cg\n",
      "Accuracy on train set: 0.94823\n",
      "Accuracy on validation set: 0.94352\n",
      "----------------------------------------------------------------------------------------------------\n",
      "For solver  lbfgs\n",
      "Accuracy on train set: 0.94823\n",
      "Accuracy on validation set: 0.94352\n",
      "----------------------------------------------------------------------------------------------------\n",
      "For solver  liblinear\n",
      "Accuracy on train set: 0.94823\n",
      "Accuracy on validation set: 0.94352\n",
      "----------------------------------------------------------------------------------------------------\n",
      "For solver  sag\n",
      "Accuracy on train set: 0.94823\n",
      "Accuracy on validation set: 0.94352\n",
      "----------------------------------------------------------------------------------------------------\n",
      "For solver  saga\n",
      "Accuracy on train set: 0.94823\n",
      "Accuracy on validation set: 0.94352\n",
      "----------------------------------------------------------------------------------------------------\n"
     ]
    }
   ],
   "source": [
    "# Step 2 - Tuning solver parameter\n",
    "\n",
    "# Storing all the values the mentioned parameter can take\n",
    "solver_opt = ['newton-cg', 'lbfgs', 'liblinear', 'sag', 'saga']\n",
    "\n",
    "# Iterating the values of the parameter, fitting the model and getting the accuracy on IBM\n",
    "print(\"On IBM\")\n",
    "for i in solver_opt:\n",
    "  Ibm_LR_MT = LogisticRegression(max_iter = 4300, solver = i)\n",
    "  Ibm_LR_MT.fit(IbmX_train, Ibmy_train)\n",
    "  print(\"For solver \", str(i))\n",
    "  print('Accuracy on train set: {:.5f}'.format(Ibm_LR_MT.score(IbmX_train, Ibmy_train)))\n",
    "  print('Accuracy on validation set: {:.5f}'.format(Ibm_LR_MT.score(IbmX_val, Ibmy_val)))\n",
    "  print(100*'-')\n",
    "print(100*'-')\n",
    "print(100*'-')\n",
    "\n",
    "# Iterating the values of the parameter, fitting the model and getting the accuracy on Mushroom\n",
    "print(\"On Mushroom\")\n",
    "for i in solver_opt:\n",
    "  Mushroom_LR_MT = LogisticRegression(max_iter = 428, solver = i)\n",
    "  Mushroom_LR_MT.fit(mushroomX_train, mushroomy_train)\n",
    "  print(\"For solver \", str(i))\n",
    "  print('Accuracy on train set: {:.5f}'.format(Mushroom_LR_MT.score(mushroomX_train, mushroomy_train)))\n",
    "  print('Accuracy on validation set: {:.5f}'.format(Mushroom_LR_MT.score(mushroomX_val, mushroomy_val)))\n",
    "  print(100*'-')"
   ]
  },
  {
   "cell_type": "markdown",
   "metadata": {
    "colab_type": "text",
    "id": "1NtBy08IiyEK"
   },
   "source": [
    "**Insight:** \n",
    "\n",
    "On IBM: Though the default solver - lbfgs performs better on train set, its ability to generalize on unseen data (validation set) is not as good as the solver 'newton-cg' which gives better accuracy on both train and validation sets and outperforms other solver values like 'saga', 'sag', 'liblinear'\n",
    "And all other parameters were also checked for performace and they did not perform  any better than their default values. Hence they are left the same. \n",
    "\n",
    "On Mushroom: There is no change in performance on any data when tuning solver parameter, hence the deafult value is used\n",
    "\n",
    "Further tuning of other parameters is done in the following steps (Automated and Systematic approach)"
   ]
  },
  {
   "cell_type": "code",
   "execution_count": null,
   "metadata": {
    "colab": {},
    "colab_type": "code",
    "id": "N5hNDavaJXem"
   },
   "outputs": [],
   "source": [
    "# Storing the model with optimized parameter values (manual tuning) in relevant variables which can be put into the 'lr' variable(for fitting the model function) \n",
    "# Later this can be fitted through the function written for fitting all the models and thereby calling the functions for performance metrics\n",
    "\n",
    "lr_ibm_mt = LogisticRegression(max_iter = 4300, solver = 'newton-cg')\n",
    "lr_mushroom_mt = LogisticRegression(max_iter = 428)"
   ]
  },
  {
   "cell_type": "markdown",
   "metadata": {
    "colab_type": "text",
    "id": "WiAYnV0gykaS"
   },
   "source": [
    "### 4.2 Decision Trees"
   ]
  },
  {
   "cell_type": "code",
   "execution_count": null,
   "metadata": {
    "colab": {
     "base_uri": "https://localhost:8080/",
     "height": 119
    },
    "colab_type": "code",
    "id": "QaeQxPTDN1oK",
    "outputId": "42e046cb-e585-4c85-de26-5faa77bb7b06"
   },
   "outputs": [
    {
     "name": "stdout",
     "output_type": "stream",
     "text": [
      "DecisionTreeClassifier(ccp_alpha=0.0, class_weight=None, criterion='gini',\n",
      "                       max_depth=None, max_features=None, max_leaf_nodes=None,\n",
      "                       min_impurity_decrease=0.0, min_impurity_split=None,\n",
      "                       min_samples_leaf=1, min_samples_split=2,\n",
      "                       min_weight_fraction_leaf=0.0, presort='deprecated',\n",
      "                       random_state=None, splitter='best')\n"
     ]
    }
   ],
   "source": [
    "# Decision Trees model with default parameter values fitted on IBM and Mushroom\n",
    "DT_MT = DecisionTreeClassifier()\n",
    "Ibm_DT_MT = DT_MT.fit(IbmX_train, Ibmy_train)\n",
    "Mushroom_DT_MT = DT_MT.fit(mushroomX_train, mushroomy_train)\n",
    "\n",
    "print(Ibm_DT_MT)\n"
   ]
  },
  {
   "cell_type": "code",
   "execution_count": null,
   "metadata": {
    "colab": {
     "base_uri": "https://localhost:8080/",
     "height": 340
    },
    "colab_type": "code",
    "id": "dmeQvtPaOIs4",
    "outputId": "5d0a401d-6c26-46da-f60d-3225c93dee0e"
   },
   "outputs": [
    {
     "name": "stdout",
     "output_type": "stream",
     "text": [
      "On IBM: \n",
      "For Criterion:  gini\n",
      "Accuracy of on train set: 1.00000\n",
      "Accuracy of on validation set: 0.79200\n",
      "----------------------------------------------------------------------------------------------------\n",
      "For Criterion:  entropy\n",
      "Accuracy of on train set: 1.00000\n",
      "Accuracy of on validation set: 0.76800\n",
      "----------------------------------------------------------------------------------------------------\n",
      "----------------------------------------------------------------------------------------------------\n",
      "On Mushroom\n",
      "For Criterion:  gini\n",
      "Accuracy of on train set: 1.00000\n",
      "Accuracy of on validation set: 1.00000\n",
      "----------------------------------------------------------------------------------------------------\n",
      "For Criterion:  entropy\n",
      "Accuracy of on train set: 1.00000\n",
      "Accuracy of on validation set: 1.00000\n",
      "----------------------------------------------------------------------------------------------------\n"
     ]
    }
   ],
   "source": [
    "# Step 1 - To find the performance of the model with different criterion values\n",
    "\n",
    "# Storing all the values the mentioned parameter can take\n",
    "criterion_opt = ['gini', 'entropy']\n",
    "\n",
    "#Writing a function for iterating the values of the parameter, fitting the model and getting the accuracy\n",
    "def dt_mt_1(model, X_train, y_train, X_val, y_val):\n",
    "  for i in criterion_opt:\n",
    "    model = DecisionTreeClassifier(criterion=i)\n",
    "    model.fit(X_train, y_train)\n",
    "    print(\"For Criterion: \", str(i))\n",
    "    print('Accuracy of on train set: {:.5f}'.format(model.score(X_train, y_train)))\n",
    "    print('Accuracy of on validation set: {:.5f}'.format(model.score(X_val, y_val)))\n",
    "    print(100*'-')\n",
    "\n",
    "# Calling the function for IBM\n",
    "print(\"On IBM: \")\n",
    "dt_mt_1(Ibm_DT_MT, IbmX_train, Ibmy_train, IbmX_val, Ibmy_val)\n",
    "print(100*\"-\")\n",
    "# Calling the function for Mushroom\n",
    "print(\"On Mushroom\")\n",
    "dt_mt_1(Mushroom_DT_MT, mushroomX_train, mushroomy_train, mushroomX_val, mushroomy_val)\n"
   ]
  },
  {
   "cell_type": "markdown",
   "metadata": {
    "colab_type": "text",
    "id": "1bCOXaWXDsQz"
   },
   "source": [
    "**Comments:** \n",
    "\n",
    "On IBM - We see that both the criterion values give 100% accuracy on the trained data, but the model seems to overfit as it performed badly predicting unseen data(validation data) with accuracy only around 75%\n",
    "\n",
    "On Muhsroom - There is a 100 percent accuracy for both values\n",
    "\n",
    "Comparing both the values the default criterion - 'gini' gives a 4% increase in accuracy than 'entropy'"
   ]
  },
  {
   "cell_type": "code",
   "execution_count": null,
   "metadata": {
    "colab": {
     "base_uri": "https://localhost:8080/",
     "height": 340
    },
    "colab_type": "code",
    "id": "SjVaRyjkDrPp",
    "outputId": "d15064b0-a430-4171-b9b8-541115f065f8"
   },
   "outputs": [
    {
     "name": "stdout",
     "output_type": "stream",
     "text": [
      "On IBM: \n",
      "For Splitter:  best\n",
      "Accuracy of on train set: 1.00000\n",
      "Accuracy of on validation set: 0.78400\n",
      "----------------------------------------------------------------------------------------------------\n",
      "For Splitter:  random\n",
      "Accuracy of on train set: 1.00000\n",
      "Accuracy of on validation set: 0.74800\n",
      "----------------------------------------------------------------------------------------------------\n",
      "----------------------------------------------------------------------------------------------------\n",
      "On Mushroom\n",
      "For Splitter:  best\n",
      "Accuracy of on train set: 1.00000\n",
      "Accuracy of on validation set: 1.00000\n",
      "----------------------------------------------------------------------------------------------------\n",
      "For Splitter:  random\n",
      "Accuracy of on train set: 1.00000\n",
      "Accuracy of on validation set: 1.00000\n",
      "----------------------------------------------------------------------------------------------------\n"
     ]
    }
   ],
   "source": [
    "# Step 2 - Tuning the parameter 'splitter'\n",
    "\n",
    "# Storing all the values the mentioned parameter can take\n",
    "splitter_opt = ['best', 'random']\n",
    "\n",
    "#Writing a function for iterating the values of the parameter, fitting the model and getting the accuracy\n",
    "def dt_mt_2(model, X_train, y_train, X_val, y_val):\n",
    "  for i in splitter_opt:\n",
    "    model = DecisionTreeClassifier(splitter=i)\n",
    "    model.fit(X_train, y_train)\n",
    "    print(\"For Splitter: \", str(i))\n",
    "    print('Accuracy of on train set: {:.5f}'.format(model.score(X_train, y_train)))\n",
    "    print('Accuracy of on validation set: {:.5f}'.format(model.score(X_val, y_val)))\n",
    "    print(100*'-')\n",
    "\n",
    "# Calling the function for IBM\n",
    "print(\"On IBM: \")\n",
    "dt_mt_2(Ibm_DT_MT, IbmX_train, Ibmy_train, IbmX_val, Ibmy_val)\n",
    "print(100*\"-\")\n",
    "# Calling the function for Mushroom\n",
    "print(\"On Mushroom\")\n",
    "dt_mt_2(Mushroom_DT_MT, mushroomX_train, mushroomy_train, mushroomX_val, mushroomy_val)"
   ]
  },
  {
   "cell_type": "markdown",
   "metadata": {
    "colab_type": "text",
    "id": "S-xKXTJZF8I8"
   },
   "source": [
    "**Comments:** \n",
    "On IBM - The default value ('best') for splitter works better compared to the other value ('random') with accuracy on validation data as 79.2%\n",
    "\n",
    "On Mushroom - Both the values give 100% accuracy\n"
   ]
  },
  {
   "cell_type": "code",
   "execution_count": null,
   "metadata": {
    "colab": {
     "base_uri": "https://localhost:8080/",
     "height": 295
    },
    "colab_type": "code",
    "id": "nvLQQiTmc5zM",
    "outputId": "e1fb516f-3076-4eb8-8300-349a9aa501f9"
   },
   "outputs": [
    {
     "data": {
      "image/png": "[encoded data removed]",
      "text/plain": [
       "<Figure size 432x288 with 1 Axes>"
      ]
     },
     "metadata": {
      "needs_background": "light",
      "tags": []
     },
     "output_type": "display_data"
    }
   ],
   "source": [
    "# Step 3 - Tuning the parameter - ccp alpha (systematic Tuning) - on IBM\n",
    "\n",
    "#dt = DecisionTreeClassifier(max_leaf_nodes = 200, max_depth = 6, ccp_alpha = 0.005)\n",
    "clf = Ibm_DT_MT\n",
    "\n",
    "path = clf.cost_complexity_pruning_path(IbmX_val, Ibmy_val)\n",
    "ccp_alphas, impurities = path.ccp_alphas, path.impurities\n",
    "clfs = []\n",
    "for ccp_alpha in ccp_alphas:\n",
    "    clf = DecisionTreeClassifier(random_state=0, ccp_alpha=ccp_alpha)\n",
    "    clf.fit(IbmX_val, Ibmy_val)\n",
    "    clfs.append(clf)\n",
    "clfs = clfs[:-1]\n",
    "ccp_alphas = ccp_alphas[:-1]\n",
    "val_scores = [clf.score(IbmX_val, Ibmy_val) for clf in clfs]\n",
    "train_scores = [clf.score(IbmX_train, Ibmy_train) for clf in clfs]\n",
    "\n",
    "fig, ax = plt.subplots()\n",
    "ax.set_xlabel(\"alpha\")\n",
    "ax.set_ylabel(\"accuracy\")\n",
    "ax.set_title(\"Accuracy vs alpha for train and validation sets\")\n",
    "ax.plot(ccp_alphas, val_scores, marker='o', label=\"train\",\n",
    "        drawstyle=\"steps-post\")\n",
    "ax.plot(ccp_alphas, train_scores, marker='o', label=\"validation\",\n",
    "        drawstyle=\"steps-post\")\n",
    "ax.legend()\n",
    "plt.show()\n",
    "\n",
    "\n",
    "\n"
   ]
  },
  {
   "cell_type": "markdown",
   "metadata": {
    "colab_type": "text",
    "id": "mbVNdc7Id1LX"
   },
   "source": [
    "**Comments:** The optimal value for ccp_alpha is where there is less difference in accuracy of the model on the train data and validation data. In the above plot, though the accuracy of the model on training data is 100% at the beginning (ccp_alpha = 0.0) the accuracy of the model on unseen data (validation set) is below 80%. But as the ccp_alpha value increases the we see a gradual decrease in accuracy on train set but gradual increase in accuracy on validation set. The opitmal point is when ccp_alpha 0.012 where there is less difference in the accuracy between train and validation."
   ]
  },
  {
   "cell_type": "code",
   "execution_count": null,
   "metadata": {
    "colab": {
     "base_uri": "https://localhost:8080/",
     "height": 295
    },
    "colab_type": "code",
    "id": "HbjRUS3Sd_uG",
    "outputId": "5e166c52-16a3-4da6-85c7-eca86926bdf1"
   },
   "outputs": [
    {
     "data": {
      "image/png": "[encoded data removed]",
      "text/plain": [
       "<Figure size 432x288 with 1 Axes>"
      ]
     },
     "metadata": {
      "needs_background": "light",
      "tags": []
     },
     "output_type": "display_data"
    }
   ],
   "source": [
    "# Step 3 - Tuning the parameter - ccp alpha (systematic Tuning) - on Mushroom\n",
    "\n",
    "\n",
    "clf = Ibm_DT_MT\n",
    "\n",
    "path = clf.cost_complexity_pruning_path(mushroomX_val, mushroomy_val)\n",
    "ccp_alphas, impurities = path.ccp_alphas, path.impurities\n",
    "clfs = []\n",
    "for ccp_alpha in ccp_alphas:\n",
    "    clf = DecisionTreeClassifier(random_state=0, ccp_alpha=ccp_alpha)\n",
    "    clf.fit(mushroomX_val, mushroomy_val)\n",
    "    clfs.append(clf)\n",
    "clfs = clfs[:-1]\n",
    "ccp_alphas = ccp_alphas[:-1]\n",
    "val_scores = [clf.score(mushroomX_val, mushroomy_val) for clf in clfs]\n",
    "train_scores = [clf.score(mushroomX_train, mushroomy_train) for clf in clfs]\n",
    "\n",
    "fig, ax = plt.subplots()\n",
    "ax.set_xlabel(\"alpha\")\n",
    "ax.set_ylabel(\"accuracy\")\n",
    "ax.set_title(\"Accuracy vs alpha for train and validation sets\")\n",
    "ax.plot(ccp_alphas, val_scores, marker='o', label=\"train\",\n",
    "        drawstyle=\"steps-post\")\n",
    "ax.plot(ccp_alphas, train_scores, marker='o', label=\"validation\",\n",
    "        drawstyle=\"steps-post\")\n",
    "ax.legend()\n",
    "plt.show()"
   ]
  },
  {
   "cell_type": "markdown",
   "metadata": {
    "colab_type": "text",
    "id": "vqLYQosNfIpM"
   },
   "source": [
    "**Comments:** Its interesting to see that the accuracy of the model on both the train adn validation set gradually decrease together as the ccp_alpha value increases (unline in the IBM data). The default ccp_alpha (0.00) is the optimum value for this parameter"
   ]
  },
  {
   "cell_type": "code",
   "execution_count": null,
   "metadata": {
    "colab": {
     "base_uri": "https://localhost:8080/",
     "height": 1000
    },
    "colab_type": "code",
    "id": "YGcRWOFcngUC",
    "outputId": "c4b6582a-99b1-4d93-fedc-83e4c47a7d1d"
   },
   "outputs": [
    {
     "name": "stdout",
     "output_type": "stream",
     "text": [
      "On IBM: \n",
      "For ccp alpha:  0.0\n",
      "Accuracy of on train set: 1.00000\n",
      "Accuracy of on validation set: 0.78400\n",
      "----------------------------------------------------------------------------------------------------\n",
      "For ccp alpha:  0.002142857142857143\n",
      "Accuracy of on train set: 0.92693\n",
      "Accuracy of on validation set: 0.81200\n",
      "----------------------------------------------------------------------------------------------------\n",
      "For ccp alpha:  0.004285714285714286\n",
      "Accuracy of on train set: 0.88188\n",
      "Accuracy of on validation set: 0.80800\n",
      "----------------------------------------------------------------------------------------------------\n",
      "For ccp alpha:  0.006428571428571429\n",
      "Accuracy of on train set: 0.87387\n",
      "Accuracy of on validation set: 0.81600\n",
      "----------------------------------------------------------------------------------------------------\n",
      "For ccp alpha:  0.008571428571428572\n",
      "Accuracy of on train set: 0.85586\n",
      "Accuracy of on validation set: 0.80800\n",
      "----------------------------------------------------------------------------------------------------\n",
      "For ccp alpha:  0.010714285714285714\n",
      "Accuracy of on train set: 0.84384\n",
      "Accuracy of on validation set: 0.83200\n",
      "----------------------------------------------------------------------------------------------------\n",
      "For ccp alpha:  0.012857142857142859\n",
      "Accuracy of on train set: 0.84384\n",
      "Accuracy of on validation set: 0.83200\n",
      "----------------------------------------------------------------------------------------------------\n",
      "For ccp alpha:  0.015\n",
      "Accuracy of on train set: 0.84384\n",
      "Accuracy of on validation set: 0.83200\n",
      "----------------------------------------------------------------------------------------------------\n",
      "----------------------------------------------------------------------------------------------------\n",
      "On Mushroom\n",
      "For ccp alpha:  0.0\n",
      "Accuracy of on train set: 1.00000\n",
      "Accuracy of on validation set: 1.00000\n",
      "----------------------------------------------------------------------------------------------------\n",
      "For ccp alpha:  0.002142857142857143\n",
      "Accuracy of on train set: 0.99783\n",
      "Accuracy of on validation set: 0.99566\n",
      "----------------------------------------------------------------------------------------------------\n",
      "For ccp alpha:  0.004285714285714286\n",
      "Accuracy of on train set: 0.98914\n",
      "Accuracy of on validation set: 0.98624\n",
      "----------------------------------------------------------------------------------------------------\n",
      "For ccp alpha:  0.006428571428571429\n",
      "Accuracy of on train set: 0.98588\n",
      "Accuracy of on validation set: 0.98335\n",
      "----------------------------------------------------------------------------------------------------\n",
      "For ccp alpha:  0.008571428571428572\n",
      "Accuracy of on train set: 0.98154\n",
      "Accuracy of on validation set: 0.97828\n",
      "----------------------------------------------------------------------------------------------------\n",
      "For ccp alpha:  0.010714285714285714\n",
      "Accuracy of on train set: 0.96850\n",
      "Accuracy of on validation set: 0.96379\n",
      "----------------------------------------------------------------------------------------------------\n",
      "For ccp alpha:  0.012857142857142859\n",
      "Accuracy of on train set: 0.95076\n",
      "Accuracy of on validation set: 0.95004\n",
      "----------------------------------------------------------------------------------------------------\n",
      "For ccp alpha:  0.015\n",
      "Accuracy of on train set: 0.95076\n",
      "Accuracy of on validation set: 0.95004\n",
      "----------------------------------------------------------------------------------------------------\n"
     ]
    }
   ],
   "source": [
    "# Step 3 - Tuning the parameter - ccp alpha - continued to get the accuracy scores in numbers\n",
    "\n",
    "# Storing all the values the mentioned parameter can take\n",
    "ccp_alpha = [x for x in np.linspace(0, 0.015, num=8)]\n",
    "\n",
    "#Writing a function for iterating the values of the parameter, fitting the model and getting the accuracy\n",
    "def dt_mt_3(model, X_train, y_train, X_val, y_val):\n",
    "  for i in ccp_alpha:\n",
    "    model = DecisionTreeClassifier(ccp_alpha=i)\n",
    "    model.fit(X_train, y_train)\n",
    "    print(\"For ccp alpha: \", str(i))\n",
    "    print('Accuracy of on train set: {:.5f}'.format(model.score(X_train, y_train)))\n",
    "    print('Accuracy of on validation set: {:.5f}'.format(model.score(X_val, y_val)))\n",
    "    print(100*'-')\n",
    "\n",
    "# Calling the function for IBM\n",
    "print(\"On IBM: \")\n",
    "dt_mt_3(Ibm_DT_MT, IbmX_train, Ibmy_train, IbmX_val, Ibmy_val)\n",
    "print(100*\"-\")\n",
    "# Calling the function for Mushroom\n",
    "print(\"On Mushroom\")\n",
    "dt_mt_3(Mushroom_DT_MT, mushroomX_train, mushroomy_train, mushroomX_val, mushroomy_val)"
   ]
  },
  {
   "cell_type": "markdown",
   "metadata": {
    "colab_type": "text",
    "id": "pawTpZEhvn3z"
   },
   "source": [
    "**Comments:** On IBM - the ccp alpha score around 0.01 works the best as it gives 84% accuracy score for train set, and 83% for validation set. Although, default ccp alpha score gives 100% accuracy for train set, but it gives only 78% accuracy score for validation set which indicates overfitting on train data\n",
    "\n",
    "On Mushroom - the default ccp alpha (0.0) works the best as it gives 100% accuracy score for both train and validation set."
   ]
  },
  {
   "cell_type": "code",
   "execution_count": null,
   "metadata": {
    "colab": {},
    "colab_type": "code",
    "id": "8i0jReGmjpZb"
   },
   "outputs": [],
   "source": [
    "# Storing the model with optimized parameter values (manual/systematic tuning) in relevant variables which can be put into the 'dt' variable(for fitting the model function) \n",
    "# Later this can be fitted through the function written for fitting all the models and thereby calling the functions for performance metrics\n",
    "\n",
    "dt_ibm_mt = DecisionTreeClassifier(ccp_alpha=0.012)\n",
    "dt_mushroom_mt = DecisionTreeClassifier()"
   ]
  },
  {
   "cell_type": "markdown",
   "metadata": {
    "colab_type": "text",
    "id": "ecNrgh2T2hzl"
   },
   "source": [
    "### 4.3 Perceptron"
   ]
  },
  {
   "cell_type": "code",
   "execution_count": null,
   "metadata": {
    "colab": {
     "base_uri": "https://localhost:8080/",
     "height": 85
    },
    "colab_type": "code",
    "id": "vGhmawKUI236",
    "outputId": "dc05df42-2fe5-42dd-d5da-531bdb1c4b89"
   },
   "outputs": [
    {
     "name": "stdout",
     "output_type": "stream",
     "text": [
      "Perceptron(alpha=0.0001, class_weight=None, early_stopping=False, eta0=1.0,\n",
      "           fit_intercept=True, max_iter=1000, n_iter_no_change=5, n_jobs=None,\n",
      "           penalty=None, random_state=0, shuffle=True, tol=0.001,\n",
      "           validation_fraction=0.1, verbose=0, warm_start=False)\n"
     ]
    }
   ],
   "source": [
    "# Perceptron model with default parameter values fitted on IBM and Mushroom\n",
    "SLP_MT = Perceptron()\n",
    "Ibm_SLP_MT = SLP_MT.fit(IbmX_train, Ibmy_train)\n",
    "Mushroom_SLP_MT = SLP_MT.fit(mushroomX_train, mushroomy_train)\n",
    "\n",
    "print(Ibm_SLP_MT)"
   ]
  },
  {
   "cell_type": "code",
   "execution_count": null,
   "metadata": {
    "colab": {
     "base_uri": "https://localhost:8080/",
     "height": 1000
    },
    "colab_type": "code",
    "id": "oyxvpZslJq8c",
    "outputId": "019698cf-800b-4827-a827-47da77abc768"
   },
   "outputs": [
    {
     "name": "stdout",
     "output_type": "stream",
     "text": [
      "On IBM: \n",
      "For alpha:  0.1\n",
      "Accuracy of on train set: 0.83884\n",
      "Accuracy of on validation set: 0.84000\n",
      "----------------------------------------------------------------------------------------------------\n",
      "For alpha:  0.01\n",
      "Accuracy of on train set: 0.83884\n",
      "Accuracy of on validation set: 0.84000\n",
      "----------------------------------------------------------------------------------------------------\n",
      "For alpha:  0.001\n",
      "Accuracy of on train set: 0.83884\n",
      "Accuracy of on validation set: 0.84000\n",
      "----------------------------------------------------------------------------------------------------\n",
      "For alpha:  1\n",
      "Accuracy of on train set: 0.83884\n",
      "Accuracy of on validation set: 0.84000\n",
      "----------------------------------------------------------------------------------------------------\n",
      "For alpha:  1.5\n",
      "Accuracy of on train set: 0.83884\n",
      "Accuracy of on validation set: 0.84000\n",
      "----------------------------------------------------------------------------------------------------\n",
      "For alpha:  2\n",
      "Accuracy of on train set: 0.83884\n",
      "Accuracy of on validation set: 0.84000\n",
      "----------------------------------------------------------------------------------------------------\n",
      "For alpha:  2.5\n",
      "Accuracy of on train set: 0.83884\n",
      "Accuracy of on validation set: 0.84000\n",
      "----------------------------------------------------------------------------------------------------\n",
      "For alpha:  3\n",
      "Accuracy of on train set: 0.83884\n",
      "Accuracy of on validation set: 0.84000\n",
      "----------------------------------------------------------------------------------------------------\n",
      "For alpha:  100\n",
      "Accuracy of on train set: 0.83884\n",
      "Accuracy of on validation set: 0.84000\n",
      "----------------------------------------------------------------------------------------------------\n",
      "----------------------------------------------------------------------------------------------------\n",
      "On Mushroom\n",
      "For alpha:  0.1\n",
      "Accuracy of on train set: 0.94841\n",
      "Accuracy of on validation set: 0.94352\n",
      "----------------------------------------------------------------------------------------------------\n",
      "For alpha:  0.01\n",
      "Accuracy of on train set: 0.94841\n",
      "Accuracy of on validation set: 0.94352\n",
      "----------------------------------------------------------------------------------------------------\n",
      "For alpha:  0.001\n",
      "Accuracy of on train set: 0.94841\n",
      "Accuracy of on validation set: 0.94352\n",
      "----------------------------------------------------------------------------------------------------\n",
      "For alpha:  1\n",
      "Accuracy of on train set: 0.94841\n",
      "Accuracy of on validation set: 0.94352\n",
      "----------------------------------------------------------------------------------------------------\n",
      "For alpha:  1.5\n",
      "Accuracy of on train set: 0.94841\n",
      "Accuracy of on validation set: 0.94352\n",
      "----------------------------------------------------------------------------------------------------\n",
      "For alpha:  2\n",
      "Accuracy of on train set: 0.94841\n",
      "Accuracy of on validation set: 0.94352\n",
      "----------------------------------------------------------------------------------------------------\n",
      "For alpha:  2.5\n",
      "Accuracy of on train set: 0.94841\n",
      "Accuracy of on validation set: 0.94352\n",
      "----------------------------------------------------------------------------------------------------\n",
      "For alpha:  3\n",
      "Accuracy of on train set: 0.94841\n",
      "Accuracy of on validation set: 0.94352\n",
      "----------------------------------------------------------------------------------------------------\n",
      "For alpha:  100\n",
      "Accuracy of on train set: 0.94841\n",
      "Accuracy of on validation set: 0.94352\n",
      "----------------------------------------------------------------------------------------------------\n"
     ]
    }
   ],
   "source": [
    "# Step 1 - Tuning the parameter - alpha_opt\n",
    "\n",
    "alpha_opt = [0.1, 0.01, 0.001, 1, 1.5, 2, 2.5, 3, 100]\n",
    "\n",
    "#Writing a function for iterating the values of the parameter, fitting the model and getting the accuracy\n",
    "def slp_mt_1(model, X_train, y_train, X_val, y_val):\n",
    "  for i in alpha_opt:\n",
    "    model = Perceptron(alpha=i)\n",
    "    model = CalibratedClassifierCV(model)\n",
    "    model.fit(X_train, y_train)\n",
    "    print(\"For alpha: \", str(i))\n",
    "    print('Accuracy of on train set: {:.5f}'.format(model.score(X_train, y_train)))\n",
    "    print('Accuracy of on validation set: {:.5f}'.format(model.score(X_val, y_val)))\n",
    "    print(100*'-')\n",
    "\n",
    "# Calling the function for IBM\n",
    "print(\"On IBM: \")\n",
    "slp_mt_1(Ibm_SLP_MT, IbmX_train, Ibmy_train, IbmX_val, Ibmy_val)\n",
    "print(100*\"-\")\n",
    "# Calling the function for Mushroom\n",
    "print(\"On Mushroom\")\n",
    "slp_mt_1(Mushroom_SLP_MT, mushroomX_train, mushroomy_train, mushroomX_val, mushroomy_val)"
   ]
  },
  {
   "cell_type": "markdown",
   "metadata": {
    "colab_type": "text",
    "id": "kC1VR66SR1XH"
   },
   "source": [
    "**Comments:** No matter how the parameter (alpha) is tuned there is no change in the performance of the model on any data. This must be investigated further to understand why.  "
   ]
  },
  {
   "cell_type": "markdown",
   "metadata": {
    "colab_type": "text",
    "id": "F5r_fI7X2nnZ"
   },
   "source": [
    "### 4.4 Multi-Layer Perceptron"
   ]
  },
  {
   "cell_type": "code",
   "execution_count": null,
   "metadata": {
    "colab": {
     "base_uri": "https://localhost:8080/",
     "height": 153
    },
    "colab_type": "code",
    "id": "KSuqKsiDhZsW",
    "outputId": "5cc6f970-2097-43fc-b196-613cdb94ca0d"
   },
   "outputs": [
    {
     "name": "stdout",
     "output_type": "stream",
     "text": [
      "MLPClassifier(activation='relu', alpha=0.0001, batch_size='auto', beta_1=0.9,\n",
      "              beta_2=0.999, early_stopping=False, epsilon=1e-08,\n",
      "              hidden_layer_sizes=(100,), learning_rate='constant',\n",
      "              learning_rate_init=0.001, max_fun=15000, max_iter=200,\n",
      "              momentum=0.9, n_iter_no_change=10, nesterovs_momentum=True,\n",
      "              power_t=0.5, random_state=None, shuffle=True, solver='adam',\n",
      "              tol=0.0001, validation_fraction=0.1, verbose=False,\n",
      "              warm_start=False)\n"
     ]
    }
   ],
   "source": [
    "# MLP model with default parameter values fitted on IBM and Mushroom\n",
    "MLP_MT = MLPClassifier()\n",
    "Ibm_MLP_MT = MLP_MT.fit(IbmX_train, Ibmy_train)\n",
    "Mushroom_MLP_MT = MLP_MT.fit(mushroomX_train, mushroomy_train)\n",
    "\n",
    "#To look into the parameters MLP can take\n",
    "print(Ibm_MLP_MT)"
   ]
  },
  {
   "cell_type": "markdown",
   "metadata": {
    "colab_type": "text",
    "id": "6MdNXcMCiwz4"
   },
   "source": [
    "**Comments:** the MLP models are converged with the default max_iter values on both the datasets"
   ]
  },
  {
   "cell_type": "code",
   "execution_count": null,
   "metadata": {
    "colab": {
     "base_uri": "https://localhost:8080/",
     "height": 612
    },
    "colab_type": "code",
    "id": "TGjUZxP7hZsi",
    "outputId": "58a0f513-b2c1-4f5f-c7ef-8e90dd4e911c"
   },
   "outputs": [
    {
     "name": "stdout",
     "output_type": "stream",
     "text": [
      "On IBM: \n",
      "For activation:  identity\n",
      "Accuracy of on train set: 0.21021\n",
      "Accuracy of on validation set: 0.19600\n",
      "----------------------------------------------------------------------------------------------------\n",
      "For activation:  logistic\n",
      "Accuracy of on train set: 0.83884\n",
      "Accuracy of on validation set: 0.84000\n",
      "----------------------------------------------------------------------------------------------------\n",
      "For activation:  tanh\n",
      "Accuracy of on train set: 0.83884\n",
      "Accuracy of on validation set: 0.84000\n",
      "----------------------------------------------------------------------------------------------------\n",
      "For activation:  relu\n",
      "Accuracy of on train set: 0.84084\n",
      "Accuracy of on validation set: 0.83600\n",
      "----------------------------------------------------------------------------------------------------\n",
      "----------------------------------------------------------------------------------------------------\n",
      "On Mushroom\n",
      "For activation:  identity\n",
      "Accuracy of on train set: 0.94895\n",
      "Accuracy of on validation set: 0.94569\n",
      "----------------------------------------------------------------------------------------------------\n",
      "For activation:  logistic\n",
      "Accuracy of on train set: 1.00000\n",
      "Accuracy of on validation set: 1.00000\n",
      "----------------------------------------------------------------------------------------------------\n",
      "For activation:  tanh\n",
      "Accuracy of on train set: 1.00000\n",
      "Accuracy of on validation set: 1.00000\n",
      "----------------------------------------------------------------------------------------------------\n",
      "For activation:  relu\n",
      "Accuracy of on train set: 1.00000\n",
      "Accuracy of on validation set: 1.00000\n",
      "----------------------------------------------------------------------------------------------------\n"
     ]
    }
   ],
   "source": [
    "# Step 1 - To find the performance of the model with different activation values\n",
    "\n",
    "# Storing all the values the mentioned parameter can take\n",
    "activation_opt = ['identity', 'logistic', 'tanh', 'relu']\n",
    "\n",
    "#Writing a function for iterating the values of the parameter, fitting the model and getting the accuracy\n",
    "def mlp_mt_1(model, X_train, y_train, X_val, y_val):\n",
    "  for i in activation_opt:\n",
    "    model = MLPClassifier(activation=i)\n",
    "    model.fit(X_train, y_train)\n",
    "    print(\"For activation: \", str(i))\n",
    "    print('Accuracy of on train set: {:.5f}'.format(model.score(X_train, y_train)))\n",
    "    print('Accuracy of on validation set: {:.5f}'.format(model.score(X_val, y_val)))\n",
    "    print(100*'-')\n",
    "\n",
    "# Calling the function for IBM\n",
    "print(\"On IBM: \")\n",
    "mlp_mt_1(Ibm_MLP_MT, IbmX_train, Ibmy_train, IbmX_val, Ibmy_val)\n",
    "print(100*\"-\")\n",
    "# Calling the function for Mushroom\n",
    "print(\"On Mushroom\")\n",
    "mlp_mt_1(Mushroom_MLP_MT, mushroomX_train, mushroomy_train, mushroomX_val, mushroomy_val)\n"
   ]
  },
  {
   "cell_type": "markdown",
   "metadata": {
    "colab_type": "text",
    "id": "xGJV6yyRjDnU"
   },
   "source": [
    "**Comments:** \n",
    "\n",
    "On IBM: the model works well for logistic and reluc activation functions and we stick to the default value that is relu\n",
    "\n",
    "On Mushroom: With the activation 'identity' the model performes poorly on both the datasets. Also, on mushroom data the accuracy decreased from 100% to 94% when compared to the other values of the activation function"
   ]
  },
  {
   "cell_type": "code",
   "execution_count": null,
   "metadata": {
    "colab": {
     "base_uri": "https://localhost:8080/",
     "height": 476
    },
    "colab_type": "code",
    "id": "RCxYIbwkhZsl",
    "outputId": "8ce705c4-4357-4d5b-aed1-49683ce5dfa5"
   },
   "outputs": [
    {
     "name": "stdout",
     "output_type": "stream",
     "text": [
      "On IBM: \n",
      "For learning_rate:  constant\n",
      "Accuracy of on train set: 0.83483\n",
      "Accuracy of on validation set: 0.83600\n",
      "----------------------------------------------------------------------------------------------------\n",
      "For learning_rate:  invscaling\n",
      "Accuracy of on train set: 0.82983\n",
      "Accuracy of on validation set: 0.83600\n",
      "----------------------------------------------------------------------------------------------------\n",
      "For learning_rate:  adaptive\n",
      "Accuracy of on train set: 0.83884\n",
      "Accuracy of on validation set: 0.84000\n",
      "----------------------------------------------------------------------------------------------------\n",
      "----------------------------------------------------------------------------------------------------\n",
      "On Mushroom\n",
      "For learning_rate:  constant\n",
      "Accuracy of on train set: 1.00000\n",
      "Accuracy of on validation set: 1.00000\n",
      "----------------------------------------------------------------------------------------------------\n",
      "For learning_rate:  invscaling\n",
      "Accuracy of on train set: 1.00000\n",
      "Accuracy of on validation set: 1.00000\n",
      "----------------------------------------------------------------------------------------------------\n",
      "For learning_rate:  adaptive\n",
      "Accuracy of on train set: 1.00000\n",
      "Accuracy of on validation set: 1.00000\n",
      "----------------------------------------------------------------------------------------------------\n"
     ]
    }
   ],
   "source": [
    "# Step 2 - Tuning the parameter 'learning_rate'\n",
    "\n",
    "# Storing all the values the mentioned parameter can take\n",
    "learning_rate_opt = ['constant', 'invscaling', 'adaptive']\n",
    "\n",
    "#Writing a function for iterating the values of the parameter, fitting the model and getting the accuracy\n",
    "def mlp_mt_2(model, X_train, y_train, X_val, y_val):\n",
    "  for i in learning_rate_opt:\n",
    "    model = MLPClassifier(learning_rate=i)\n",
    "    model.fit(X_train, y_train)\n",
    "    print(\"For learning_rate: \", str(i))\n",
    "    print('Accuracy of on train set: {:.5f}'.format(model.score(X_train, y_train)))\n",
    "    print('Accuracy of on validation set: {:.5f}'.format(model.score(X_val, y_val)))\n",
    "    print(100*'-')\n",
    "\n",
    "# Calling the function for IBM\n",
    "print(\"On IBM: \")\n",
    "mlp_mt_2(Ibm_MLP_MT, IbmX_train, Ibmy_train, IbmX_val, Ibmy_val)\n",
    "print(100*\"-\")\n",
    "# Calling the function for Mushroom\n",
    "print(\"On Mushroom\")\n",
    "mlp_mt_2(Mushroom_MLP_MT, mushroomX_train, mushroomy_train, mushroomX_val, mushroomy_val)"
   ]
  },
  {
   "cell_type": "markdown",
   "metadata": {
    "colab_type": "text",
    "id": "J8Rj8t-ikhxw"
   },
   "source": [
    "**Comments:** Model with the default value 'constant' for learning_rate performs better on both datasets"
   ]
  },
  {
   "cell_type": "markdown",
   "metadata": {
    "colab_type": "text",
    "id": "rLCNpDr0OMjw"
   },
   "source": [
    "## 4.5 Support-Vector Machines"
   ]
  },
  {
   "cell_type": "code",
   "execution_count": null,
   "metadata": {
    "colab": {
     "base_uri": "https://localhost:8080/",
     "height": 187
    },
    "colab_type": "code",
    "id": "neUczB5bhaeH",
    "outputId": "32d3b003-4d2f-462b-fc58-23eb73ffd2b5"
   },
   "outputs": [
    {
     "name": "stdout",
     "output_type": "stream",
     "text": [
      "Pipeline(memory=None,\n",
      "         steps=[('standardscaler',\n",
      "                 StandardScaler(copy=True, with_mean=True, with_std=True)),\n",
      "                ('svc',\n",
      "                 SVC(C=1.0, break_ties=False, cache_size=200, class_weight=None,\n",
      "                     coef0=0.0, decision_function_shape='ovr', degree=3,\n",
      "                     gamma='scale', kernel='rbf', max_iter=-1,\n",
      "                     probability=False, random_state=None, shrinking=True,\n",
      "                     tol=0.001, verbose=False))],\n",
      "         verbose=False)\n"
     ]
    }
   ],
   "source": [
    "# SVM model with default parameter values fitted on IBM and Mushroom\n",
    "\n",
    "SVM_MT = make_pipeline(StandardScaler(), SVC())\n",
    "Ibm_SVM_MT = SVM_MT.fit(IbmX_train, Ibmy_train)\n",
    "Mushroom_SVM_MT = SVM_MT.fit(mushroomX_train, mushroomy_train)\n",
    "\n",
    "#To look into the parameters\n",
    "print(Ibm_SVM_MT)\n"
   ]
  },
  {
   "cell_type": "code",
   "execution_count": null,
   "metadata": {
    "colab": {
     "base_uri": "https://localhost:8080/",
     "height": 612
    },
    "colab_type": "code",
    "id": "8LnVSyuthaeK",
    "outputId": "79ccec4b-75b4-44e8-9372-dfeaa32e5481"
   },
   "outputs": [
    {
     "name": "stdout",
     "output_type": "stream",
     "text": [
      "On IBM: \n",
      "For kernel:  linear\n",
      "Accuracy of on train set: 0.90190\n",
      "Accuracy of on validation set: 0.86000\n",
      "----------------------------------------------------------------------------------------------------\n",
      "For kernel:  poly\n",
      "Accuracy of on train set: 0.93594\n",
      "Accuracy of on validation set: 0.84400\n",
      "----------------------------------------------------------------------------------------------------\n",
      "For kernel:  rbf\n",
      "Accuracy of on train set: 0.92292\n",
      "Accuracy of on validation set: 0.85600\n",
      "----------------------------------------------------------------------------------------------------\n",
      "For kernel:  sigmoid\n",
      "Accuracy of on train set: 0.86386\n",
      "Accuracy of on validation set: 0.86400\n",
      "----------------------------------------------------------------------------------------------------\n",
      "----------------------------------------------------------------------------------------------------\n",
      "On Mushroom\n",
      "For kernel:  linear\n",
      "Accuracy of on train set: 0.95022\n",
      "Accuracy of on validation set: 0.94352\n",
      "----------------------------------------------------------------------------------------------------\n",
      "For kernel:  poly\n",
      "Accuracy of on train set: 1.00000\n",
      "Accuracy of on validation set: 1.00000\n",
      "----------------------------------------------------------------------------------------------------\n",
      "For kernel:  rbf\n",
      "Accuracy of on train set: 1.00000\n",
      "Accuracy of on validation set: 1.00000\n",
      "----------------------------------------------------------------------------------------------------\n",
      "For kernel:  sigmoid\n",
      "Accuracy of on train set: 0.80449\n",
      "Accuracy of on validation set: 0.79580\n",
      "----------------------------------------------------------------------------------------------------\n"
     ]
    }
   ],
   "source": [
    "# Step 1 - To find the performance of the model with different kernel values\n",
    "\n",
    "# Storing all the values the mentioned parameter can take - the value 'precomputed' works only on square matrix so it is not used to train models\n",
    "kernel_opt = ['linear', 'poly', 'rbf', 'sigmoid']\n",
    "\n",
    "#Writing a function for iterating the values of the parameter, fitting the model and getting the accuracy\n",
    "def svm_mt_1(model, X_train, y_train, X_val, y_val):\n",
    "  for i in kernel_opt:\n",
    "    model =  make_pipeline(StandardScaler(), SVC(kernel=i))\n",
    "    model.fit(X_train, y_train)\n",
    "    print(\"For kernel: \", str(i))\n",
    "    print('Accuracy of on train set: {:.5f}'.format(model.score(X_train, y_train)))\n",
    "    print('Accuracy of on validation set: {:.5f}'.format(model.score(X_val, y_val)))\n",
    "    print(100*'-')\n",
    "\n",
    "# Calling the function for IBM\n",
    "print(\"On IBM: \")\n",
    "svm_mt_1(Ibm_SVM_MT, IbmX_train, Ibmy_train, IbmX_val, Ibmy_val)\n",
    "print(100*\"-\")\n",
    "# Calling the function for Mushroom\n",
    "print(\"On Mushroom\")\n",
    "svm_mt_1(Mushroom_SVM_MT, mushroomX_train, mushroomy_train, mushroomX_val, mushroomy_val)\n"
   ]
  },
  {
   "cell_type": "markdown",
   "metadata": {
    "colab_type": "text",
    "id": "Xf2UWkG1mnrz"
   },
   "source": [
    "**Comments:** \n",
    "\n",
    "On IBM: Models with kernel values poly and rbf performs best on train set but 'linear' and 'sigmoid' values beat them in terms of generalization (performs well both on train and unseen validation data). The default value for kernel parameter is retained since the performance on unseen data is only 0.4% lesser than (kernel='linear').\n",
    "\n",
    "On Mushroom: The model performs the opposite on mushroom data as compared to IBM. The default value is retained."
   ]
  },
  {
   "cell_type": "code",
   "execution_count": null,
   "metadata": {
    "colab": {
     "base_uri": "https://localhost:8080/",
     "height": 340
    },
    "colab_type": "code",
    "id": "TyNvNjCVhaeO",
    "outputId": "b99265a1-50c7-4d7b-aa29-76ee97a0425b"
   },
   "outputs": [
    {
     "name": "stdout",
     "output_type": "stream",
     "text": [
      "On IBM: \n",
      "For gamma:  scale\n",
      "Accuracy of on train set: 0.92292\n",
      "Accuracy of on validation set: 0.85600\n",
      "----------------------------------------------------------------------------------------------------\n",
      "For gamma:  auto\n",
      "Accuracy of on train set: 0.92292\n",
      "Accuracy of on validation set: 0.85600\n",
      "----------------------------------------------------------------------------------------------------\n",
      "----------------------------------------------------------------------------------------------------\n",
      "On Mushroom\n",
      "For gamma:  scale\n",
      "Accuracy of on train set: 1.00000\n",
      "Accuracy of on validation set: 1.00000\n",
      "----------------------------------------------------------------------------------------------------\n",
      "For gamma:  auto\n",
      "Accuracy of on train set: 1.00000\n",
      "Accuracy of on validation set: 1.00000\n",
      "----------------------------------------------------------------------------------------------------\n"
     ]
    }
   ],
   "source": [
    "# Step 2 - Tuning the parameter 'gamma'\n",
    "\n",
    "# Storing all the values the mentioned parameter can take\n",
    "gamma_opt = ['scale', 'auto']\n",
    "\n",
    "#Writing a function for iterating the values of the parameter, fitting the model and getting the accuracy\n",
    "def svm_mt_2(model, X_train, y_train, X_val, y_val):\n",
    "  for i in gamma_opt:\n",
    "    model = make_pipeline(StandardScaler(), SVC(gamma=i))\n",
    "    model.fit(X_train, y_train)\n",
    "    print(\"For gamma: \", str(i))\n",
    "    print('Accuracy of on train set: {:.5f}'.format(model.score(X_train, y_train)))\n",
    "    print('Accuracy of on validation set: {:.5f}'.format(model.score(X_val, y_val)))\n",
    "    print(100*'-')\n",
    "\n",
    "# Calling the function for IBM\n",
    "print(\"On IBM: \")\n",
    "svm_mt_2(Ibm_SVM_MT, IbmX_train, Ibmy_train, IbmX_val, Ibmy_val)\n",
    "print(100*\"-\")\n",
    "# Calling the function for Mushroom\n",
    "print(\"On Mushroom\")\n",
    "svm_mt_2(Mushroom_SVM_MT, mushroomX_train, mushroomy_train, mushroomX_val, mushroomy_val)"
   ]
  },
  {
   "cell_type": "markdown",
   "metadata": {
    "colab_type": "text",
    "id": "a7jD9JDMoyz0"
   },
   "source": [
    "**Comments:** There are no change in performance on both IBM and Mushroom. The default value is retained"
   ]
  },
  {
   "cell_type": "markdown",
   "metadata": {
    "colab_type": "text",
    "id": "wcRtnMZApX9x"
   },
   "source": [
    "# **5. Evaluation and Comparison of the (Manual/Systematic Tuning) optimized models**"
   ]
  },
  {
   "cell_type": "markdown",
   "metadata": {
    "colab_type": "text",
    "id": "lT06ipHrqFrS"
   },
   "source": [
    "## 5.1 ROC Curve"
   ]
  },
  {
   "cell_type": "code",
   "execution_count": null,
   "metadata": {
    "colab": {
     "base_uri": "https://localhost:8080/",
     "height": 1000
    },
    "colab_type": "code",
    "id": "URJmIYBqqEOh",
    "outputId": "97ebf7c1-296c-4357-98b3-9105438a7c0d"
   },
   "outputs": [
    {
     "name": "stdout",
     "output_type": "stream",
     "text": [
      "----------------------------------------------------------------------------------------------------\n",
      "The AUC scores for the default models trained on IBM are as follows: \n",
      "----------------------------------------------------------------------------------------------------\n",
      "Baseline (random guess): ROC AUC=0.5000\n",
      "Logistic Regression: ROC AUC=0.8152\n",
      "Decision Trees: ROC AUC=0.6485\n",
      "Perceptron: ROC AUC=0.5000\n",
      "MLP: ROC AUC=0.6312\n",
      "SVM: ROC AUC=0.8086\n",
      "----------------------------------------------------------------------------------------------------\n"
     ]
    },
    {
     "data": {
      "image/png": "[encoded data removed]",
      "text/plain": [
       "<Figure size 720x432 with 1 Axes>"
      ]
     },
     "metadata": {
      "needs_background": "light",
      "tags": []
     },
     "output_type": "display_data"
    },
    {
     "name": "stdout",
     "output_type": "stream",
     "text": [
      "\n",
      "\n",
      "----------------------------------------------------------------------------------------------------\n",
      "The AUC scores for the default models trained on Mushroom are as follows: \n",
      "----------------------------------------------------------------------------------------------------\n",
      "Baseline (random guess): ROC AUC=0.5000\n",
      "Logistic Regression: ROC AUC=0.9751\n",
      "Decision Trees: ROC AUC=1.0000\n",
      "Perceptron: ROC AUC=0.9722\n",
      "MLP: ROC AUC=1.0000\n",
      "SVM: ROC AUC=1.0000\n",
      "----------------------------------------------------------------------------------------------------\n"
     ]
    },
    {
     "data": {
      "image/png": "[encoded data removed]",
      "text/plain": [
       "<Figure size 720x432 with 1 Axes>"
      ]
     },
     "metadata": {
      "needs_background": "light",
      "tags": []
     },
     "output_type": "display_data"
    }
   ],
   "source": [
    "# ROC for manually optimized models on IBM and Mushroom\n",
    "# Storing the optimized models from previous steps to its relevant variables where it get called in functions\n",
    "# Only Logistic Regression and Decision Trees was optimized with values other than the default values of a parameter. Other models still perform well with the default values\n",
    "\n",
    "lr = lr_ibm_mt\n",
    "dt = dt_ibm_mt\n",
    "rocplot(IbmX_test, Ibmy_test, IbmX_train, Ibmy_train, \"IBM\")\n",
    "print(\"\\n\")\n",
    "lr = lr_mushroom_mt\n",
    "dt = dt_mushroom_mt\n",
    "rocplot(mushroomX_test, mushroomy_test, mushroomX_train, mushroomy_train, \"Mushroom\")"
   ]
  },
  {
   "cell_type": "markdown",
   "metadata": {
    "colab_type": "text",
    "id": "rnHstxanuVl5"
   },
   "source": [
    "**Comments:** After manually optimizing the parameters for Logistic model the AUC score for the model on IBM improved from 0.702 to 0.815. However there is no improvement in the AUC score for the model on Mushroom dataset"
   ]
  },
  {
   "cell_type": "markdown",
   "metadata": {
    "colab_type": "text",
    "id": "9-19QBk5vF-c"
   },
   "source": [
    "## 5.2 Cross-validation"
   ]
  },
  {
   "cell_type": "code",
   "execution_count": null,
   "metadata": {
    "colab": {
     "base_uri": "https://localhost:8080/",
     "height": 1000
    },
    "colab_type": "code",
    "id": "vd4uo1gDvKU_",
    "outputId": "bb319412-884c-46bb-98b7-6e2c4c1d4989"
   },
   "outputs": [
    {
     "name": "stdout",
     "output_type": "stream",
     "text": [
      "------------------------------------------------------------------------------------------\n",
      "\t \t \t \t \t ON IBM\n",
      "------------------------------------------------------------------------------------------\n",
      "Logistic Regression: Average Accuracy is 0.879909 and standard deviation is 0.033980\n",
      "Decision Tree: Average Accuracy is 0.828808 and standard deviation is 0.029944\n",
      "Perceptron: Average Accuracy is 0.838838 and standard deviation is 0.002985\n",
      "MLP: Average Accuracy is 0.791838 and standard deviation is 0.137334\n",
      "SVM: Average Accuracy is 0.877899 and standard deviation is 0.025916\n",
      "------------------------------------------------------------------------------------------\n"
     ]
    },
    {
     "data": {
      "image/png": "[encoded data removed]",
      "text/plain": [
       "<Figure size 720x504 with 1 Axes>"
      ]
     },
     "metadata": {
      "needs_background": "light",
      "tags": []
     },
     "output_type": "display_data"
    },
    {
     "name": "stdout",
     "output_type": "stream",
     "text": [
      "\n",
      "------------------------------------------------------------------------------------------\n",
      "\t \t \t \t \t ON MUSHROOM\n",
      "------------------------------------------------------------------------------------------\n",
      "Logistic Regression: Average Accuracy is 0.947143 and standard deviation is 0.011708\n",
      "Decision Tree: Average Accuracy is 1.000000 and standard deviation is 0.000000\n",
      "Perceptron: Average Accuracy is 0.944247 and standard deviation is 0.009890\n",
      "MLP: Average Accuracy is 1.000000 and standard deviation is 0.000000\n",
      "SVM: Average Accuracy is 1.000000 and standard deviation is 0.000000\n",
      "------------------------------------------------------------------------------------------\n"
     ]
    },
    {
     "data": {
      "image/png": "[encoded data removed]",
      "text/plain": [
       "<Figure size 720x504 with 1 Axes>"
      ]
     },
     "metadata": {
      "needs_background": "light",
      "tags": []
     },
     "output_type": "display_data"
    }
   ],
   "source": [
    "# Evaluation of the optimized models from the previous section using the performance metric Crossvalidation for IBM and mushroom\n",
    "\n",
    "lr = lr_ibm_mt\n",
    "dt = dt_ibm_mt\n",
    "cv(IbmX_train, Ibmy_train, Ibmy_test, \"IBM\")\n",
    "print()\n",
    "lr = lr_mushroom_mt\n",
    "dt = dt_mushroom_mt\n",
    "cv(mushroomX_train, mushroomy_train, mushroomy_test, \"MUSHROOM\")"
   ]
  },
  {
   "cell_type": "markdown",
   "metadata": {
    "colab_type": "text",
    "id": "xJ-L_U_m0R6B"
   },
   "source": [
    "**Comments:** \n",
    "After manually optimizing the paramters, the Logistic model improved its accuracy from 85% to 88% on IBM data\n",
    "\n"
   ]
  },
  {
   "cell_type": "markdown",
   "metadata": {
    "colab_type": "text",
    "id": "GILsCmmexiV7"
   },
   "source": [
    "## 5.3 Accuracy Score"
   ]
  },
  {
   "cell_type": "code",
   "execution_count": null,
   "metadata": {
    "colab": {
     "base_uri": "https://localhost:8080/",
     "height": 476
    },
    "colab_type": "code",
    "id": "M7mVwDHAxhwH",
    "outputId": "f9b5d944-1b5f-43a3-c82c-220c11946284"
   },
   "outputs": [
    {
     "name": "stdout",
     "output_type": "stream",
     "text": [
      "----------------------------------------------------------------------------------------------------\n",
      " \t \t \t \t Accuracy Score on IBM\n",
      "----------------------------------------------------------------------------------------------------\n",
      "Logistic Regression: on train set = 0.898899, on validation set = 0.876000, on test set = 0.886878\n",
      "----------------------------------------------------------------------------------------------------\n",
      "Decision Tree: on train set = 0.843844, on validation set = 0.832000, on test set = 0.859729\n",
      "----------------------------------------------------------------------------------------------------\n",
      "Perceptron: on train set = 0.838839, on validation set = 0.840000, on test set = 0.837104\n",
      "----------------------------------------------------------------------------------------------------\n",
      "MLP: on train set = 0.298298, on validation set = 0.256000, on test set = 0.262443\n",
      "----------------------------------------------------------------------------------------------------\n",
      "SVM: on train set = 0.933934, on validation set = 0.848000, on test set = 0.855204\n",
      "----------------------------------------------------------------------------------------------------\n",
      "\n",
      "----------------------------------------------------------------------------------------------------\n",
      " \t \t \t \t Accuracy Score on MUSHROOM\n",
      "----------------------------------------------------------------------------------------------------\n",
      "Logistic Regression: on train set = 0.948226, on validation set = 0.943519, on test set = 0.944217\n",
      "----------------------------------------------------------------------------------------------------\n",
      "Decision Tree: on train set = 1.000000, on validation set = 1.000000, on test set = 1.000000\n",
      "----------------------------------------------------------------------------------------------------\n",
      "Perceptron: on train set = 0.948407, on validation set = 0.943519, on test set = 0.941756\n",
      "----------------------------------------------------------------------------------------------------\n",
      "MLP: on train set = 1.000000, on validation set = 1.000000, on test set = 1.000000\n",
      "----------------------------------------------------------------------------------------------------\n",
      "SVM: on train set = 1.000000, on validation set = 1.000000, on test set = 1.000000\n",
      "----------------------------------------------------------------------------------------------------\n"
     ]
    }
   ],
   "source": [
    "# Accuracy Score for the optimized models on IBM and Mushroom dataset\n",
    "\n",
    "lr = lr_ibm_mt\n",
    "dt = dt_ibm_mt\n",
    "accuracy(IbmX_train, Ibmy_train, IbmX_val, Ibmy_val, IbmX_test, Ibmy_test, 'IBM')\n",
    "print ()\n",
    "lr = lr_mushroom_mt\n",
    "dt = dt_mushroom_mt\n",
    "accuracy(mushroomX_train, mushroomy_train, mushroomX_val, mushroomy_val, mushroomX_test, mushroomy_test, 'MUSHROOM')"
   ]
  },
  {
   "cell_type": "markdown",
   "metadata": {
    "colab_type": "text",
    "id": "I0AfHmtyznkY"
   },
   "source": [
    "## 5.4 Confusion Matrix"
   ]
  },
  {
   "cell_type": "code",
   "execution_count": null,
   "metadata": {
    "colab": {
     "base_uri": "https://localhost:8080/",
     "height": 1000
    },
    "colab_type": "code",
    "id": "Qdx1lVHs1Gd2",
    "outputId": "8cec1a66-7fcd-4f97-eaed-50b0a1ffca8e"
   },
   "outputs": [
    {
     "name": "stdout",
     "output_type": "stream",
     "text": [
      "------------------------------\n",
      "  Confusion Matrix - IBM\n",
      "------------------------------\n",
      "Logistic Regression Model: \n",
      " train set: \n",
      " [[813  25]\n",
      " [ 76  85]] \n",
      " validation set: \n",
      " [[204   6]\n",
      " [ 25  15]] \n",
      " test set: \n",
      " [[184   1]\n",
      " [ 24  12]]\n",
      "------------------------------\n",
      "Decision Tree Model: \n",
      " train set: \n",
      " [[784  54]\n",
      " [102  59]] \n",
      " validation set: \n",
      " [[194  16]\n",
      " [ 26  14]] \n",
      " test set: \n",
      " [[181   4]\n",
      " [ 27   9]]\n",
      "------------------------------\n",
      "Perceptron Model: \n",
      " train set: \n",
      " [[838   0]\n",
      " [161   0]] \n",
      " validation set: \n",
      " [[210   0]\n",
      " [ 40   0]] \n",
      " test set: \n",
      " [[185   0]\n",
      " [ 36   0]]\n",
      "------------------------------\n",
      "MLP Model: \n",
      " train set: \n",
      " [[206 632]\n",
      " [ 16 145]] \n",
      " validation set: \n",
      " [[ 42 168]\n",
      " [  3  37]] \n",
      " test set: \n",
      " [[ 33 152]\n",
      " [  5  31]]\n",
      "------------------------------\n",
      "SVM Model: \n",
      " train set: \n",
      " [[837   1]\n",
      " [ 65  96]] \n",
      " validation set: \n",
      " [[203   7]\n",
      " [ 31   9]] \n",
      " test set: \n",
      " [[181   4]\n",
      " [ 28   8]]\n",
      "------------------------------\n",
      "\n",
      "------------------------------\n",
      "  Confusion Matrix - Mushroom\n",
      "------------------------------\n",
      "Logistic Regression Model: \n",
      " train set: \n",
      " [[2750  112]\n",
      " [ 174 2488]] \n",
      " validation set: \n",
      " [[689  26]\n",
      " [ 52 614]] \n",
      " test set: \n",
      " [[603  28]\n",
      " [ 40 548]]\n",
      "------------------------------\n",
      "Decision Tree Model: \n",
      " train set: \n",
      " [[2862    0]\n",
      " [   0 2662]] \n",
      " validation set: \n",
      " [[715   0]\n",
      " [  0 666]] \n",
      " test set: \n",
      " [[631   0]\n",
      " [  0 588]]\n",
      "------------------------------\n",
      "Perceptron Model: \n",
      " train set: \n",
      " [[2746  116]\n",
      " [ 169 2493]] \n",
      " validation set: \n",
      " [[687  28]\n",
      " [ 50 616]] \n",
      " test set: \n",
      " [[602  29]\n",
      " [ 42 546]]\n",
      "------------------------------\n",
      "MLP Model: \n",
      " train set: \n",
      " [[2862    0]\n",
      " [   0 2662]] \n",
      " validation set: \n",
      " [[715   0]\n",
      " [  0 666]] \n",
      " test set: \n",
      " [[631   0]\n",
      " [  0 588]]\n",
      "------------------------------\n",
      "SVM Model: \n",
      " train set: \n",
      " [[2862    0]\n",
      " [   0 2662]] \n",
      " validation set: \n",
      " [[715   0]\n",
      " [  0 666]] \n",
      " test set: \n",
      " [[631   0]\n",
      " [  0 588]]\n",
      "------------------------------\n"
     ]
    }
   ],
   "source": [
    "# Confusion Matrix for the so far optimized models on IBM and Mushroom dataset\n",
    "\n",
    "lr = lr_ibm_mt\n",
    "dt = dt_ibm_mt \n",
    "cm(IbmX_train, Ibmy_train, IbmX_val, Ibmy_val, IbmX_test, Ibmy_test, 'IBM')\n",
    "print ()\n",
    "lr = lr_mushroom_mt\n",
    "dt = dt_mushroom_mt\n",
    "cm(mushroomX_train, mushroomy_train, mushroomX_val, mushroomy_val, mushroomX_test, mushroomy_test, 'Mushroom')"
   ]
  },
  {
   "cell_type": "markdown",
   "metadata": {
    "colab_type": "text",
    "id": "EO55Nvu31w_F"
   },
   "source": [
    "## 5.5 Classification Report"
   ]
  },
  {
   "cell_type": "code",
   "execution_count": null,
   "metadata": {
    "colab": {
     "base_uri": "https://localhost:8080/",
     "height": 1000
    },
    "colab_type": "code",
    "id": "mu_Tdqhr1vll",
    "outputId": "b80418c5-a4ab-4ca0-8c0b-97fe8ac6b01b"
   },
   "outputs": [
    {
     "name": "stdout",
     "output_type": "stream",
     "text": [
      "----------------------------------------------------------------------\n",
      "\t \t    Classification Report - IBM\n",
      "----------------------------------------------------------------------\n",
      "\t \t \t Logistic Regression: \n",
      " ON TRAIN SET: \n",
      "               precision    recall  f1-score   support\n",
      "\n",
      "           0       0.91      0.97      0.94       838\n",
      "           1       0.77      0.53      0.63       161\n",
      "\n",
      "    accuracy                           0.90       999\n",
      "   macro avg       0.84      0.75      0.78       999\n",
      "weighted avg       0.89      0.90      0.89       999\n",
      " \n",
      " ON VALIDATION SET: \n",
      "               precision    recall  f1-score   support\n",
      "\n",
      "           0       0.89      0.97      0.93       210\n",
      "           1       0.71      0.38      0.49        40\n",
      "\n",
      "    accuracy                           0.88       250\n",
      "   macro avg       0.80      0.67      0.71       250\n",
      "weighted avg       0.86      0.88      0.86       250\n",
      " \n",
      " ON TEST SET: \n",
      "               precision    recall  f1-score   support\n",
      "\n",
      "           0       0.88      0.99      0.94       185\n",
      "           1       0.92      0.33      0.49        36\n",
      "\n",
      "    accuracy                           0.89       221\n",
      "   macro avg       0.90      0.66      0.71       221\n",
      "weighted avg       0.89      0.89      0.86       221\n",
      "\n",
      "----------------------------------------------------------------------\n",
      "\t \t \t Decision Tree: \n",
      " ON TRAIN SET: \n",
      "               precision    recall  f1-score   support\n",
      "\n",
      "           0       0.88      0.94      0.91       838\n",
      "           1       0.52      0.37      0.43       161\n",
      "\n",
      "    accuracy                           0.84       999\n",
      "   macro avg       0.70      0.65      0.67       999\n",
      "weighted avg       0.83      0.84      0.83       999\n",
      " \n",
      " ON VALIDATION SET: \n",
      "               precision    recall  f1-score   support\n",
      "\n",
      "           0       0.88      0.92      0.90       210\n",
      "           1       0.47      0.35      0.40        40\n",
      "\n",
      "    accuracy                           0.83       250\n",
      "   macro avg       0.67      0.64      0.65       250\n",
      "weighted avg       0.82      0.83      0.82       250\n",
      " \n",
      " ON TEST SET: \n",
      "               precision    recall  f1-score   support\n",
      "\n",
      "           0       0.87      0.98      0.92       185\n",
      "           1       0.69      0.25      0.37        36\n",
      "\n",
      "    accuracy                           0.86       221\n",
      "   macro avg       0.78      0.61      0.64       221\n",
      "weighted avg       0.84      0.86      0.83       221\n",
      "\n",
      "----------------------------------------------------------------------\n",
      "\t \t \t Perceptron: \n",
      " ON TRAIN SET: \n",
      "               precision    recall  f1-score   support\n",
      "\n",
      "           0       0.84      1.00      0.91       838\n",
      "           1       0.00      0.00      0.00       161\n",
      "\n",
      "    accuracy                           0.84       999\n",
      "   macro avg       0.42      0.50      0.46       999\n",
      "weighted avg       0.70      0.84      0.77       999\n",
      " \n",
      " ON VALIDATION SET: \n",
      "               precision    recall  f1-score   support\n",
      "\n",
      "           0       0.84      1.00      0.91       210\n",
      "           1       0.00      0.00      0.00        40\n",
      "\n",
      "    accuracy                           0.84       250\n",
      "   macro avg       0.42      0.50      0.46       250\n",
      "weighted avg       0.71      0.84      0.77       250\n",
      " \n",
      " ON TEST SET: \n",
      "               precision    recall  f1-score   support\n",
      "\n",
      "           0       0.84      1.00      0.91       185\n",
      "           1       0.00      0.00      0.00        36\n",
      "\n",
      "    accuracy                           0.84       221\n",
      "   macro avg       0.42      0.50      0.46       221\n",
      "weighted avg       0.70      0.84      0.76       221\n",
      "\n",
      "----------------------------------------------------------------------\n",
      "\t \t \t MLP: \n",
      " ON TRAIN SET: \n",
      "               precision    recall  f1-score   support\n",
      "\n",
      "           0       0.84      1.00      0.91       838\n",
      "           1       0.00      0.00      0.00       161\n",
      "\n",
      "    accuracy                           0.84       999\n",
      "   macro avg       0.42      0.50      0.46       999\n",
      "weighted avg       0.70      0.84      0.77       999\n",
      " \n",
      " ON VALIDATION SET: \n",
      "               precision    recall  f1-score   support\n",
      "\n",
      "           0       0.84      1.00      0.91       210\n",
      "           1       0.00      0.00      0.00        40\n",
      "\n",
      "    accuracy                           0.84       250\n",
      "   macro avg       0.42      0.50      0.46       250\n",
      "weighted avg       0.71      0.84      0.77       250\n",
      " \n",
      " ON TEST SET: \n",
      "               precision    recall  f1-score   support\n",
      "\n",
      "           0       0.84      1.00      0.91       185\n",
      "           1       0.00      0.00      0.00        36\n",
      "\n",
      "    accuracy                           0.84       221\n",
      "   macro avg       0.42      0.50      0.46       221\n",
      "weighted avg       0.70      0.84      0.76       221\n",
      "\n",
      "----------------------------------------------------------------------\n",
      "\t \t \t SVM: \n",
      " ON TRAIN SET: \n",
      "               precision    recall  f1-score   support\n",
      "\n",
      "           0       0.93      1.00      0.96       838\n",
      "           1       0.99      0.60      0.74       161\n",
      "\n",
      "    accuracy                           0.93       999\n",
      "   macro avg       0.96      0.80      0.85       999\n",
      "weighted avg       0.94      0.93      0.93       999\n",
      " \n",
      " ON VALIDATION SET: \n",
      "               precision    recall  f1-score   support\n",
      "\n",
      "           0       0.87      0.97      0.91       210\n",
      "           1       0.56      0.23      0.32        40\n",
      "\n",
      "    accuracy                           0.85       250\n",
      "   macro avg       0.72      0.60      0.62       250\n",
      "weighted avg       0.82      0.85      0.82       250\n",
      " \n",
      " ON TEST SET: \n",
      "               precision    recall  f1-score   support\n",
      "\n",
      "           0       0.87      0.98      0.92       185\n",
      "           1       0.67      0.22      0.33        36\n",
      "\n",
      "    accuracy                           0.86       221\n",
      "   macro avg       0.77      0.60      0.63       221\n",
      "weighted avg       0.83      0.86      0.82       221\n",
      "\n",
      "----------------------------------------------------------------------\n",
      "\n",
      "\n",
      "----------------------------------------------------------------------\n",
      "\t \t    Classification Report - Mushroom\n",
      "----------------------------------------------------------------------\n",
      "\t \t \t Logistic Regression: \n",
      " ON TRAIN SET: \n",
      "               precision    recall  f1-score   support\n",
      "\n",
      "           0       0.94      0.96      0.95      2862\n",
      "           1       0.96      0.93      0.95      2662\n",
      "\n",
      "    accuracy                           0.95      5524\n",
      "   macro avg       0.95      0.95      0.95      5524\n",
      "weighted avg       0.95      0.95      0.95      5524\n",
      " \n",
      " ON VALIDATION SET: \n",
      "               precision    recall  f1-score   support\n",
      "\n",
      "           0       0.93      0.96      0.95       715\n",
      "           1       0.96      0.92      0.94       666\n",
      "\n",
      "    accuracy                           0.94      1381\n",
      "   macro avg       0.94      0.94      0.94      1381\n",
      "weighted avg       0.94      0.94      0.94      1381\n",
      " \n",
      " ON TEST SET: \n",
      "               precision    recall  f1-score   support\n",
      "\n",
      "           0       0.94      0.96      0.95       631\n",
      "           1       0.95      0.93      0.94       588\n",
      "\n",
      "    accuracy                           0.94      1219\n",
      "   macro avg       0.94      0.94      0.94      1219\n",
      "weighted avg       0.94      0.94      0.94      1219\n",
      "\n",
      "----------------------------------------------------------------------\n",
      "\t \t \t Decision Tree: \n",
      " ON TRAIN SET: \n",
      "               precision    recall  f1-score   support\n",
      "\n",
      "           0       1.00      1.00      1.00      2862\n",
      "           1       1.00      1.00      1.00      2662\n",
      "\n",
      "    accuracy                           1.00      5524\n",
      "   macro avg       1.00      1.00      1.00      5524\n",
      "weighted avg       1.00      1.00      1.00      5524\n",
      " \n",
      " ON VALIDATION SET: \n",
      "               precision    recall  f1-score   support\n",
      "\n",
      "           0       1.00      1.00      1.00       715\n",
      "           1       1.00      1.00      1.00       666\n",
      "\n",
      "    accuracy                           1.00      1381\n",
      "   macro avg       1.00      1.00      1.00      1381\n",
      "weighted avg       1.00      1.00      1.00      1381\n",
      " \n",
      " ON TEST SET: \n",
      "               precision    recall  f1-score   support\n",
      "\n",
      "           0       1.00      1.00      1.00       631\n",
      "           1       1.00      1.00      1.00       588\n",
      "\n",
      "    accuracy                           1.00      1219\n",
      "   macro avg       1.00      1.00      1.00      1219\n",
      "weighted avg       1.00      1.00      1.00      1219\n",
      "\n",
      "----------------------------------------------------------------------\n",
      "\t \t \t Perceptron: \n",
      " ON TRAIN SET: \n",
      "               precision    recall  f1-score   support\n",
      "\n",
      "           0       0.94      0.96      0.95      2862\n",
      "           1       0.96      0.94      0.95      2662\n",
      "\n",
      "    accuracy                           0.95      5524\n",
      "   macro avg       0.95      0.95      0.95      5524\n",
      "weighted avg       0.95      0.95      0.95      5524\n",
      " \n",
      " ON VALIDATION SET: \n",
      "               precision    recall  f1-score   support\n",
      "\n",
      "           0       0.93      0.96      0.95       715\n",
      "           1       0.96      0.92      0.94       666\n",
      "\n",
      "    accuracy                           0.94      1381\n",
      "   macro avg       0.94      0.94      0.94      1381\n",
      "weighted avg       0.94      0.94      0.94      1381\n",
      " \n",
      " ON TEST SET: \n",
      "               precision    recall  f1-score   support\n",
      "\n",
      "           0       0.93      0.95      0.94       631\n",
      "           1       0.95      0.93      0.94       588\n",
      "\n",
      "    accuracy                           0.94      1219\n",
      "   macro avg       0.94      0.94      0.94      1219\n",
      "weighted avg       0.94      0.94      0.94      1219\n",
      "\n",
      "----------------------------------------------------------------------\n",
      "\t \t \t MLP: \n",
      " ON TRAIN SET: \n",
      "               precision    recall  f1-score   support\n",
      "\n",
      "           0       1.00      1.00      1.00      2862\n",
      "           1       1.00      1.00      1.00      2662\n",
      "\n",
      "    accuracy                           1.00      5524\n",
      "   macro avg       1.00      1.00      1.00      5524\n",
      "weighted avg       1.00      1.00      1.00      5524\n",
      " \n",
      " ON VALIDATION SET: \n",
      "               precision    recall  f1-score   support\n",
      "\n",
      "           0       1.00      1.00      1.00       715\n",
      "           1       1.00      1.00      1.00       666\n",
      "\n",
      "    accuracy                           1.00      1381\n",
      "   macro avg       1.00      1.00      1.00      1381\n",
      "weighted avg       1.00      1.00      1.00      1381\n",
      " \n",
      " ON TEST SET: \n",
      "               precision    recall  f1-score   support\n",
      "\n",
      "           0       1.00      1.00      1.00       631\n",
      "           1       1.00      1.00      1.00       588\n",
      "\n",
      "    accuracy                           1.00      1219\n",
      "   macro avg       1.00      1.00      1.00      1219\n",
      "weighted avg       1.00      1.00      1.00      1219\n",
      "\n",
      "----------------------------------------------------------------------\n",
      "\t \t \t SVM: \n",
      " ON TRAIN SET: \n",
      "               precision    recall  f1-score   support\n",
      "\n",
      "           0       1.00      1.00      1.00      2862\n",
      "           1       1.00      1.00      1.00      2662\n",
      "\n",
      "    accuracy                           1.00      5524\n",
      "   macro avg       1.00      1.00      1.00      5524\n",
      "weighted avg       1.00      1.00      1.00      5524\n",
      " \n",
      " ON VALIDATION SET: \n",
      "               precision    recall  f1-score   support\n",
      "\n",
      "           0       1.00      1.00      1.00       715\n",
      "           1       1.00      1.00      1.00       666\n",
      "\n",
      "    accuracy                           1.00      1381\n",
      "   macro avg       1.00      1.00      1.00      1381\n",
      "weighted avg       1.00      1.00      1.00      1381\n",
      " \n",
      " ON TEST SET: \n",
      "               precision    recall  f1-score   support\n",
      "\n",
      "           0       1.00      1.00      1.00       631\n",
      "           1       1.00      1.00      1.00       588\n",
      "\n",
      "    accuracy                           1.00      1219\n",
      "   macro avg       1.00      1.00      1.00      1219\n",
      "weighted avg       1.00      1.00      1.00      1219\n",
      "\n",
      "----------------------------------------------------------------------\n"
     ]
    }
   ],
   "source": [
    "# Classification Report for the optimized models on IBM and mushroom datasets\n",
    "\n",
    "lr = lr_ibm_mt\n",
    "dt = dt_ibm_mt\n",
    "cr(IbmX_train, Ibmy_train, IbmX_val, Ibmy_val, IbmX_test, Ibmy_test, \"IBM\")\n",
    "print()\n",
    "print ()\n",
    "lr = lr_mushroom_mt\n",
    "dt = dt_mushroom_mt\n",
    "cr(mushroomX_train, mushroomy_train, mushroomX_val, mushroomy_val, mushroomX_test, mushroomy_test, \"Mushroom\")"
   ]
  },
  {
   "cell_type": "markdown",
   "metadata": {
    "colab_type": "text",
    "id": "EmYFjpHhGsCU"
   },
   "source": [
    "# **6. Parameter Optimization - Automated Tuning**"
   ]
  },
  {
   "cell_type": "markdown",
   "metadata": {
    "colab_type": "text",
    "id": "0HeW2mZ056UJ"
   },
   "source": [
    "## 6.1 Logistic Regression"
   ]
  },
  {
   "cell_type": "code",
   "execution_count": null,
   "metadata": {
    "colab": {
     "base_uri": "https://localhost:8080/",
     "height": 255
    },
    "colab_type": "code",
    "id": "ZoE5NGgK3tF2",
    "outputId": "bad97a5b-787c-4ed6-f572-6a9aa4f5286a"
   },
   "outputs": [
    {
     "name": "stdout",
     "output_type": "stream",
     "text": [
      "----------------------------------------------------------------------------------------------------\n",
      "On IBM\n",
      "----------------------------------------------------------------------------------------------------\n",
      "Best Parameters with Grid Search:  {'fit_intercept': False, 'multi_class': 'multinomial'}\n",
      "Accuracy after Cross-Validation:  0.8808994974874371\n",
      "----------------------------------------------------------------------------------------------------\n",
      "\n",
      "----------------------------------------------------------------------------------------------------\n",
      "On Mushroom\n",
      "----------------------------------------------------------------------------------------------------\n",
      "Best Parameters with Grid Search:  {'fit_intercept': False, 'multi_class': 'auto'}\n",
      "Accuracy after Cross-Validation:  0.9476844383238244\n",
      "----------------------------------------------------------------------------------------------------\n",
      "\n"
     ]
    }
   ],
   "source": [
    "# Reference - https://www.kaggle.com/enespolat/grid-search-with-logistic-regression\n",
    "#\"C\":np.logspace(-3,3,7)\n",
    "# Parameter Tuning using Grid Search on IBM and Mushroom\n",
    "grid={\"multi_class\":['auto', 'ovr', 'multinomial'], \"fit_intercept\":[True,False]}\n",
    "lr_ibm = lr_ibm_mt\n",
    "gridsearch(lr_ibm, IbmX_train, Ibmy_train, \"IBM\")\n",
    "lr_mushroom = lr_mushroom_mt\n",
    "gridsearch(lr_mushroom, mushroomX_train, mushroomy_train, \"Mushroom\")\n",
    "\n"
   ]
  },
  {
   "cell_type": "code",
   "execution_count": null,
   "metadata": {
    "colab": {},
    "colab_type": "code",
    "id": "ut5DOgMF_VNl"
   },
   "outputs": [],
   "source": [
    "# Parameter Tuning using Randomized Search\n",
    "\n",
    "#rs(lr, IbmX_train, Ibmy_train, \"IBM\")\n",
    "#rs(lr, mushroomX_train, mushroomy_train, \"Mushroom\")\n",
    "\n"
   ]
  },
  {
   "cell_type": "markdown",
   "metadata": {
    "colab_type": "text",
    "id": "Ynvc1jhFFouH"
   },
   "source": [
    "## 6.2 Decision Trees"
   ]
  },
  {
   "cell_type": "code",
   "execution_count": null,
   "metadata": {
    "colab": {
     "base_uri": "https://localhost:8080/",
     "height": 255
    },
    "colab_type": "code",
    "id": "msM2bqVgFtxQ",
    "outputId": "cc3ec645-7266-4080-90b7-08e8813872c7"
   },
   "outputs": [
    {
     "name": "stdout",
     "output_type": "stream",
     "text": [
      "----------------------------------------------------------------------------------------------------\n",
      "On IBM\n",
      "----------------------------------------------------------------------------------------------------\n",
      "Best Parameters with Random Search:  {'max_leaf_nodes': 100, 'max_depth': 12, 'ccp_alpha': 0.025}\n",
      "Accuracy:  0.8388391959798994\n",
      "----------------------------------------------------------------------------------------------------\n",
      "\n",
      "----------------------------------------------------------------------------------------------------\n",
      "On Mushroom\n",
      "----------------------------------------------------------------------------------------------------\n",
      "Best Parameters with Random Search:  {'max_leaf_nodes': 200, 'max_depth': 8, 'ccp_alpha': 0.0}\n",
      "Accuracy:  1.0\n",
      "----------------------------------------------------------------------------------------------------\n",
      "\n"
     ]
    }
   ],
   "source": [
    "# Parameter Tuning using Randomized Search\n",
    "\n",
    "ccp_alpha = [x for x in np.linspace(0, 0.035, num=8)]\n",
    "max_depth = [2, 4, 6, 8, 10, 12, 14, 16, None]\n",
    "max_leaf_nodes = [100, 200, 300, 400, None]\n",
    "\n",
    "grid = {'ccp_alpha': ccp_alpha,\n",
    "        'max_depth': max_depth,\n",
    "        'max_leaf_nodes': max_leaf_nodes,\n",
    "        }\n",
    "\n",
    "randomsearch(dt, IbmX_train, Ibmy_train, \"IBM\")\n",
    "randomsearch(dt, mushroomX_train, mushroomy_train, \"Mushroom\")"
   ]
  },
  {
   "cell_type": "code",
   "execution_count": null,
   "metadata": {
    "colab": {
     "base_uri": "https://localhost:8080/",
     "height": 248
    },
    "colab_type": "code",
    "id": "y-v1oSwwZvS-",
    "outputId": "4983256b-aef2-4d04-dd15-a472e4e601f0"
   },
   "outputs": [
    {
     "data": {
      "image/png": "[encoded data removed]",
      "text/plain": [
       "<Figure size 432x288 with 1 Axes>"
      ]
     },
     "metadata": {
      "needs_background": "light",
      "tags": []
     },
     "output_type": "display_data"
    }
   ],
   "source": [
    "# Visualise the tree - on IBM\n",
    "\n",
    "from sklearn.tree import plot_tree\n",
    "import matplotlib.pyplot as plt\n",
    "\n",
    "dt = DecisionTreeClassifier(max_leaf_nodes = 200, max_depth = 6, ccp_alpha = 0.005)\n",
    "ibmdt = dt.fit(IbmX_train, Ibmy_train)\n",
    "plot_tree(ibmdt, filled=True)\n",
    "plt.show()"
   ]
  },
  {
   "cell_type": "code",
   "execution_count": null,
   "metadata": {
    "colab": {
     "base_uri": "https://localhost:8080/",
     "height": 248
    },
    "colab_type": "code",
    "id": "RzJwFPdTaRcA",
    "outputId": "511a548d-b5ea-4da0-a2d8-8fd443aba39d"
   },
   "outputs": [
    {
     "data": {
      "image/png": "[encoded data removed]",
      "text/plain": [
       "<Figure size 432x288 with 1 Axes>"
      ]
     },
     "metadata": {
      "needs_background": "light",
      "tags": []
     },
     "output_type": "display_data"
    }
   ],
   "source": [
    "# Visualise the tree - on Mushroom\n",
    "\n",
    "dt = DecisionTreeClassifier(max_leaf_nodes = 200, max_depth = 6, ccp_alpha = 0.005)\n",
    "mushroomdt = dt.fit(mushroomX_train, mushroomy_train)\n",
    "plot_tree(mushroomdt, filled=True)\n",
    "plt.show()\n"
   ]
  },
  {
   "cell_type": "markdown",
   "metadata": {
    "colab_type": "text",
    "id": "Ji7IG_aRGxOK"
   },
   "source": [
    "## 6.3 Perceptron"
   ]
  },
  {
   "cell_type": "code",
   "execution_count": null,
   "metadata": {
    "colab": {
     "base_uri": "https://localhost:8080/",
     "height": 255
    },
    "colab_type": "code",
    "id": "yYlu1YrOG22a",
    "outputId": "da86c184-3974-4ea9-bf5e-2f22d22f4522"
   },
   "outputs": [
    {
     "name": "stdout",
     "output_type": "stream",
     "text": [
      "----------------------------------------------------------------------------------------------------\n",
      "On IBM\n",
      "----------------------------------------------------------------------------------------------------\n",
      "Best Parameters with Random Search:  {'max_iter': 150, 'eta0': 0.01, 'alpha': 1}\n",
      "Accuracy:  0.8388391959798994\n",
      "----------------------------------------------------------------------------------------------------\n",
      "\n",
      "----------------------------------------------------------------------------------------------------\n",
      "On Mushroom\n",
      "----------------------------------------------------------------------------------------------------\n",
      "Best Parameters with Random Search:  {'max_iter': 100, 'eta0': 0.01, 'alpha': 0.1}\n",
      "Accuracy:  0.9301227949373729\n",
      "----------------------------------------------------------------------------------------------------\n",
      "\n"
     ]
    }
   ],
   "source": [
    "# Parameter Tuning using Randomized Search\n",
    "\n",
    "grid = {'alpha':[0.0001,0.001,0.01,0.1,1,10],\n",
    "                   'eta0':[0.0001,0.001,0.01,0.1,1,10],\n",
    "                   'max_iter': range(50,200,50)\n",
    "                    }\n",
    "slp = Perceptron()\n",
    "randomsearch(slp, IbmX_train, Ibmy_train, \"IBM\")\n",
    "randomsearch(slp, mushroomX_train, mushroomy_train, \"Mushroom\")"
   ]
  },
  {
   "cell_type": "markdown",
   "metadata": {
    "colab_type": "text",
    "id": "CZzRri8SHQtq"
   },
   "source": [
    "## 6.4 Multi-Layer Perceptron"
   ]
  },
  {
   "cell_type": "code",
   "execution_count": null,
   "metadata": {
    "colab": {
     "base_uri": "https://localhost:8080/",
     "height": 255
    },
    "colab_type": "code",
    "id": "88dOXdOTHe8x",
    "outputId": "d94e0c2d-72a7-4818-e3e5-a3ff5da88a40"
   },
   "outputs": [
    {
     "name": "stdout",
     "output_type": "stream",
     "text": [
      "----------------------------------------------------------------------------------------------------\n",
      "On IBM\n",
      "----------------------------------------------------------------------------------------------------\n",
      "Best Parameters with Random Search:  {'max_iter': 150, 'hidden_layer_sizes': 81, 'alpha': 0.01, 'activation': 'tanh'}\n",
      "Accuracy:  0.8388391959798994\n",
      "----------------------------------------------------------------------------------------------------\n",
      "\n",
      "----------------------------------------------------------------------------------------------------\n",
      "On Mushroom\n",
      "----------------------------------------------------------------------------------------------------\n",
      "Best Parameters with Random Search:  {'max_iter': 100, 'hidden_layer_sizes': 131, 'alpha': 0.1, 'activation': 'relu'}\n",
      "Accuracy:  1.0\n",
      "----------------------------------------------------------------------------------------------------\n",
      "\n"
     ]
    }
   ],
   "source": [
    "# Parameter Tuning using Randomized Search - Takes a long time to run\n",
    "\n",
    "grid = {'hidden_layer_sizes': range(1,200,10), \n",
    "                  'activation': ['tanh','logistic','relu'],\n",
    "                  'alpha':[0.0001,0.001,0.01,0.1,1,10], \n",
    "                  'max_iter': range(50,200,50)\n",
    "                  }\n",
    "mlp = MLPClassifier()\n",
    "randomsearch(mlp, IbmX_train, Ibmy_train, \"IBM\")\n",
    "randomsearch(mlp, mushroomX_train, mushroomy_train, \"Mushroom\")"
   ]
  },
  {
   "cell_type": "markdown",
   "metadata": {
    "colab_type": "text",
    "id": "I_NgKqgOHrfr"
   },
   "source": [
    "## 6.5 Support-Vector Machines"
   ]
  },
  {
   "cell_type": "code",
   "execution_count": null,
   "metadata": {
    "colab": {
     "base_uri": "https://localhost:8080/",
     "height": 255
    },
    "colab_type": "code",
    "id": "DVm7gWrDHyrY",
    "outputId": "e5e7db02-ed44-4a82-82c0-fa2b7834c67c"
   },
   "outputs": [
    {
     "name": "stdout",
     "output_type": "stream",
     "text": [
      "----------------------------------------------------------------------------------------------------\n",
      "On IBM\n",
      "----------------------------------------------------------------------------------------------------\n",
      "Best Parameters with Random Search:  {'C': 0.001, 'gamma': 0.01}\n",
      "Accuracy after Cross-Validation:  0.8388391959798994\n",
      "----------------------------------------------------------------------------------------------------\n",
      "\n",
      "----------------------------------------------------------------------------------------------------\n",
      "On Mushroom\n",
      "----------------------------------------------------------------------------------------------------\n",
      "Best Parameters with Random Search:  {'C': 0.5, 'gamma': 0.01}\n",
      "Accuracy after Cross-Validation:  0.9818970096399763\n",
      "----------------------------------------------------------------------------------------------------\n",
      "\n"
     ]
    }
   ],
   "source": [
    "# Parameter Tuning using Grid Search\n",
    "# Reference: https://www.kaggle.com/udaysa/svm-with-scikit-learn-svm-with-parameter-tuning\n",
    "# The python function written (sec 2.7) is not called because the SVC model goes through a pipeline where the parameters are not recognized\n",
    "# Hence the model is fit directly into GridSearchCV()\n",
    "\n",
    "grid = {'C': [0.001, 0.10, 0.1, 0.5], \n",
    "         'gamma': [1e-2, 1e-3, 1e-4, 1e-5]}\n",
    "         \n",
    "model = GridSearchCV(SVC(), grid, cv=5)\n",
    "model = model.fit(IbmX_train, Ibmy_train)\n",
    "print(100*'-')\n",
    "print(\"On IBM\" )\n",
    "print(100*'-')\n",
    "print(\"Best Parameters with Random Search: \", model.best_params_)\n",
    "print(\"Accuracy after Cross-Validation: \", model.best_score_)\n",
    "print(100*'-')\n",
    "print()\n",
    "\n",
    "model = GridSearchCV(SVC(), grid, cv=5)\n",
    "model = model.fit(mushroomX_train, mushroomy_train)\n",
    "print(100*'-')\n",
    "print(\"On Mushroom\" )\n",
    "print(100*'-')\n",
    "print(\"Best Parameters with Random Search: \", model.best_params_)\n",
    "print(\"Accuracy after Cross-Validation: \", model.best_score_)\n",
    "print(100*'-')\n",
    "print()\n",
    "        "
   ]
  },
  {
   "cell_type": "markdown",
   "metadata": {
    "colab_type": "text",
    "id": "IDY9yxNcqtaG"
   },
   "source": [
    "**Comments:** The best parameter values searched through Randomized Search method did not improve the model's performance"
   ]
  },
  {
   "cell_type": "markdown",
   "metadata": {
    "colab_type": "text",
    "id": "frfvcQHAH47e"
   },
   "source": [
    "# **7. Evaluation and Comparison of the optimized models**"
   ]
  },
  {
   "cell_type": "markdown",
   "metadata": {
    "colab_type": "text",
    "id": "GwaJTfi1Olqt"
   },
   "source": [
    "## 7.1 ROC Curve"
   ]
  },
  {
   "cell_type": "code",
   "execution_count": null,
   "metadata": {
    "colab": {
     "base_uri": "https://localhost:8080/",
     "height": 1000
    },
    "colab_type": "code",
    "id": "gG8nwk3cOkkX",
    "outputId": "bbe2a5c2-b663-4311-e15c-95c3c0156261"
   },
   "outputs": [
    {
     "name": "stdout",
     "output_type": "stream",
     "text": [
      "----------------------------------------------------------------------------------------------------\n",
      "The AUC scores for the default models trained on IBM are as follows: \n",
      "----------------------------------------------------------------------------------------------------\n",
      "Baseline (random guess): ROC AUC=0.5000\n",
      "Logistic Regression: ROC AUC=0.7623\n",
      "Decision Trees: ROC AUC=0.5052\n",
      "Perceptron: ROC AUC=0.5000\n",
      "MLP: ROC AUC=0.5389\n",
      "SVM: ROC AUC=0.8086\n",
      "----------------------------------------------------------------------------------------------------\n"
     ]
    },
    {
     "data": {
      "image/png": "[encoded data removed]",
      "text/plain": [
       "<Figure size 720x432 with 1 Axes>"
      ]
     },
     "metadata": {
      "needs_background": "light",
      "tags": []
     },
     "output_type": "display_data"
    },
    {
     "name": "stdout",
     "output_type": "stream",
     "text": [
      "\n",
      "----------------------------------------------------------------------------------------------------\n",
      "The AUC scores for the default models trained on Mushroom are as follows: \n",
      "----------------------------------------------------------------------------------------------------\n",
      "Baseline (random guess): ROC AUC=0.5000\n",
      "Logistic Regression: ROC AUC=0.9745\n",
      "Decision Trees: ROC AUC=1.0000\n",
      "Perceptron: ROC AUC=0.9702\n",
      "MLP: ROC AUC=1.0000\n",
      "SVM: ROC AUC=1.0000\n",
      "----------------------------------------------------------------------------------------------------\n"
     ]
    },
    {
     "data": {
      "image/png": "[encoded data removed]",
      "text/plain": [
       "<Figure size 720x432 with 1 Axes>"
      ]
     },
     "metadata": {
      "needs_background": "light",
      "tags": []
     },
     "output_type": "display_data"
    }
   ],
   "source": [
    "# Plotting ROC on IBM and Mushroom\n",
    "\n",
    "# Calling models for the optimum parameter values on IBM Dataset and storing the models to the variables in the function\n",
    "\n",
    "data = ''\n",
    "\n",
    "if data == \"IBM\":\n",
    "  lr = LogisticRegression(max_iter = 4300, solver = 'newton-cg', fit_intercept = False, multi_class = 'auto')\n",
    "  dt = DecisionTreeClassifier(max_leaf_nodes = 200, max_depth = 6, ccp_alpha = 0.012)\n",
    "  slp = Perceptron(max_iter = 100, eta0 = 0.0001, alpha = 0.001)\n",
    "  mlp = MLPClassifier(max_iter = 100, hidden_layer_sizes = 151, alpha = 0.001, activation = 'tanh')\n",
    "  svm = make_pipeline(StandardScaler(), SVC())\n",
    "else:\n",
    "  lr = LogisticRegression(max_iter = 428, fit_intercept = False, multi_class = 'auto')\n",
    "  dt = DecisionTreeClassifier(max_leaf_nodes = 100, max_depth = 16, ccp_alpha = 0.0)\n",
    "  slp = Perceptron(max_iter = 100, eta0 = 0.01, alpha = 0.0001)\n",
    "  mlp = MLPClassifier(max_iter = 100, hidden_layer_sizes = 191, alpha = 0.001, activation = 'tanh')\n",
    "  svm = make_pipeline(StandardScaler(), SVC())\n",
    "\n",
    "\n",
    "data = \"IBM\"\n",
    "rocplot(IbmX_test, Ibmy_test, IbmX_train, Ibmy_train, \"IBM\")\n",
    "print()\n",
    "data = \"Mushroom\"\n",
    "rocplot(mushroomX_test, mushroomy_test, mushroomX_train, mushroomy_train, \"Mushroom\")\n"
   ]
  },
  {
   "cell_type": "markdown",
   "metadata": {
    "colab_type": "text",
    "id": "1Csx9cHPUVJc"
   },
   "source": [
    "## 7.2 Cross-Validation"
   ]
  },
  {
   "cell_type": "code",
   "execution_count": null,
   "metadata": {
    "colab": {
     "base_uri": "https://localhost:8080/",
     "height": 1000
    },
    "colab_type": "code",
    "id": "hQTHicTdUBbP",
    "outputId": "cc08afa6-6c96-4b64-e0b7-6dd8468fb030"
   },
   "outputs": [
    {
     "name": "stdout",
     "output_type": "stream",
     "text": [
      "------------------------------------------------------------------------------------------\n",
      "\t \t \t \t \t ON IBM\n",
      "------------------------------------------------------------------------------------------\n",
      "Logistic Regression: Average Accuracy is 0.856899 and standard deviation is 0.021735\n",
      "Decision Tree: Average Accuracy is 0.805798 and standard deviation is 0.024224\n",
      "Perceptron: Average Accuracy is 0.838838 and standard deviation is 0.002985\n",
      "MLP: Average Accuracy is 0.838838 and standard deviation is 0.002985\n",
      "SVM: Average Accuracy is 0.877899 and standard deviation is 0.025916\n",
      "------------------------------------------------------------------------------------------\n"
     ]
    },
    {
     "data": {
      "image/png": "[encoded data removed]",
      "text/plain": [
       "<Figure size 720x504 with 1 Axes>"
      ]
     },
     "metadata": {
      "needs_background": "light",
      "tags": []
     },
     "output_type": "display_data"
    },
    {
     "name": "stdout",
     "output_type": "stream",
     "text": [
      "\n",
      "------------------------------------------------------------------------------------------\n",
      "\t \t \t \t \t ON MUSHROOM\n",
      "------------------------------------------------------------------------------------------\n",
      "Logistic Regression: Average Accuracy is 0.947325 and standard deviation is 0.011471\n",
      "Decision Tree: Average Accuracy is 1.000000 and standard deviation is 0.000000\n",
      "Perceptron: Average Accuracy is 0.946781 and standard deviation is 0.011411\n",
      "MLP: Average Accuracy is 1.000000 and standard deviation is 0.000000\n",
      "SVM: Average Accuracy is 1.000000 and standard deviation is 0.000000\n",
      "------------------------------------------------------------------------------------------\n"
     ]
    },
    {
     "data": {
      "image/png": "[encoded data removed]",
      "text/plain": [
       "<Figure size 720x504 with 1 Axes>"
      ]
     },
     "metadata": {
      "needs_background": "light",
      "tags": []
     },
     "output_type": "display_data"
    }
   ],
   "source": [
    "# Evaluation of the optimized models from the previous section using the performance metric Crossvalidation for IBM and mushroom\n",
    "\n",
    "data = \"IBM\"\n",
    "cv(IbmX_train, Ibmy_train, Ibmy_test, \"IBM\")\n",
    "print()\n",
    "data = \"Mushroom\"\n",
    "cv(mushroomX_train, mushroomy_train, mushroomy_test, \"MUSHROOM\")"
   ]
  },
  {
   "cell_type": "markdown",
   "metadata": {
    "colab_type": "text",
    "id": "0T5ovQFNUhur"
   },
   "source": [
    "## 7.3 Accuracy Score"
   ]
  },
  {
   "cell_type": "code",
   "execution_count": null,
   "metadata": {
    "colab": {
     "base_uri": "https://localhost:8080/",
     "height": 476
    },
    "colab_type": "code",
    "id": "E1otQ3n1UnV9",
    "outputId": "96094435-f631-48a6-903b-61c70d48aa53"
   },
   "outputs": [
    {
     "name": "stdout",
     "output_type": "stream",
     "text": [
      "----------------------------------------------------------------------------------------------------\n",
      " \t \t \t \t Accuracy Score on IBM\n",
      "----------------------------------------------------------------------------------------------------\n",
      "Logistic Regression: on train set = 0.863864, on validation set = 0.848000, on test set = 0.864253\n",
      "----------------------------------------------------------------------------------------------------\n",
      "Decision Tree: on train set = 0.986987, on validation set = 0.792000, on test set = 0.755656\n",
      "----------------------------------------------------------------------------------------------------\n",
      "Perceptron: on train set = 0.838839, on validation set = 0.840000, on test set = 0.837104\n",
      "----------------------------------------------------------------------------------------------------\n",
      "MLP: on train set = 0.838839, on validation set = 0.840000, on test set = 0.837104\n",
      "----------------------------------------------------------------------------------------------------\n",
      "SVM: on train set = 0.933934, on validation set = 0.848000, on test set = 0.855204\n",
      "----------------------------------------------------------------------------------------------------\n",
      "\n",
      "----------------------------------------------------------------------------------------------------\n",
      " \t \t \t \t Accuracy Score on MUSHROOM\n",
      "----------------------------------------------------------------------------------------------------\n",
      "Logistic Regression: on train set = 0.948407, on validation set = 0.942795, on test set = 0.941756\n",
      "----------------------------------------------------------------------------------------------------\n",
      "Decision Tree: on train set = 1.000000, on validation set = 1.000000, on test set = 1.000000\n",
      "----------------------------------------------------------------------------------------------------\n",
      "Perceptron: on train set = 0.950036, on validation set = 0.943519, on test set = 0.949139\n",
      "----------------------------------------------------------------------------------------------------\n",
      "MLP: on train set = 1.000000, on validation set = 1.000000, on test set = 1.000000\n",
      "----------------------------------------------------------------------------------------------------\n",
      "SVM: on train set = 1.000000, on validation set = 1.000000, on test set = 1.000000\n",
      "----------------------------------------------------------------------------------------------------\n"
     ]
    }
   ],
   "source": [
    "# Accuracy Score for optimized models on IBM and Mushroom dataset\n",
    "\n",
    "data = \"IBM\"\n",
    "accuracy(IbmX_train, Ibmy_train, IbmX_val, Ibmy_val, IbmX_test, Ibmy_test, 'IBM')\n",
    "print ()\n",
    "data = \"Mushroom\"\n",
    "accuracy(mushroomX_train, mushroomy_train, mushroomX_val, mushroomy_val, mushroomX_test, mushroomy_test, 'MUSHROOM')"
   ]
  },
  {
   "cell_type": "markdown",
   "metadata": {
    "colab_type": "text",
    "id": "KVfttYVVVMwP"
   },
   "source": [
    "## 7.4 Confusion Matrix"
   ]
  },
  {
   "cell_type": "code",
   "execution_count": null,
   "metadata": {
    "colab": {
     "base_uri": "https://localhost:8080/",
     "height": 1000
    },
    "colab_type": "code",
    "id": "urh476tfVMMw",
    "outputId": "ca3cb624-78f4-41a5-9af7-ed98970984e5"
   },
   "outputs": [
    {
     "name": "stdout",
     "output_type": "stream",
     "text": [
      "------------------------------\n",
      "  Confusion Matrix - IBM\n",
      "------------------------------\n",
      "Logistic Regression Model: \n",
      " train set: \n",
      " [[828  10]\n",
      " [126  35]] \n",
      " validation set: \n",
      " [[206   4]\n",
      " [ 34   6]] \n",
      " test set: \n",
      " [[182   3]\n",
      " [ 27   9]]\n",
      "------------------------------\n",
      "Decision Tree Model: \n",
      " train set: \n",
      " [[838   0]\n",
      " [ 12 149]] \n",
      " validation set: \n",
      " [[184  26]\n",
      " [ 24  16]] \n",
      " test set: \n",
      " [[163  22]\n",
      " [ 27   9]]\n",
      "------------------------------\n",
      "Perceptron Model: \n",
      " train set: \n",
      " [[838   0]\n",
      " [161   0]] \n",
      " validation set: \n",
      " [[210   0]\n",
      " [ 40   0]] \n",
      " test set: \n",
      " [[185   0]\n",
      " [ 36   0]]\n",
      "------------------------------\n",
      "MLP Model: \n",
      " train set: \n",
      " [[838   0]\n",
      " [161   0]] \n",
      " validation set: \n",
      " [[210   0]\n",
      " [ 40   0]] \n",
      " test set: \n",
      " [[185   0]\n",
      " [ 36   0]]\n",
      "------------------------------\n",
      "SVM Model: \n",
      " train set: \n",
      " [[837   1]\n",
      " [ 65  96]] \n",
      " validation set: \n",
      " [[203   7]\n",
      " [ 31   9]] \n",
      " test set: \n",
      " [[181   4]\n",
      " [ 28   8]]\n",
      "------------------------------\n",
      "\n",
      "------------------------------\n",
      "  Confusion Matrix - Mushroom\n",
      "------------------------------\n",
      "Logistic Regression Model: \n",
      " train set: \n",
      " [[2750  112]\n",
      " [ 173 2489]] \n",
      " validation set: \n",
      " [[689  26]\n",
      " [ 53 613]] \n",
      " test set: \n",
      " [[601  30]\n",
      " [ 41 547]]\n",
      "------------------------------\n",
      "Decision Tree Model: \n",
      " train set: \n",
      " [[2862    0]\n",
      " [   0 2662]] \n",
      " validation set: \n",
      " [[715   0]\n",
      " [  0 666]] \n",
      " test set: \n",
      " [[631   0]\n",
      " [  0 588]]\n",
      "------------------------------\n",
      "Perceptron Model: \n",
      " train set: \n",
      " [[2745  117]\n",
      " [ 159 2503]] \n",
      " validation set: \n",
      " [[686  29]\n",
      " [ 49 617]] \n",
      " test set: \n",
      " [[600  31]\n",
      " [ 31 557]]\n",
      "------------------------------\n",
      "MLP Model: \n",
      " train set: \n",
      " [[2862    0]\n",
      " [   0 2662]] \n",
      " validation set: \n",
      " [[715   0]\n",
      " [  0 666]] \n",
      " test set: \n",
      " [[631   0]\n",
      " [  0 588]]\n",
      "------------------------------\n",
      "SVM Model: \n",
      " train set: \n",
      " [[2862    0]\n",
      " [   0 2662]] \n",
      " validation set: \n",
      " [[715   0]\n",
      " [  0 666]] \n",
      " test set: \n",
      " [[631   0]\n",
      " [  0 588]]\n",
      "------------------------------\n"
     ]
    }
   ],
   "source": [
    "# Confusion Matrix for optimized models on IBM and Mushroom dataset\n",
    "\n",
    "data = \"IBM\"\n",
    "cm(IbmX_train, Ibmy_train, IbmX_val, Ibmy_val, IbmX_test, Ibmy_test, 'IBM')\n",
    "print ()\n",
    "data = \"Mushroom\"\n",
    "cm(mushroomX_train, mushroomy_train, mushroomX_val, mushroomy_val, mushroomX_test, mushroomy_test, 'Mushroom')"
   ]
  },
  {
   "cell_type": "markdown",
   "metadata": {
    "colab_type": "text",
    "id": "ieDXpat0VyfD"
   },
   "source": [
    "## 7.5 Classification Report"
   ]
  },
  {
   "cell_type": "code",
   "execution_count": null,
   "metadata": {
    "colab": {
     "base_uri": "https://localhost:8080/",
     "height": 1000
    },
    "colab_type": "code",
    "id": "I2_Q4YViV7z-",
    "outputId": "8b0ffebb-2007-4cbd-e151-b8b983b6f79f"
   },
   "outputs": [
    {
     "name": "stdout",
     "output_type": "stream",
     "text": [
      "----------------------------------------------------------------------\n",
      "\t \t    Classification Report - IBM\n",
      "----------------------------------------------------------------------\n",
      "\t \t \t Logistic Regression: \n",
      " ON TRAIN SET: \n",
      "               precision    recall  f1-score   support\n",
      "\n",
      "           0       0.87      0.99      0.92       838\n",
      "           1       0.78      0.22      0.34       161\n",
      "\n",
      "    accuracy                           0.86       999\n",
      "   macro avg       0.82      0.60      0.63       999\n",
      "weighted avg       0.85      0.86      0.83       999\n",
      " \n",
      " ON VALIDATION SET: \n",
      "               precision    recall  f1-score   support\n",
      "\n",
      "           0       0.86      0.98      0.92       210\n",
      "           1       0.60      0.15      0.24        40\n",
      "\n",
      "    accuracy                           0.85       250\n",
      "   macro avg       0.73      0.57      0.58       250\n",
      "weighted avg       0.82      0.85      0.81       250\n",
      " \n",
      " ON TEST SET: \n",
      "               precision    recall  f1-score   support\n",
      "\n",
      "           0       0.87      0.98      0.92       185\n",
      "           1       0.75      0.25      0.38        36\n",
      "\n",
      "    accuracy                           0.86       221\n",
      "   macro avg       0.81      0.62      0.65       221\n",
      "weighted avg       0.85      0.86      0.83       221\n",
      "\n",
      "----------------------------------------------------------------------\n",
      "\t \t \t Decision Tree: \n",
      " ON TRAIN SET: \n",
      "               precision    recall  f1-score   support\n",
      "\n",
      "           0       0.99      1.00      0.99       838\n",
      "           1       1.00      0.93      0.96       161\n",
      "\n",
      "    accuracy                           0.99       999\n",
      "   macro avg       0.99      0.96      0.98       999\n",
      "weighted avg       0.99      0.99      0.99       999\n",
      " \n",
      " ON VALIDATION SET: \n",
      "               precision    recall  f1-score   support\n",
      "\n",
      "           0       0.88      0.88      0.88       210\n",
      "           1       0.35      0.35      0.35        40\n",
      "\n",
      "    accuracy                           0.79       250\n",
      "   macro avg       0.61      0.61      0.61       250\n",
      "weighted avg       0.79      0.79      0.79       250\n",
      " \n",
      " ON TEST SET: \n",
      "               precision    recall  f1-score   support\n",
      "\n",
      "           0       0.85      0.87      0.86       185\n",
      "           1       0.25      0.22      0.24        36\n",
      "\n",
      "    accuracy                           0.76       221\n",
      "   macro avg       0.55      0.55      0.55       221\n",
      "weighted avg       0.75      0.76      0.76       221\n",
      "\n",
      "----------------------------------------------------------------------\n",
      "\t \t \t Perceptron: \n",
      " ON TRAIN SET: \n",
      "               precision    recall  f1-score   support\n",
      "\n",
      "           0       0.84      1.00      0.91       838\n",
      "           1       0.00      0.00      0.00       161\n",
      "\n",
      "    accuracy                           0.84       999\n",
      "   macro avg       0.42      0.50      0.46       999\n",
      "weighted avg       0.70      0.84      0.77       999\n",
      " \n",
      " ON VALIDATION SET: \n",
      "               precision    recall  f1-score   support\n",
      "\n",
      "           0       0.84      1.00      0.91       210\n",
      "           1       0.00      0.00      0.00        40\n",
      "\n",
      "    accuracy                           0.84       250\n",
      "   macro avg       0.42      0.50      0.46       250\n",
      "weighted avg       0.71      0.84      0.77       250\n",
      " \n",
      " ON TEST SET: \n",
      "               precision    recall  f1-score   support\n",
      "\n",
      "           0       0.84      1.00      0.91       185\n",
      "           1       0.00      0.00      0.00        36\n",
      "\n",
      "    accuracy                           0.84       221\n",
      "   macro avg       0.42      0.50      0.46       221\n",
      "weighted avg       0.70      0.84      0.76       221\n",
      "\n",
      "----------------------------------------------------------------------\n",
      "\t \t \t MLP: \n",
      " ON TRAIN SET: \n",
      "               precision    recall  f1-score   support\n",
      "\n",
      "           0       0.84      1.00      0.91       838\n",
      "           1       0.00      0.00      0.00       161\n",
      "\n",
      "    accuracy                           0.84       999\n",
      "   macro avg       0.42      0.50      0.46       999\n",
      "weighted avg       0.70      0.84      0.77       999\n",
      " \n",
      " ON VALIDATION SET: \n",
      "               precision    recall  f1-score   support\n",
      "\n",
      "           0       0.84      1.00      0.91       210\n",
      "           1       0.00      0.00      0.00        40\n",
      "\n",
      "    accuracy                           0.84       250\n",
      "   macro avg       0.42      0.50      0.46       250\n",
      "weighted avg       0.71      0.84      0.77       250\n",
      " \n",
      " ON TEST SET: \n",
      "               precision    recall  f1-score   support\n",
      "\n",
      "           0       0.84      1.00      0.91       185\n",
      "           1       0.00      0.00      0.00        36\n",
      "\n",
      "    accuracy                           0.84       221\n",
      "   macro avg       0.42      0.50      0.46       221\n",
      "weighted avg       0.70      0.84      0.76       221\n",
      "\n",
      "----------------------------------------------------------------------\n",
      "\t \t \t SVM: \n",
      " ON TRAIN SET: \n",
      "               precision    recall  f1-score   support\n",
      "\n",
      "           0       0.93      1.00      0.96       838\n",
      "           1       0.99      0.60      0.74       161\n",
      "\n",
      "    accuracy                           0.93       999\n",
      "   macro avg       0.96      0.80      0.85       999\n",
      "weighted avg       0.94      0.93      0.93       999\n",
      " \n",
      " ON VALIDATION SET: \n",
      "               precision    recall  f1-score   support\n",
      "\n",
      "           0       0.87      0.97      0.91       210\n",
      "           1       0.56      0.23      0.32        40\n",
      "\n",
      "    accuracy                           0.85       250\n",
      "   macro avg       0.72      0.60      0.62       250\n",
      "weighted avg       0.82      0.85      0.82       250\n",
      " \n",
      " ON TEST SET: \n",
      "               precision    recall  f1-score   support\n",
      "\n",
      "           0       0.87      0.98      0.92       185\n",
      "           1       0.67      0.22      0.33        36\n",
      "\n",
      "    accuracy                           0.86       221\n",
      "   macro avg       0.77      0.60      0.63       221\n",
      "weighted avg       0.83      0.86      0.82       221\n",
      "\n",
      "----------------------------------------------------------------------\n",
      "\n",
      "----------------------------------------------------------------------\n",
      "\t \t    Classification Report - Mushroom\n",
      "----------------------------------------------------------------------\n",
      "\t \t \t Logistic Regression: \n",
      " ON TRAIN SET: \n",
      "               precision    recall  f1-score   support\n",
      "\n",
      "           0       0.94      0.96      0.95      2862\n",
      "           1       0.96      0.94      0.95      2662\n",
      "\n",
      "    accuracy                           0.95      5524\n",
      "   macro avg       0.95      0.95      0.95      5524\n",
      "weighted avg       0.95      0.95      0.95      5524\n",
      " \n",
      " ON VALIDATION SET: \n",
      "               precision    recall  f1-score   support\n",
      "\n",
      "           0       0.93      0.96      0.95       715\n",
      "           1       0.96      0.92      0.94       666\n",
      "\n",
      "    accuracy                           0.94      1381\n",
      "   macro avg       0.94      0.94      0.94      1381\n",
      "weighted avg       0.94      0.94      0.94      1381\n",
      " \n",
      " ON TEST SET: \n",
      "               precision    recall  f1-score   support\n",
      "\n",
      "           0       0.94      0.95      0.94       631\n",
      "           1       0.95      0.93      0.94       588\n",
      "\n",
      "    accuracy                           0.94      1219\n",
      "   macro avg       0.94      0.94      0.94      1219\n",
      "weighted avg       0.94      0.94      0.94      1219\n",
      "\n",
      "----------------------------------------------------------------------\n",
      "\t \t \t Decision Tree: \n",
      " ON TRAIN SET: \n",
      "               precision    recall  f1-score   support\n",
      "\n",
      "           0       1.00      1.00      1.00      2862\n",
      "           1       1.00      1.00      1.00      2662\n",
      "\n",
      "    accuracy                           1.00      5524\n",
      "   macro avg       1.00      1.00      1.00      5524\n",
      "weighted avg       1.00      1.00      1.00      5524\n",
      " \n",
      " ON VALIDATION SET: \n",
      "               precision    recall  f1-score   support\n",
      "\n",
      "           0       1.00      1.00      1.00       715\n",
      "           1       1.00      1.00      1.00       666\n",
      "\n",
      "    accuracy                           1.00      1381\n",
      "   macro avg       1.00      1.00      1.00      1381\n",
      "weighted avg       1.00      1.00      1.00      1381\n",
      " \n",
      " ON TEST SET: \n",
      "               precision    recall  f1-score   support\n",
      "\n",
      "           0       1.00      1.00      1.00       631\n",
      "           1       1.00      1.00      1.00       588\n",
      "\n",
      "    accuracy                           1.00      1219\n",
      "   macro avg       1.00      1.00      1.00      1219\n",
      "weighted avg       1.00      1.00      1.00      1219\n",
      "\n",
      "----------------------------------------------------------------------\n",
      "\t \t \t Perceptron: \n",
      " ON TRAIN SET: \n",
      "               precision    recall  f1-score   support\n",
      "\n",
      "           0       0.95      0.96      0.95      2862\n",
      "           1       0.96      0.94      0.95      2662\n",
      "\n",
      "    accuracy                           0.95      5524\n",
      "   macro avg       0.95      0.95      0.95      5524\n",
      "weighted avg       0.95      0.95      0.95      5524\n",
      " \n",
      " ON VALIDATION SET: \n",
      "               precision    recall  f1-score   support\n",
      "\n",
      "           0       0.93      0.96      0.95       715\n",
      "           1       0.96      0.93      0.94       666\n",
      "\n",
      "    accuracy                           0.94      1381\n",
      "   macro avg       0.94      0.94      0.94      1381\n",
      "weighted avg       0.94      0.94      0.94      1381\n",
      " \n",
      " ON TEST SET: \n",
      "               precision    recall  f1-score   support\n",
      "\n",
      "           0       0.95      0.95      0.95       631\n",
      "           1       0.95      0.95      0.95       588\n",
      "\n",
      "    accuracy                           0.95      1219\n",
      "   macro avg       0.95      0.95      0.95      1219\n",
      "weighted avg       0.95      0.95      0.95      1219\n",
      "\n",
      "----------------------------------------------------------------------\n",
      "\t \t \t MLP: \n",
      " ON TRAIN SET: \n",
      "               precision    recall  f1-score   support\n",
      "\n",
      "           0       1.00      1.00      1.00      2862\n",
      "           1       1.00      1.00      1.00      2662\n",
      "\n",
      "    accuracy                           1.00      5524\n",
      "   macro avg       1.00      1.00      1.00      5524\n",
      "weighted avg       1.00      1.00      1.00      5524\n",
      " \n",
      " ON VALIDATION SET: \n",
      "               precision    recall  f1-score   support\n",
      "\n",
      "           0       1.00      1.00      1.00       715\n",
      "           1       1.00      1.00      1.00       666\n",
      "\n",
      "    accuracy                           1.00      1381\n",
      "   macro avg       1.00      1.00      1.00      1381\n",
      "weighted avg       1.00      1.00      1.00      1381\n",
      " \n",
      " ON TEST SET: \n",
      "               precision    recall  f1-score   support\n",
      "\n",
      "           0       1.00      1.00      1.00       631\n",
      "           1       1.00      1.00      1.00       588\n",
      "\n",
      "    accuracy                           1.00      1219\n",
      "   macro avg       1.00      1.00      1.00      1219\n",
      "weighted avg       1.00      1.00      1.00      1219\n",
      "\n",
      "----------------------------------------------------------------------\n",
      "\t \t \t SVM: \n",
      " ON TRAIN SET: \n",
      "               precision    recall  f1-score   support\n",
      "\n",
      "           0       1.00      1.00      1.00      2862\n",
      "           1       1.00      1.00      1.00      2662\n",
      "\n",
      "    accuracy                           1.00      5524\n",
      "   macro avg       1.00      1.00      1.00      5524\n",
      "weighted avg       1.00      1.00      1.00      5524\n",
      " \n",
      " ON VALIDATION SET: \n",
      "               precision    recall  f1-score   support\n",
      "\n",
      "           0       1.00      1.00      1.00       715\n",
      "           1       1.00      1.00      1.00       666\n",
      "\n",
      "    accuracy                           1.00      1381\n",
      "   macro avg       1.00      1.00      1.00      1381\n",
      "weighted avg       1.00      1.00      1.00      1381\n",
      " \n",
      " ON TEST SET: \n",
      "               precision    recall  f1-score   support\n",
      "\n",
      "           0       1.00      1.00      1.00       631\n",
      "           1       1.00      1.00      1.00       588\n",
      "\n",
      "    accuracy                           1.00      1219\n",
      "   macro avg       1.00      1.00      1.00      1219\n",
      "weighted avg       1.00      1.00      1.00      1219\n",
      "\n",
      "----------------------------------------------------------------------\n"
     ]
    }
   ],
   "source": [
    "# Classification Report of the optimized models on IBM and Mushroom dataset\n",
    "\n",
    "data = \"IBM\"\n",
    "cr(IbmX_train, Ibmy_train, IbmX_val, Ibmy_val, IbmX_test, Ibmy_test, 'IBM')\n",
    "print ()\n",
    "data = \"Mushroom\"\n",
    "cr(mushroomX_train, mushroomy_train, mushroomX_val, mushroomy_val, mushroomX_test, mushroomy_test, 'Mushroom')"
   ]
  },
  {
   "cell_type": "markdown",
   "metadata": {
    "colab_type": "text",
    "id": "zGEU8opEz9Og"
   },
   "source": [
    "# **8. Proposing the best and worst performing algorithms within and across the datasets**"
   ]
  },
  {
   "cell_type": "markdown",
   "metadata": {
    "colab_type": "text",
    "id": "3wLqqpds0DzR"
   },
   "source": [
    "\n",
    "\n",
    "---\n",
    "\n",
    "\n",
    "**ON IBM**\n",
    "\n",
    "*Best: SVM*\n",
    "\n",
    "According to ROC and Cross-Validation, SVM gives the AUC and accuracy score of 0.81, 0.86 respectively on test data set which is the highest score amongst all algorithms. So we concluded for IBM data set, SVM is the best performing algorithm.\n",
    "\n",
    "*Worst: Decision Trees*\n",
    "\n",
    "Decision Trees only gives AUC score of 0.51 in ROC, and an average accuracy score of 0.81 in cross-validation which are the lowest amongst all algorithms. Also, comparing accuracy score we obtained from train and test data set, which are 0.99 and 0.76 respectively, indicates that there is an overfitted occur in this algorithm. In conclusion, the worst performing algorithm for IBM is Decision Trees.\n",
    "\n",
    "---\n",
    "\n",
    "\n",
    "**ON MUSHROOM**\n",
    "\n",
    "*Best: Decision Trees, MLP, SVM*\n",
    "\n",
    "According to ROC and Cross-Validation, all these three algorithms (Decision Trees, MLP, SVM) give the perfect AUC and accuracy score of 1.00 on test data set. One reason of getting these perfect could be due to a very clear and clean data set. So we concluded for Mushroom data set, Decision Trees, MLP and SVM are the best performing algorithms.\n",
    "\n",
    "*Worst: Perceptron*\n",
    "\n",
    "All algorithms performing on Mushroom data set gives very high AUC and accuracy scores, so by saying it is the worst performing algorithm does not mean it does not perform well, it means that the algorithm gives the lowest AUC and accuracy score. In this case, Perceptron gives the lowest AUC and average accuracy score on cross-validation of 0.97 and 0.96 respectively, giving it the worst performing algorithm on Mushroom data set.\n",
    "\n",
    "---\n",
    "\n",
    "**ACROSS IBM AND MUSHROOM**\n",
    "\n",
    "Both data sets contain categorical dependent variables, and more thean 50 independent variables including dummy variables. IBM has about 1700 entries, while Mushroom has over 8000 entries which is a lot bigger. The reason that Mushroom data set performs so well could be because of its very big sample size, as well as its clear data. \n",
    "\n",
    "To say which algorithm is the worst classification algorithm depends on data set and what it contains. But from IBM and Mushroom data set, they both concluded that *Support-Vector Machines* is the best performing classification algorithm. \n",
    "\n",
    "\n",
    "\n",
    "---\n",
    "\n"
   ]
  },
  {
   "cell_type": "markdown",
   "metadata": {
    "colab_type": "text",
    "id": "Pytah1AxVZs1"
   },
   "source": [
    "# **Extra -  Further Cleaning and model's performance on IBM**\n",
    "\n"
   ]
  },
  {
   "cell_type": "markdown",
   "metadata": {
    "colab_type": "text",
    "id": "APKjcMdsVxhE"
   },
   "source": [
    "\n",
    "\n",
    "---\n",
    "\n",
    "\n",
    " To check the performance of models after removing the highly correlated features\n",
    "\n",
    " Correlation between features - Taken from the Data prepsaration and Understanding file:\n",
    " 1. \"TotalWorkingYears\" and \"JobLevel\" with 78%\n",
    " 2. \"TotalWorkingYears\" and \"MonthlyIncome\" with 77%\n",
    " 3. \"YearsWithCurrManager\" and \"YearsAtCompany\" with 77%\n",
    " 4. \"PerformanceRating\" and \"PercentSalaryHike\" with 77%\n",
    " 5. \"YearsInCurrentRole\" and \"YearsAtCompany\" with 76%\n",
    " 6. \"YearsWithCurrManager\" and \"YearsInCurrentRole\" with 71%\n",
    "\n",
    "**Columns to remove:**  Total Working Years, Years at company, Percent Salary Hike, Years in Current Role\n",
    "\n",
    "**Justification for removing:** To remove the factor that has many input values compared to the other factor (so the model has to only learn less about a feature compared with the correlated one)\n",
    "\n",
    "\n",
    "---\n",
    "\n"
   ]
  },
  {
   "cell_type": "code",
   "execution_count": null,
   "metadata": {
    "colab": {
     "base_uri": "https://localhost:8080/",
     "height": 578
    },
    "colab_type": "code",
    "id": "WbgwbwdtTtVr",
    "outputId": "587d8694-5235-47a4-91a3-9a0e0fa25f25"
   },
   "outputs": [
    {
     "name": "stdout",
     "output_type": "stream",
     "text": [
      "<class 'pandas.core.frame.DataFrame'>\n",
      "RangeIndex: 1470 entries, 0 to 1469\n",
      "Data columns (total 26 columns):\n",
      " #   Column                    Non-Null Count  Dtype \n",
      "---  ------                    --------------  ----- \n",
      " 0   Age                       1470 non-null   int64 \n",
      " 1   Attrition                 1470 non-null   object\n",
      " 2   BusinessTravel            1470 non-null   object\n",
      " 3   DailyRate                 1470 non-null   int64 \n",
      " 4   Department                1470 non-null   object\n",
      " 5   DistanceFromHome          1470 non-null   int64 \n",
      " 6   Education                 1470 non-null   int64 \n",
      " 7   EducationField            1470 non-null   object\n",
      " 8   EnvironmentSatisfaction   1470 non-null   int64 \n",
      " 9   Gender                    1470 non-null   object\n",
      " 10  HourlyRate                1470 non-null   int64 \n",
      " 11  JobInvolvement            1470 non-null   int64 \n",
      " 12  JobLevel                  1470 non-null   int64 \n",
      " 13  JobRole                   1470 non-null   object\n",
      " 14  JobSatisfaction           1470 non-null   int64 \n",
      " 15  MaritalStatus             1470 non-null   object\n",
      " 16  MonthlyRate               1470 non-null   int64 \n",
      " 17  NumCompaniesWorked        1470 non-null   int64 \n",
      " 18  OverTime                  1470 non-null   object\n",
      " 19  PerformanceRating         1470 non-null   int64 \n",
      " 20  RelationshipSatisfaction  1470 non-null   int64 \n",
      " 21  StockOptionLevel          1470 non-null   int64 \n",
      " 22  TrainingTimesLastYear     1470 non-null   int64 \n",
      " 23  WorkLifeBalance           1470 non-null   int64 \n",
      " 24  YearsSinceLastPromotion   1470 non-null   int64 \n",
      " 25  YearsWithCurrManager      1470 non-null   int64 \n",
      "dtypes: int64(18), object(8)\n",
      "memory usage: 298.7+ KB\n"
     ]
    }
   ],
   "source": [
    "## Dropping the mentioned columns\n",
    "\n",
    "ibmX = ibmData.drop(['TotalWorkingYears', 'YearsAtCompany', 'PercentSalaryHike', 'YearsInCurrentRole'], axis=1)\n",
    "ibmX.info()"
   ]
  },
  {
   "cell_type": "code",
   "execution_count": null,
   "metadata": {
    "colab": {},
    "colab_type": "code",
    "id": "rkrECZvhXY2D"
   },
   "outputs": [],
   "source": [
    "# Importing train_test_split from sklearn.model_selection to split the dataset to train, validation and test sets.\n",
    "from sklearn.model_selection import train_test_split\n",
    "\n",
    "# Splitting the dataset into Train & Validation(85%) and Test(15%)\n",
    "IbmX_tv, IbmX_test, Ibmy_tv, Ibmy_test = train_test_split(IbmX, Ibmy, test_size=0.15, random_state=0, stratify=Ibmy)\n"
   ]
  },
  {
   "cell_type": "code",
   "execution_count": null,
   "metadata": {
    "colab": {},
    "colab_type": "code",
    "id": "QkW07QsXYxj9"
   },
   "outputs": [],
   "source": [
    "# Splitting the train data further into train(80%) and validation(20%)\n",
    "\n",
    "IbmX_train, IbmX_val, Ibmy_train, Ibmy_val = train_test_split(IbmX_tv, Ibmy_tv, test_size=0.20, random_state=0, stratify = Ibmy_tv)"
   ]
  },
  {
   "cell_type": "code",
   "execution_count": null,
   "metadata": {
    "colab": {},
    "colab_type": "code",
    "id": "9DnMneORXj_J"
   },
   "outputs": [],
   "source": [
    "# Modelling on the new trainset with the optimized parameter values\n",
    "lr = LogisticRegression(max_iter = 4300, solver = 'newton-cg', fit_intercept = False, multi_class = 'auto')\n",
    "dt = DecisionTreeClassifier(max_leaf_nodes = 200, max_depth = 6, ccp_alpha = 0.005)\n",
    "slp = Perceptron(max_iter = 100, eta0 = 0.0001, alpha = 0.001)\n",
    "mlp = MLPClassifier(max_iter = 100, hidden_layer_sizes = 151, alpha = 0.001, activation = 'tanh')\n",
    "svm = make_pipeline(StandardScaler(), SVC())\n"
   ]
  },
  {
   "cell_type": "code",
   "execution_count": null,
   "metadata": {
    "colab": {
     "base_uri": "https://localhost:8080/",
     "height": 1000
    },
    "colab_type": "code",
    "id": "E8_H1wXTYfqC",
    "outputId": "a49d31c5-8ed8-4077-97e7-fca44779bc96"
   },
   "outputs": [
    {
     "name": "stdout",
     "output_type": "stream",
     "text": [
      "----------------------------------------------------------------------------------------------------\n",
      "The AUC scores for the default models trained on IBM are as follows: \n",
      "----------------------------------------------------------------------------------------------------\n",
      "Baseline (random guess): ROC AUC=0.5000\n",
      "Logistic Regression: ROC AUC=0.8185\n",
      "Decision Trees: ROC AUC=0.6784\n",
      "Perceptron: ROC AUC=0.5000\n",
      "MLP: ROC AUC=0.5000\n",
      "SVM: ROC AUC=0.8086\n",
      "----------------------------------------------------------------------------------------------------\n"
     ]
    },
    {
     "data": {
      "image/png": "[encoded data removed]",
      "text/plain": [
       "<Figure size 720x432 with 1 Axes>"
      ]
     },
     "metadata": {
      "needs_background": "light",
      "tags": []
     },
     "output_type": "display_data"
    },
    {
     "name": "stdout",
     "output_type": "stream",
     "text": [
      "------------------------------------------------------------------------------------------\n",
      "\t \t \t \t \t ON IBM\n",
      "------------------------------------------------------------------------------------------\n",
      "Logistic Regression: Average Accuracy is 0.884929 and standard deviation is 0.028613\n",
      "Decision Tree: Average Accuracy is 0.870869 and standard deviation is 0.020722\n",
      "Perceptron: Average Accuracy is 0.838838 and standard deviation is 0.002985\n",
      "MLP: Average Accuracy is 0.836818 and standard deviation is 0.006891\n",
      "SVM: Average Accuracy is 0.877899 and standard deviation is 0.025916\n",
      "------------------------------------------------------------------------------------------\n"
     ]
    },
    {
     "data": {
      "image/png": "[encoded data removed]",
      "text/plain": [
       "<Figure size 720x504 with 1 Axes>"
      ]
     },
     "metadata": {
      "needs_background": "light",
      "tags": []
     },
     "output_type": "display_data"
    },
    {
     "name": "stdout",
     "output_type": "stream",
     "text": [
      "----------------------------------------------------------------------------------------------------\n",
      " \t \t \t \t Accuracy Score on IBM\n",
      "----------------------------------------------------------------------------------------------------\n",
      "Logistic Regression: on train set = 0.898899, on validation set = 0.860000, on test set = 0.886878\n",
      "----------------------------------------------------------------------------------------------------\n",
      "Decision Tree: on train set = 0.881882, on validation set = 0.808000, on test set = 0.837104\n",
      "----------------------------------------------------------------------------------------------------\n",
      "Perceptron: on train set = 0.838839, on validation set = 0.840000, on test set = 0.837104\n",
      "----------------------------------------------------------------------------------------------------\n",
      "MLP: on train set = 0.838839, on validation set = 0.840000, on test set = 0.837104\n",
      "----------------------------------------------------------------------------------------------------\n",
      "SVM: on train set = 0.933934, on validation set = 0.848000, on test set = 0.855204\n",
      "----------------------------------------------------------------------------------------------------\n"
     ]
    }
   ],
   "source": [
    "# Performance Metrics for evaluating the performance of the model - ROC, CV, Accuracy score\n",
    "\n",
    "rocplot(IbmX_test, Ibmy_test, IbmX_train, Ibmy_train, \"IBM\")\n",
    "cv(IbmX_train, Ibmy_train, Ibmy_test, \"IBM\")\n",
    "accuracy(IbmX_train, Ibmy_train, IbmX_val, Ibmy_val, IbmX_test, Ibmy_test, 'IBM')"
   ]
  },
  {
   "cell_type": "markdown",
   "metadata": {
    "colab_type": "text",
    "id": "Hcl36ac_hJLJ"
   },
   "source": [
    "**Comments:** The performance of the model improved after the highly correlated columns are removed\n",
    "\n",
    "**On Mushroom:** Since three of the models gave a 100 percent accuracy, it was decided to not do this step on Mushroom dataset "
   ]
  }
 ],
 "metadata": {
  "colab": {
   "collapsed_sections": [],
   "name": "Classification.ipynb",
   "provenance": [],
   "toc_visible": true
  },
  "kernelspec": {
   "display_name": "Python 3",
   "language": "python",
   "name": "python3"
  },
  "language_info": {
   "codemirror_mode": {
    "name": "ipython",
    "version": 3
   },
   "file_extension": ".py",
   "mimetype": "text/x-python",
   "name": "python",
   "nbconvert_exporter": "python",
   "pygments_lexer": "ipython3",
   "version": "3.6.10"
  }
 },
 "nbformat": 4,
 "nbformat_minor": 1
}
