{
 "cells": [
  {
   "cell_type": "markdown",
   "metadata": {
    "colab_type": "text",
    "id": "Li8J1xIa_0r6"
   },
   "source": [
    "\n",
    "\n",
    "\n",
    "---\n",
    "\n",
    "\n",
    "**COMM055 COURSEWORK - A COMPARISON STUDY ON MACHINE LEARNING ALGORITHMS**\n",
    "\n",
    "\n",
    "\n",
    "\n",
    "---\n"
   ]
  },
  {
   "cell_type": "markdown",
   "metadata": {
    "colab_type": "text",
    "id": "99DUd-fS_6Cr"
   },
   "source": [
    "# **MODEL DEVELOPMENT, EVALUATION AND COMPARISONS ON UNSUPERVISED MACHINE LEARNING ALGORITHMS - CLUSTERING**\n",
    "\n",
    "\n",
    "---\n",
    "\n",
    "\n",
    "This notebook focuses on the comparison study on **Unsupervised ML Algorithms** and various Data Mining techniques.\n",
    "\n",
    "**On Datasets:** IBM Attrition, Mushroom Classification\n",
    "\n",
    "**Problem Type:** Clustering\n",
    "\n",
    "**ML Algorithms:** K-Means, Birch, Agglomerative Clustering, K-Modes\n",
    "\n",
    "**Performance Metrics:** Adjusted Rand Index, Homogeneity, Completeness, V Measure\n",
    "\n",
    "---\n",
    "\n",
    "\n",
    "**Contents:**\n",
    "\n",
    "1. Data Pre-processing\n",
    "\n",
    "   **Before Parameter Tuning**\n",
    "2. Default Modelling on \"IBM\" and \"Mushroom\"\n",
    "3. Evaluation and Comparison of the default models\n",
    "\n",
    "   **After Parameter Tuning**\n",
    "4. Parameter Optimization (Manual Tuning) on developed models\n",
    "5. Evaluation and Comparison of the optimized models after Manual Tuning\n",
    "6. PCA - Dimensionality Reduction\n",
    "7. Evaluation and Comparison of the optimized models after PCA\n",
    "\n",
    "  **Conclusion**\n",
    "8. Proposing the best and worst performing Clustering Algorithms on \"IBM Attrition\" and \"Mushroom Classification\" Datasets\n",
    "\n",
    "\n",
    "\n",
    "---\n",
    "\n"
   ]
  },
  {
   "cell_type": "markdown",
   "metadata": {
    "colab_type": "text",
    "id": "AjcmYHHiw4cO"
   },
   "source": [
    "# **1. Data Pre-processing**"
   ]
  },
  {
   "cell_type": "markdown",
   "metadata": {
    "colab_type": "text",
    "id": "O2R2Vqtpw5hS"
   },
   "source": [
    "\n",
    "## **1.1 On IBM Attrition**\n",
    "\n",
    "\n",
    "---\n",
    "\n",
    "Encoding Categorical Variables\n",
    "\n",
    "---\n"
   ]
  },
  {
   "cell_type": "code",
   "execution_count": null,
   "metadata": {
    "colab": {},
    "colab_type": "code",
    "id": "2y38YGTSai4q"
   },
   "outputs": [],
   "source": [
    "# Importing the cleaned dataset downloaded from the Data Preparation and Understanding.ipynb file\n",
    "# Before running this code, please upload the dataset. \n",
    "# To upload the dataset go to Files(the folder icon to the left)> Upload> choose \"ibmData.csv\" dataset from your local drive\n",
    "# Importing pandas library\n",
    "# Importing preprocessing from sklearn to preprocess the dataset\n",
    "# Reading the CSV file using pandas.read_csv function and storing in ibmData variable\n",
    "\n",
    "import pandas as pd\n",
    "from sklearn import preprocessing\n",
    "ibmData = pd.read_csv('/content/ibmData.csv')"
   ]
  },
  {
   "cell_type": "code",
   "execution_count": null,
   "metadata": {
    "colab": {
     "base_uri": "https://localhost:8080/",
     "height": 459
    },
    "colab_type": "code",
    "executionInfo": {
     "elapsed": 1459,
     "status": "ok",
     "timestamp": 1592310997591,
     "user": {
      "displayName": "Pariyakorn Somchit",
      "photoUrl": "https://lh3.googleusercontent.com/a-/AOh14GgJgBsiBo138fI22g6wrRXQHFvIJq7u1tHwyb_kvg=s64",
      "userId": "02113052735497444860"
     },
     "user_tz": -420
    },
    "id": "cy2_r0ppmfT4",
    "outputId": "72819206-5b83-4925-bbdc-6ec851127cec"
   },
   "outputs": [
    {
     "name": "stdout",
     "output_type": "stream",
     "text": [
      "      Age     BusinessTravel  ...  YearsSinceLastPromotion YearsWithCurrManager\n",
      "0      41      Travel_Rarely  ...                        0                    5\n",
      "1      49  Travel_Frequently  ...                        1                    7\n",
      "2      37      Travel_Rarely  ...                        0                    0\n",
      "3      33  Travel_Frequently  ...                        3                    0\n",
      "4      27      Travel_Rarely  ...                        2                    2\n",
      "...   ...                ...  ...                      ...                  ...\n",
      "1465   36  Travel_Frequently  ...                        0                    3\n",
      "1466   39      Travel_Rarely  ...                        1                    7\n",
      "1467   27      Travel_Rarely  ...                        0                    3\n",
      "1468   49  Travel_Frequently  ...                        0                    8\n",
      "1469   34      Travel_Rarely  ...                        1                    2\n",
      "\n",
      "[1470 rows x 29 columns]\n",
      "0       Yes\n",
      "1        No\n",
      "2       Yes\n",
      "3        No\n",
      "4        No\n",
      "       ... \n",
      "1465     No\n",
      "1466     No\n",
      "1467     No\n",
      "1468     No\n",
      "1469     No\n",
      "Name: Attrition, Length: 1470, dtype: object\n"
     ]
    }
   ],
   "source": [
    "# Putting all the input variables in one dataframe(IbmX) and the output variable in another(Ibmy)\n",
    "\n",
    "IbmX = ibmData.drop('Attrition', axis=1)\n",
    "Ibmy = ibmData['Attrition']\n",
    "\n",
    "print(IbmX)\n",
    "print(Ibmy)\n"
   ]
  },
  {
   "cell_type": "markdown",
   "metadata": {
    "colab_type": "text",
    "id": "K898kMEwueC1"
   },
   "source": [
    "**Comments:** The dataframe has been divided into:\n",
    "\n",
    "IbmX - with all the input variables/columns\n",
    "\n",
    "Ibmy - with the Ground Truth (need later for comparing ground truth with the predicted labels)"
   ]
  },
  {
   "cell_type": "code",
   "execution_count": null,
   "metadata": {
    "colab": {
     "base_uri": "https://localhost:8080/",
     "height": 204
    },
    "colab_type": "code",
    "executionInfo": {
     "elapsed": 1193,
     "status": "ok",
     "timestamp": 1592311000923,
     "user": {
      "displayName": "Pariyakorn Somchit",
      "photoUrl": "https://lh3.googleusercontent.com/a-/AOh14GgJgBsiBo138fI22g6wrRXQHFvIJq7u1tHwyb_kvg=s64",
      "userId": "02113052735497444860"
     },
     "user_tz": -420
    },
    "id": "X7NFj0-jpdbP",
    "outputId": "6f0bae87-3d57-4983-c5e5-0f664ca78aff"
   },
   "outputs": [
    {
     "name": "stdout",
     "output_type": "stream",
     "text": [
      "Before Label Encoding: \n",
      " 0    Yes\n",
      "1     No\n",
      "2    Yes\n",
      "3     No\n",
      "4     No\n",
      "Name: Attrition, dtype: object\n",
      "----------------------------------------------------------------------------------------------------\n",
      "After Label Encoding: \n",
      " [1 0 1 ... 0 0 0]\n",
      "No and Yes are labelled as: [0 1]\n"
     ]
    }
   ],
   "source": [
    "# Importing LabelEncoder from sklearn.preprocessing to encode the categorical labels to \"1\" and \"0\"\n",
    "# The target variable 'Attrition' has categorical values 'Yes' and 'No', converting these to '1' and '0'\n",
    "#Importing numpy library to check for the unique values in the Target Column\n",
    "from sklearn.preprocessing import LabelEncoder\n",
    "import numpy as np\n",
    "\n",
    "print(\"Before Label Encoding: \\n\", Ibmy.head())\n",
    "Ibmy_le = LabelEncoder()\n",
    "# Yes -> 1 and No -> 0\n",
    "Ibmy = Ibmy_le.fit_transform(Ibmy.values)\n",
    "print(100*'-')\n",
    "print(\"After Label Encoding: \\n\", Ibmy)\n",
    "print('No and Yes are labelled as:', np.unique(Ibmy))"
   ]
  },
  {
   "cell_type": "markdown",
   "metadata": {
    "colab_type": "text",
    "id": "I1riQXSZu4Jl"
   },
   "source": [
    "**Comments:** Shows that the classes \"Yes\" and \"No\" are labelled as 1 and 0"
   ]
  },
  {
   "cell_type": "code",
   "execution_count": null,
   "metadata": {
    "colab": {
     "base_uri": "https://localhost:8080/",
     "height": 456
    },
    "colab_type": "code",
    "executionInfo": {
     "elapsed": 1130,
     "status": "ok",
     "timestamp": 1592311003789,
     "user": {
      "displayName": "Pariyakorn Somchit",
      "photoUrl": "https://lh3.googleusercontent.com/a-/AOh14GgJgBsiBo138fI22g6wrRXQHFvIJq7u1tHwyb_kvg=s64",
      "userId": "02113052735497444860"
     },
     "user_tz": -420
    },
    "id": "Yp7Ihudbskyo",
    "outputId": "dc4ec548-c3f5-424c-bec3-c4111a0a012b"
   },
   "outputs": [
    {
     "data": {
      "text/html": [
       "<div>\n",
       "<style scoped>\n",
       "    .dataframe tbody tr th:only-of-type {\n",
       "        vertical-align: middle;\n",
       "    }\n",
       "\n",
       "    .dataframe tbody tr th {\n",
       "        vertical-align: top;\n",
       "    }\n",
       "\n",
       "    .dataframe thead th {\n",
       "        text-align: right;\n",
       "    }\n",
       "</style>\n",
       "<table border=\"1\" class=\"dataframe\">\n",
       "  <thead>\n",
       "    <tr style=\"text-align: right;\">\n",
       "      <th></th>\n",
       "      <th>Age</th>\n",
       "      <th>DailyRate</th>\n",
       "      <th>DistanceFromHome</th>\n",
       "      <th>Education</th>\n",
       "      <th>EnvironmentSatisfaction</th>\n",
       "      <th>HourlyRate</th>\n",
       "      <th>JobInvolvement</th>\n",
       "      <th>JobLevel</th>\n",
       "      <th>JobSatisfaction</th>\n",
       "      <th>MonthlyRate</th>\n",
       "      <th>NumCompaniesWorked</th>\n",
       "      <th>PercentSalaryHike</th>\n",
       "      <th>PerformanceRating</th>\n",
       "      <th>RelationshipSatisfaction</th>\n",
       "      <th>StockOptionLevel</th>\n",
       "      <th>TotalWorkingYears</th>\n",
       "      <th>TrainingTimesLastYear</th>\n",
       "      <th>WorkLifeBalance</th>\n",
       "      <th>YearsAtCompany</th>\n",
       "      <th>YearsInCurrentRole</th>\n",
       "      <th>YearsSinceLastPromotion</th>\n",
       "      <th>YearsWithCurrManager</th>\n",
       "      <th>BusinessTravel_Non-Travel</th>\n",
       "      <th>BusinessTravel_Travel_Frequently</th>\n",
       "      <th>BusinessTravel_Travel_Rarely</th>\n",
       "      <th>Department_Human Resources</th>\n",
       "      <th>Department_Research &amp; Development</th>\n",
       "      <th>Department_Sales</th>\n",
       "      <th>EducationField_Human Resources</th>\n",
       "      <th>EducationField_Life Sciences</th>\n",
       "      <th>EducationField_Marketing</th>\n",
       "      <th>EducationField_Medical</th>\n",
       "      <th>EducationField_Other</th>\n",
       "      <th>EducationField_Technical Degree</th>\n",
       "      <th>Gender_Female</th>\n",
       "      <th>Gender_Male</th>\n",
       "      <th>JobRole_Healthcare Representative</th>\n",
       "      <th>JobRole_Human Resources</th>\n",
       "      <th>JobRole_Laboratory Technician</th>\n",
       "      <th>JobRole_Manager</th>\n",
       "      <th>JobRole_Manufacturing Director</th>\n",
       "      <th>JobRole_Research Director</th>\n",
       "      <th>JobRole_Research Scientist</th>\n",
       "      <th>JobRole_Sales Executive</th>\n",
       "      <th>JobRole_Sales Representative</th>\n",
       "      <th>MaritalStatus_Divorced</th>\n",
       "      <th>MaritalStatus_Married</th>\n",
       "      <th>MaritalStatus_Single</th>\n",
       "      <th>OverTime_No</th>\n",
       "      <th>OverTime_Yes</th>\n",
       "    </tr>\n",
       "  </thead>\n",
       "  <tbody>\n",
       "    <tr>\n",
       "      <th>0</th>\n",
       "      <td>41</td>\n",
       "      <td>1102</td>\n",
       "      <td>1</td>\n",
       "      <td>2</td>\n",
       "      <td>2</td>\n",
       "      <td>94</td>\n",
       "      <td>3</td>\n",
       "      <td>2</td>\n",
       "      <td>4</td>\n",
       "      <td>19479</td>\n",
       "      <td>8</td>\n",
       "      <td>11</td>\n",
       "      <td>3</td>\n",
       "      <td>1</td>\n",
       "      <td>0</td>\n",
       "      <td>8</td>\n",
       "      <td>0</td>\n",
       "      <td>1</td>\n",
       "      <td>6</td>\n",
       "      <td>4</td>\n",
       "      <td>0</td>\n",
       "      <td>5</td>\n",
       "      <td>0</td>\n",
       "      <td>0</td>\n",
       "      <td>1</td>\n",
       "      <td>0</td>\n",
       "      <td>0</td>\n",
       "      <td>1</td>\n",
       "      <td>0</td>\n",
       "      <td>1</td>\n",
       "      <td>0</td>\n",
       "      <td>0</td>\n",
       "      <td>0</td>\n",
       "      <td>0</td>\n",
       "      <td>1</td>\n",
       "      <td>0</td>\n",
       "      <td>0</td>\n",
       "      <td>0</td>\n",
       "      <td>0</td>\n",
       "      <td>0</td>\n",
       "      <td>0</td>\n",
       "      <td>0</td>\n",
       "      <td>0</td>\n",
       "      <td>1</td>\n",
       "      <td>0</td>\n",
       "      <td>0</td>\n",
       "      <td>0</td>\n",
       "      <td>1</td>\n",
       "      <td>0</td>\n",
       "      <td>1</td>\n",
       "    </tr>\n",
       "    <tr>\n",
       "      <th>1</th>\n",
       "      <td>49</td>\n",
       "      <td>279</td>\n",
       "      <td>8</td>\n",
       "      <td>1</td>\n",
       "      <td>3</td>\n",
       "      <td>61</td>\n",
       "      <td>2</td>\n",
       "      <td>2</td>\n",
       "      <td>2</td>\n",
       "      <td>24907</td>\n",
       "      <td>1</td>\n",
       "      <td>23</td>\n",
       "      <td>4</td>\n",
       "      <td>4</td>\n",
       "      <td>1</td>\n",
       "      <td>10</td>\n",
       "      <td>3</td>\n",
       "      <td>3</td>\n",
       "      <td>10</td>\n",
       "      <td>7</td>\n",
       "      <td>1</td>\n",
       "      <td>7</td>\n",
       "      <td>0</td>\n",
       "      <td>1</td>\n",
       "      <td>0</td>\n",
       "      <td>0</td>\n",
       "      <td>1</td>\n",
       "      <td>0</td>\n",
       "      <td>0</td>\n",
       "      <td>1</td>\n",
       "      <td>0</td>\n",
       "      <td>0</td>\n",
       "      <td>0</td>\n",
       "      <td>0</td>\n",
       "      <td>0</td>\n",
       "      <td>1</td>\n",
       "      <td>0</td>\n",
       "      <td>0</td>\n",
       "      <td>0</td>\n",
       "      <td>0</td>\n",
       "      <td>0</td>\n",
       "      <td>0</td>\n",
       "      <td>1</td>\n",
       "      <td>0</td>\n",
       "      <td>0</td>\n",
       "      <td>0</td>\n",
       "      <td>1</td>\n",
       "      <td>0</td>\n",
       "      <td>1</td>\n",
       "      <td>0</td>\n",
       "    </tr>\n",
       "    <tr>\n",
       "      <th>2</th>\n",
       "      <td>37</td>\n",
       "      <td>1373</td>\n",
       "      <td>2</td>\n",
       "      <td>2</td>\n",
       "      <td>4</td>\n",
       "      <td>92</td>\n",
       "      <td>2</td>\n",
       "      <td>1</td>\n",
       "      <td>3</td>\n",
       "      <td>2396</td>\n",
       "      <td>6</td>\n",
       "      <td>15</td>\n",
       "      <td>3</td>\n",
       "      <td>2</td>\n",
       "      <td>0</td>\n",
       "      <td>7</td>\n",
       "      <td>3</td>\n",
       "      <td>3</td>\n",
       "      <td>0</td>\n",
       "      <td>0</td>\n",
       "      <td>0</td>\n",
       "      <td>0</td>\n",
       "      <td>0</td>\n",
       "      <td>0</td>\n",
       "      <td>1</td>\n",
       "      <td>0</td>\n",
       "      <td>1</td>\n",
       "      <td>0</td>\n",
       "      <td>0</td>\n",
       "      <td>0</td>\n",
       "      <td>0</td>\n",
       "      <td>0</td>\n",
       "      <td>1</td>\n",
       "      <td>0</td>\n",
       "      <td>0</td>\n",
       "      <td>1</td>\n",
       "      <td>0</td>\n",
       "      <td>0</td>\n",
       "      <td>1</td>\n",
       "      <td>0</td>\n",
       "      <td>0</td>\n",
       "      <td>0</td>\n",
       "      <td>0</td>\n",
       "      <td>0</td>\n",
       "      <td>0</td>\n",
       "      <td>0</td>\n",
       "      <td>0</td>\n",
       "      <td>1</td>\n",
       "      <td>0</td>\n",
       "      <td>1</td>\n",
       "    </tr>\n",
       "    <tr>\n",
       "      <th>3</th>\n",
       "      <td>33</td>\n",
       "      <td>1392</td>\n",
       "      <td>3</td>\n",
       "      <td>4</td>\n",
       "      <td>4</td>\n",
       "      <td>56</td>\n",
       "      <td>3</td>\n",
       "      <td>1</td>\n",
       "      <td>3</td>\n",
       "      <td>23159</td>\n",
       "      <td>1</td>\n",
       "      <td>11</td>\n",
       "      <td>3</td>\n",
       "      <td>3</td>\n",
       "      <td>0</td>\n",
       "      <td>8</td>\n",
       "      <td>3</td>\n",
       "      <td>3</td>\n",
       "      <td>8</td>\n",
       "      <td>7</td>\n",
       "      <td>3</td>\n",
       "      <td>0</td>\n",
       "      <td>0</td>\n",
       "      <td>1</td>\n",
       "      <td>0</td>\n",
       "      <td>0</td>\n",
       "      <td>1</td>\n",
       "      <td>0</td>\n",
       "      <td>0</td>\n",
       "      <td>1</td>\n",
       "      <td>0</td>\n",
       "      <td>0</td>\n",
       "      <td>0</td>\n",
       "      <td>0</td>\n",
       "      <td>1</td>\n",
       "      <td>0</td>\n",
       "      <td>0</td>\n",
       "      <td>0</td>\n",
       "      <td>0</td>\n",
       "      <td>0</td>\n",
       "      <td>0</td>\n",
       "      <td>0</td>\n",
       "      <td>1</td>\n",
       "      <td>0</td>\n",
       "      <td>0</td>\n",
       "      <td>0</td>\n",
       "      <td>1</td>\n",
       "      <td>0</td>\n",
       "      <td>0</td>\n",
       "      <td>1</td>\n",
       "    </tr>\n",
       "    <tr>\n",
       "      <th>4</th>\n",
       "      <td>27</td>\n",
       "      <td>591</td>\n",
       "      <td>2</td>\n",
       "      <td>1</td>\n",
       "      <td>1</td>\n",
       "      <td>40</td>\n",
       "      <td>3</td>\n",
       "      <td>1</td>\n",
       "      <td>2</td>\n",
       "      <td>16632</td>\n",
       "      <td>9</td>\n",
       "      <td>12</td>\n",
       "      <td>3</td>\n",
       "      <td>4</td>\n",
       "      <td>1</td>\n",
       "      <td>6</td>\n",
       "      <td>3</td>\n",
       "      <td>3</td>\n",
       "      <td>2</td>\n",
       "      <td>2</td>\n",
       "      <td>2</td>\n",
       "      <td>2</td>\n",
       "      <td>0</td>\n",
       "      <td>0</td>\n",
       "      <td>1</td>\n",
       "      <td>0</td>\n",
       "      <td>1</td>\n",
       "      <td>0</td>\n",
       "      <td>0</td>\n",
       "      <td>0</td>\n",
       "      <td>0</td>\n",
       "      <td>1</td>\n",
       "      <td>0</td>\n",
       "      <td>0</td>\n",
       "      <td>0</td>\n",
       "      <td>1</td>\n",
       "      <td>0</td>\n",
       "      <td>0</td>\n",
       "      <td>1</td>\n",
       "      <td>0</td>\n",
       "      <td>0</td>\n",
       "      <td>0</td>\n",
       "      <td>0</td>\n",
       "      <td>0</td>\n",
       "      <td>0</td>\n",
       "      <td>0</td>\n",
       "      <td>1</td>\n",
       "      <td>0</td>\n",
       "      <td>1</td>\n",
       "      <td>0</td>\n",
       "    </tr>\n",
       "    <tr>\n",
       "      <th>...</th>\n",
       "      <td>...</td>\n",
       "      <td>...</td>\n",
       "      <td>...</td>\n",
       "      <td>...</td>\n",
       "      <td>...</td>\n",
       "      <td>...</td>\n",
       "      <td>...</td>\n",
       "      <td>...</td>\n",
       "      <td>...</td>\n",
       "      <td>...</td>\n",
       "      <td>...</td>\n",
       "      <td>...</td>\n",
       "      <td>...</td>\n",
       "      <td>...</td>\n",
       "      <td>...</td>\n",
       "      <td>...</td>\n",
       "      <td>...</td>\n",
       "      <td>...</td>\n",
       "      <td>...</td>\n",
       "      <td>...</td>\n",
       "      <td>...</td>\n",
       "      <td>...</td>\n",
       "      <td>...</td>\n",
       "      <td>...</td>\n",
       "      <td>...</td>\n",
       "      <td>...</td>\n",
       "      <td>...</td>\n",
       "      <td>...</td>\n",
       "      <td>...</td>\n",
       "      <td>...</td>\n",
       "      <td>...</td>\n",
       "      <td>...</td>\n",
       "      <td>...</td>\n",
       "      <td>...</td>\n",
       "      <td>...</td>\n",
       "      <td>...</td>\n",
       "      <td>...</td>\n",
       "      <td>...</td>\n",
       "      <td>...</td>\n",
       "      <td>...</td>\n",
       "      <td>...</td>\n",
       "      <td>...</td>\n",
       "      <td>...</td>\n",
       "      <td>...</td>\n",
       "      <td>...</td>\n",
       "      <td>...</td>\n",
       "      <td>...</td>\n",
       "      <td>...</td>\n",
       "      <td>...</td>\n",
       "      <td>...</td>\n",
       "    </tr>\n",
       "    <tr>\n",
       "      <th>1465</th>\n",
       "      <td>36</td>\n",
       "      <td>884</td>\n",
       "      <td>23</td>\n",
       "      <td>2</td>\n",
       "      <td>3</td>\n",
       "      <td>41</td>\n",
       "      <td>4</td>\n",
       "      <td>2</td>\n",
       "      <td>4</td>\n",
       "      <td>12290</td>\n",
       "      <td>4</td>\n",
       "      <td>17</td>\n",
       "      <td>3</td>\n",
       "      <td>3</td>\n",
       "      <td>1</td>\n",
       "      <td>17</td>\n",
       "      <td>3</td>\n",
       "      <td>3</td>\n",
       "      <td>5</td>\n",
       "      <td>2</td>\n",
       "      <td>0</td>\n",
       "      <td>3</td>\n",
       "      <td>0</td>\n",
       "      <td>1</td>\n",
       "      <td>0</td>\n",
       "      <td>0</td>\n",
       "      <td>1</td>\n",
       "      <td>0</td>\n",
       "      <td>0</td>\n",
       "      <td>0</td>\n",
       "      <td>0</td>\n",
       "      <td>1</td>\n",
       "      <td>0</td>\n",
       "      <td>0</td>\n",
       "      <td>0</td>\n",
       "      <td>1</td>\n",
       "      <td>0</td>\n",
       "      <td>0</td>\n",
       "      <td>1</td>\n",
       "      <td>0</td>\n",
       "      <td>0</td>\n",
       "      <td>0</td>\n",
       "      <td>0</td>\n",
       "      <td>0</td>\n",
       "      <td>0</td>\n",
       "      <td>0</td>\n",
       "      <td>1</td>\n",
       "      <td>0</td>\n",
       "      <td>1</td>\n",
       "      <td>0</td>\n",
       "    </tr>\n",
       "    <tr>\n",
       "      <th>1466</th>\n",
       "      <td>39</td>\n",
       "      <td>613</td>\n",
       "      <td>6</td>\n",
       "      <td>1</td>\n",
       "      <td>4</td>\n",
       "      <td>42</td>\n",
       "      <td>2</td>\n",
       "      <td>3</td>\n",
       "      <td>1</td>\n",
       "      <td>21457</td>\n",
       "      <td>4</td>\n",
       "      <td>15</td>\n",
       "      <td>3</td>\n",
       "      <td>1</td>\n",
       "      <td>1</td>\n",
       "      <td>9</td>\n",
       "      <td>5</td>\n",
       "      <td>3</td>\n",
       "      <td>7</td>\n",
       "      <td>7</td>\n",
       "      <td>1</td>\n",
       "      <td>7</td>\n",
       "      <td>0</td>\n",
       "      <td>0</td>\n",
       "      <td>1</td>\n",
       "      <td>0</td>\n",
       "      <td>1</td>\n",
       "      <td>0</td>\n",
       "      <td>0</td>\n",
       "      <td>0</td>\n",
       "      <td>0</td>\n",
       "      <td>1</td>\n",
       "      <td>0</td>\n",
       "      <td>0</td>\n",
       "      <td>0</td>\n",
       "      <td>1</td>\n",
       "      <td>1</td>\n",
       "      <td>0</td>\n",
       "      <td>0</td>\n",
       "      <td>0</td>\n",
       "      <td>0</td>\n",
       "      <td>0</td>\n",
       "      <td>0</td>\n",
       "      <td>0</td>\n",
       "      <td>0</td>\n",
       "      <td>0</td>\n",
       "      <td>1</td>\n",
       "      <td>0</td>\n",
       "      <td>1</td>\n",
       "      <td>0</td>\n",
       "    </tr>\n",
       "    <tr>\n",
       "      <th>1467</th>\n",
       "      <td>27</td>\n",
       "      <td>155</td>\n",
       "      <td>4</td>\n",
       "      <td>3</td>\n",
       "      <td>2</td>\n",
       "      <td>87</td>\n",
       "      <td>4</td>\n",
       "      <td>2</td>\n",
       "      <td>2</td>\n",
       "      <td>5174</td>\n",
       "      <td>1</td>\n",
       "      <td>20</td>\n",
       "      <td>4</td>\n",
       "      <td>2</td>\n",
       "      <td>1</td>\n",
       "      <td>6</td>\n",
       "      <td>0</td>\n",
       "      <td>3</td>\n",
       "      <td>6</td>\n",
       "      <td>2</td>\n",
       "      <td>0</td>\n",
       "      <td>3</td>\n",
       "      <td>0</td>\n",
       "      <td>0</td>\n",
       "      <td>1</td>\n",
       "      <td>0</td>\n",
       "      <td>1</td>\n",
       "      <td>0</td>\n",
       "      <td>0</td>\n",
       "      <td>1</td>\n",
       "      <td>0</td>\n",
       "      <td>0</td>\n",
       "      <td>0</td>\n",
       "      <td>0</td>\n",
       "      <td>0</td>\n",
       "      <td>1</td>\n",
       "      <td>0</td>\n",
       "      <td>0</td>\n",
       "      <td>0</td>\n",
       "      <td>0</td>\n",
       "      <td>1</td>\n",
       "      <td>0</td>\n",
       "      <td>0</td>\n",
       "      <td>0</td>\n",
       "      <td>0</td>\n",
       "      <td>0</td>\n",
       "      <td>1</td>\n",
       "      <td>0</td>\n",
       "      <td>0</td>\n",
       "      <td>1</td>\n",
       "    </tr>\n",
       "    <tr>\n",
       "      <th>1468</th>\n",
       "      <td>49</td>\n",
       "      <td>1023</td>\n",
       "      <td>2</td>\n",
       "      <td>3</td>\n",
       "      <td>4</td>\n",
       "      <td>63</td>\n",
       "      <td>2</td>\n",
       "      <td>2</td>\n",
       "      <td>2</td>\n",
       "      <td>13243</td>\n",
       "      <td>2</td>\n",
       "      <td>14</td>\n",
       "      <td>3</td>\n",
       "      <td>4</td>\n",
       "      <td>0</td>\n",
       "      <td>17</td>\n",
       "      <td>3</td>\n",
       "      <td>2</td>\n",
       "      <td>9</td>\n",
       "      <td>6</td>\n",
       "      <td>0</td>\n",
       "      <td>8</td>\n",
       "      <td>0</td>\n",
       "      <td>1</td>\n",
       "      <td>0</td>\n",
       "      <td>0</td>\n",
       "      <td>0</td>\n",
       "      <td>1</td>\n",
       "      <td>0</td>\n",
       "      <td>0</td>\n",
       "      <td>0</td>\n",
       "      <td>1</td>\n",
       "      <td>0</td>\n",
       "      <td>0</td>\n",
       "      <td>0</td>\n",
       "      <td>1</td>\n",
       "      <td>0</td>\n",
       "      <td>0</td>\n",
       "      <td>0</td>\n",
       "      <td>0</td>\n",
       "      <td>0</td>\n",
       "      <td>0</td>\n",
       "      <td>0</td>\n",
       "      <td>1</td>\n",
       "      <td>0</td>\n",
       "      <td>0</td>\n",
       "      <td>1</td>\n",
       "      <td>0</td>\n",
       "      <td>1</td>\n",
       "      <td>0</td>\n",
       "    </tr>\n",
       "    <tr>\n",
       "      <th>1469</th>\n",
       "      <td>34</td>\n",
       "      <td>628</td>\n",
       "      <td>8</td>\n",
       "      <td>3</td>\n",
       "      <td>2</td>\n",
       "      <td>82</td>\n",
       "      <td>4</td>\n",
       "      <td>2</td>\n",
       "      <td>3</td>\n",
       "      <td>10228</td>\n",
       "      <td>2</td>\n",
       "      <td>12</td>\n",
       "      <td>3</td>\n",
       "      <td>1</td>\n",
       "      <td>0</td>\n",
       "      <td>6</td>\n",
       "      <td>3</td>\n",
       "      <td>4</td>\n",
       "      <td>4</td>\n",
       "      <td>3</td>\n",
       "      <td>1</td>\n",
       "      <td>2</td>\n",
       "      <td>0</td>\n",
       "      <td>0</td>\n",
       "      <td>1</td>\n",
       "      <td>0</td>\n",
       "      <td>1</td>\n",
       "      <td>0</td>\n",
       "      <td>0</td>\n",
       "      <td>0</td>\n",
       "      <td>0</td>\n",
       "      <td>1</td>\n",
       "      <td>0</td>\n",
       "      <td>0</td>\n",
       "      <td>0</td>\n",
       "      <td>1</td>\n",
       "      <td>0</td>\n",
       "      <td>0</td>\n",
       "      <td>1</td>\n",
       "      <td>0</td>\n",
       "      <td>0</td>\n",
       "      <td>0</td>\n",
       "      <td>0</td>\n",
       "      <td>0</td>\n",
       "      <td>0</td>\n",
       "      <td>0</td>\n",
       "      <td>1</td>\n",
       "      <td>0</td>\n",
       "      <td>1</td>\n",
       "      <td>0</td>\n",
       "    </tr>\n",
       "  </tbody>\n",
       "</table>\n",
       "<p>1470 rows × 50 columns</p>\n",
       "</div>"
      ],
      "text/plain": [
       "      Age  DailyRate  ...  OverTime_No  OverTime_Yes\n",
       "0      41       1102  ...            0             1\n",
       "1      49        279  ...            1             0\n",
       "2      37       1373  ...            0             1\n",
       "3      33       1392  ...            0             1\n",
       "4      27        591  ...            1             0\n",
       "...   ...        ...  ...          ...           ...\n",
       "1465   36        884  ...            1             0\n",
       "1466   39        613  ...            1             0\n",
       "1467   27        155  ...            0             1\n",
       "1468   49       1023  ...            1             0\n",
       "1469   34        628  ...            1             0\n",
       "\n",
       "[1470 rows x 50 columns]"
      ]
     },
     "execution_count": 4,
     "metadata": {
      "tags": []
     },
     "output_type": "execute_result"
    }
   ],
   "source": [
    "# Get the dummy variables for the categorical feature\n",
    "# Add the results to the original dataframe\n",
    "# Drop the original categorical variables as dummies are already created\n",
    "\n",
    "import numpy as np\n",
    "\n",
    "ibm_category = IbmX.select_dtypes(exclude = [np.number])\n",
    "ibm_category = ibm_category.columns.values\n",
    "\n",
    "ibmDummies = pd.get_dummies(IbmX[ibm_category])\n",
    "\n",
    "IbmX_onehot = pd.concat([IbmX, ibmDummies], axis = 1)\n",
    "IbmX_onehot.drop(ibm_category, axis = 1, inplace = True)\n",
    "IbmX_onehot.head(5)\n",
    "IbmX = IbmX_onehot\n",
    "IbmX"
   ]
  },
  {
   "cell_type": "markdown",
   "metadata": {
    "colab_type": "text",
    "id": "fgjrGr4kskeN"
   },
   "source": [
    "**Comments:** After one hot encoding, the number of columns changed from 28 to 50, as the n values in one categorical column are converted to n columns. (i.e If one categorical column has three values then it gets converted to three columns with binary values 0 and 1)"
   ]
  },
  {
   "cell_type": "code",
   "execution_count": null,
   "metadata": {
    "colab": {},
    "colab_type": "code",
    "id": "NFp2S32EbtcI"
   },
   "outputs": [],
   "source": [
    "# Few columns can be removed (the highly correlated ones) to reduce the dimensions\n",
    "# Referring the  Classification.ipynb file (extra section), columns 'TotalWorkingYears', 'YearsAtCompany', 'PercentSalaryHike', 'YearsInCurrentRole' are dropped \n",
    "\n",
    "ibmX = ibmData.drop(['TotalWorkingYears', 'YearsAtCompany', 'PercentSalaryHike', 'YearsInCurrentRole'], axis=1)\n"
   ]
  },
  {
   "cell_type": "markdown",
   "metadata": {
    "colab_type": "text",
    "id": "g-5YrbvG2Yk_"
   },
   "source": [
    "## **1.2 On Mushroom**\n",
    "\n",
    "---\n",
    "\n",
    "\n",
    "Encoding Categorical Features\n",
    "\n",
    "\n",
    "---"
   ]
  },
  {
   "cell_type": "code",
   "execution_count": null,
   "metadata": {
    "colab": {},
    "colab_type": "code",
    "id": "jdhnxaew2vT3"
   },
   "outputs": [],
   "source": [
    "# Importing the cleaned dataset downloaded from the DPU.ipynb file\n",
    "# Before running this code, please upload the dataset. \n",
    "# To upload the dataset go to Files(the folder icon to the left)> Upload> choose \"mushroomData.csv\" dataset from your local drive\n",
    "# Importing pandas library\n",
    "# Importing preprocessing from sklearn to preprocess the dataset\n",
    "# Reading the CSV file using pandas.read_csv function and storing in mushroomData variable\n",
    "\n",
    "import pandas as pd\n",
    "from sklearn import preprocessing\n",
    "mushroomData = pd.read_csv('/content/mushroomData.csv')"
   ]
  },
  {
   "cell_type": "code",
   "execution_count": null,
   "metadata": {
    "colab": {
     "base_uri": "https://localhost:8080/",
     "height": 459
    },
    "colab_type": "code",
    "executionInfo": {
     "elapsed": 1679,
     "status": "ok",
     "timestamp": 1592311014139,
     "user": {
      "displayName": "Pariyakorn Somchit",
      "photoUrl": "https://lh3.googleusercontent.com/a-/AOh14GgJgBsiBo138fI22g6wrRXQHFvIJq7u1tHwyb_kvg=s64",
      "userId": "02113052735497444860"
     },
     "user_tz": -420
    },
    "id": "nGjFAEhx2vT9",
    "outputId": "4aa6f89f-f081-4960-e689-96b67e7308a3"
   },
   "outputs": [
    {
     "name": "stdout",
     "output_type": "stream",
     "text": [
      "     cap-shape cap-surface cap-color  ... spore-print-color population habitat\n",
      "0            x           s         n  ...                 k          s       u\n",
      "1            x           s         y  ...                 n          n       g\n",
      "2            b           s         w  ...                 n          n       m\n",
      "3            x           y         w  ...                 k          s       u\n",
      "4            x           s         g  ...                 n          a       g\n",
      "...        ...         ...       ...  ...               ...        ...     ...\n",
      "8119         k           s         n  ...                 b          c       l\n",
      "8120         x           s         n  ...                 b          v       l\n",
      "8121         f           s         n  ...                 b          c       l\n",
      "8122         k           y         n  ...                 w          v       l\n",
      "8123         x           s         n  ...                 o          c       l\n",
      "\n",
      "[8124 rows x 20 columns]\n",
      "0       p\n",
      "1       e\n",
      "2       e\n",
      "3       p\n",
      "4       e\n",
      "       ..\n",
      "8119    e\n",
      "8120    e\n",
      "8121    e\n",
      "8122    p\n",
      "8123    e\n",
      "Name: class, Length: 8124, dtype: object\n"
     ]
    }
   ],
   "source": [
    "# Putting all the input variables in one dataframe(mushroomX) and the output variable in another(mushroomy)\n",
    "\n",
    "mushroomX = mushroomData.drop('class', axis=1)\n",
    "mushroomy = mushroomData['class']\n",
    "\n",
    "print(mushroomX)\n",
    "print(mushroomy)\n"
   ]
  },
  {
   "cell_type": "markdown",
   "metadata": {
    "colab_type": "text",
    "id": "v6p38PHO2vUD"
   },
   "source": [
    "**Comments:** The dataframe has been divided into:\n",
    "\n",
    "mushroomX - with all the input variables/columns\n",
    "\n",
    "mushroomy - with the target variable"
   ]
  },
  {
   "cell_type": "code",
   "execution_count": null,
   "metadata": {
    "colab": {
     "base_uri": "https://localhost:8080/",
     "height": 204
    },
    "colab_type": "code",
    "executionInfo": {
     "elapsed": 1162,
     "status": "ok",
     "timestamp": 1592311018236,
     "user": {
      "displayName": "Pariyakorn Somchit",
      "photoUrl": "https://lh3.googleusercontent.com/a-/AOh14GgJgBsiBo138fI22g6wrRXQHFvIJq7u1tHwyb_kvg=s64",
      "userId": "02113052735497444860"
     },
     "user_tz": -420
    },
    "id": "g1rTGAUD2vUE",
    "outputId": "9bca7284-59de-4232-9546-2ba85983ca1c"
   },
   "outputs": [
    {
     "name": "stdout",
     "output_type": "stream",
     "text": [
      "Before Label Encoding: \n",
      " 0    p\n",
      "1    e\n",
      "2    e\n",
      "3    p\n",
      "4    e\n",
      "Name: class, dtype: object\n",
      "----------------------------------------------------------------------------------------------------\n",
      "After Label Encoding: \n",
      " [1 0 0 ... 0 1 0]\n",
      "Edible('e') and Poisonous('p')  are labelled as: [0 1]\n"
     ]
    }
   ],
   "source": [
    "# Importing LabelEncoder from sklearn.preprocessing to encode the categorical labels to \"1\" and \"0\"\n",
    "# The target variable 'class' has categorical values 'p' and 'e', converting these to '1' and '0'\n",
    "# Importing numpy library to check for the unique values in the Target Column\n",
    "from sklearn.preprocessing import LabelEncoder\n",
    "import numpy as np\n",
    "\n",
    "print(\"Before Label Encoding: \\n\", mushroomy.head())\n",
    "mushroomy_le = LabelEncoder()\n",
    "# p -> 1 and e -> 0\n",
    "mushroomy = mushroomy_le.fit_transform(mushroomy.values)\n",
    "print(100*'-')\n",
    "print(\"After Label Encoding: \\n\", mushroomy)\n",
    "print(\"Edible('e') and Poisonous('p')  are labelled as:\", np.unique(mushroomy))"
   ]
  },
  {
   "cell_type": "markdown",
   "metadata": {
    "colab_type": "text",
    "id": "4sqEMu_p2vUI"
   },
   "source": [
    "**Comments:** Shows that the classes \"e\" and \"p\" are labelled as 0 and 1"
   ]
  },
  {
   "cell_type": "code",
   "execution_count": null,
   "metadata": {
    "colab": {
     "base_uri": "https://localhost:8080/",
     "height": 275
    },
    "colab_type": "code",
    "executionInfo": {
     "elapsed": 1091,
     "status": "ok",
     "timestamp": 1592311021247,
     "user": {
      "displayName": "Pariyakorn Somchit",
      "photoUrl": "https://lh3.googleusercontent.com/a-/AOh14GgJgBsiBo138fI22g6wrRXQHFvIJq7u1tHwyb_kvg=s64",
      "userId": "02113052735497444860"
     },
     "user_tz": -420
    },
    "id": "Riwzoa0D2vUI",
    "outputId": "f47068a9-fcc3-40e7-dbde-5daa33009da0"
   },
   "outputs": [
    {
     "data": {
      "text/html": [
       "<div>\n",
       "<style scoped>\n",
       "    .dataframe tbody tr th:only-of-type {\n",
       "        vertical-align: middle;\n",
       "    }\n",
       "\n",
       "    .dataframe tbody tr th {\n",
       "        vertical-align: top;\n",
       "    }\n",
       "\n",
       "    .dataframe thead th {\n",
       "        text-align: right;\n",
       "    }\n",
       "</style>\n",
       "<table border=\"1\" class=\"dataframe\">\n",
       "  <thead>\n",
       "    <tr style=\"text-align: right;\">\n",
       "      <th></th>\n",
       "      <th>cap-shape</th>\n",
       "      <th>cap-surface</th>\n",
       "      <th>cap-color</th>\n",
       "      <th>bruises</th>\n",
       "      <th>odor</th>\n",
       "      <th>gill-attachment</th>\n",
       "      <th>gill-spacing</th>\n",
       "      <th>gill-size</th>\n",
       "      <th>gill-color</th>\n",
       "      <th>stalk-shape</th>\n",
       "      <th>stalk-surface-above-ring</th>\n",
       "      <th>stalk-surface-below-ring</th>\n",
       "      <th>stalk-color-above-ring</th>\n",
       "      <th>stalk-color-below-ring</th>\n",
       "      <th>veil-color</th>\n",
       "      <th>ring-number</th>\n",
       "      <th>ring-type</th>\n",
       "      <th>spore-print-color</th>\n",
       "      <th>population</th>\n",
       "      <th>habitat</th>\n",
       "    </tr>\n",
       "  </thead>\n",
       "  <tbody>\n",
       "    <tr>\n",
       "      <th>0</th>\n",
       "      <td>5</td>\n",
       "      <td>2</td>\n",
       "      <td>4</td>\n",
       "      <td>1</td>\n",
       "      <td>6</td>\n",
       "      <td>1</td>\n",
       "      <td>0</td>\n",
       "      <td>1</td>\n",
       "      <td>4</td>\n",
       "      <td>0</td>\n",
       "      <td>2</td>\n",
       "      <td>2</td>\n",
       "      <td>7</td>\n",
       "      <td>7</td>\n",
       "      <td>2</td>\n",
       "      <td>1</td>\n",
       "      <td>4</td>\n",
       "      <td>2</td>\n",
       "      <td>3</td>\n",
       "      <td>5</td>\n",
       "    </tr>\n",
       "    <tr>\n",
       "      <th>1</th>\n",
       "      <td>5</td>\n",
       "      <td>2</td>\n",
       "      <td>9</td>\n",
       "      <td>1</td>\n",
       "      <td>0</td>\n",
       "      <td>1</td>\n",
       "      <td>0</td>\n",
       "      <td>0</td>\n",
       "      <td>4</td>\n",
       "      <td>0</td>\n",
       "      <td>2</td>\n",
       "      <td>2</td>\n",
       "      <td>7</td>\n",
       "      <td>7</td>\n",
       "      <td>2</td>\n",
       "      <td>1</td>\n",
       "      <td>4</td>\n",
       "      <td>3</td>\n",
       "      <td>2</td>\n",
       "      <td>1</td>\n",
       "    </tr>\n",
       "    <tr>\n",
       "      <th>2</th>\n",
       "      <td>0</td>\n",
       "      <td>2</td>\n",
       "      <td>8</td>\n",
       "      <td>1</td>\n",
       "      <td>3</td>\n",
       "      <td>1</td>\n",
       "      <td>0</td>\n",
       "      <td>0</td>\n",
       "      <td>5</td>\n",
       "      <td>0</td>\n",
       "      <td>2</td>\n",
       "      <td>2</td>\n",
       "      <td>7</td>\n",
       "      <td>7</td>\n",
       "      <td>2</td>\n",
       "      <td>1</td>\n",
       "      <td>4</td>\n",
       "      <td>3</td>\n",
       "      <td>2</td>\n",
       "      <td>3</td>\n",
       "    </tr>\n",
       "    <tr>\n",
       "      <th>3</th>\n",
       "      <td>5</td>\n",
       "      <td>3</td>\n",
       "      <td>8</td>\n",
       "      <td>1</td>\n",
       "      <td>6</td>\n",
       "      <td>1</td>\n",
       "      <td>0</td>\n",
       "      <td>1</td>\n",
       "      <td>5</td>\n",
       "      <td>0</td>\n",
       "      <td>2</td>\n",
       "      <td>2</td>\n",
       "      <td>7</td>\n",
       "      <td>7</td>\n",
       "      <td>2</td>\n",
       "      <td>1</td>\n",
       "      <td>4</td>\n",
       "      <td>2</td>\n",
       "      <td>3</td>\n",
       "      <td>5</td>\n",
       "    </tr>\n",
       "    <tr>\n",
       "      <th>4</th>\n",
       "      <td>5</td>\n",
       "      <td>2</td>\n",
       "      <td>3</td>\n",
       "      <td>0</td>\n",
       "      <td>5</td>\n",
       "      <td>1</td>\n",
       "      <td>1</td>\n",
       "      <td>0</td>\n",
       "      <td>4</td>\n",
       "      <td>1</td>\n",
       "      <td>2</td>\n",
       "      <td>2</td>\n",
       "      <td>7</td>\n",
       "      <td>7</td>\n",
       "      <td>2</td>\n",
       "      <td>1</td>\n",
       "      <td>0</td>\n",
       "      <td>3</td>\n",
       "      <td>0</td>\n",
       "      <td>1</td>\n",
       "    </tr>\n",
       "  </tbody>\n",
       "</table>\n",
       "</div>"
      ],
      "text/plain": [
       "   cap-shape  cap-surface  cap-color  ...  spore-print-color  population  habitat\n",
       "0          5            2          4  ...                  2           3        5\n",
       "1          5            2          9  ...                  3           2        1\n",
       "2          0            2          8  ...                  3           2        3\n",
       "3          5            3          8  ...                  2           3        5\n",
       "4          5            2          3  ...                  3           0        1\n",
       "\n",
       "[5 rows x 20 columns]"
      ]
     },
     "execution_count": 9,
     "metadata": {
      "tags": []
     },
     "output_type": "execute_result"
    }
   ],
   "source": [
    "# LableEncoding categorical values in the dataset\n",
    "# Importing OneHotEncoder from sklearn.preprocessing library to convert n categorical values to n binary values\n",
    "# from sklearn.preprocessing import OneHotEncoder\n",
    "# mushroomX_onehot = OneHotEncoder().fit_transform(mushroomX)\n",
    "# print('Feature matrix size:',mushroomX.shape)\n",
    "\n",
    "mushroomX_le = LabelEncoder()\n",
    "for col in mushroomX.columns:\n",
    "    mushroomX[col] = mushroomX_le.fit_transform(mushroomX[col])\n",
    " \n",
    "mushroomX.head()"
   ]
  },
  {
   "cell_type": "markdown",
   "metadata": {
    "colab_type": "text",
    "id": "slXV_rI52vUN"
   },
   "source": [
    "**Comments:** After one hot encoding, the number of columns increased from 20 to 111, as the n values in one categorical column are converted to n columns. (i.e If one categorical column has three values then it gets converted to three columns with binary values 0 and 1)\n",
    "\n",
    "**Action and Justification:** It was decided to go along with label encoding rather than one hot for two main reason:\n",
    "\n",
    "1. The computational time for 20 columns vs 111 columns would be considerably low thereby increasing the efficiency of the ML models\n",
    "\n",
    "2. Clustering performs better with low-dimensional data\n",
    "\n",
    "\n"
   ]
  },
  {
   "cell_type": "markdown",
   "metadata": {
    "colab_type": "text",
    "id": "x3PeWuEjx43b"
   },
   "source": [
    "# **2. Functions for Fitting Models and Performance Metrics**"
   ]
  },
  {
   "cell_type": "markdown",
   "metadata": {
    "colab_type": "text",
    "id": "PLOzx3oq27yQ"
   },
   "source": [
    "## 2.1 Modelling"
   ]
  },
  {
   "cell_type": "code",
   "execution_count": null,
   "metadata": {
    "colab": {
     "base_uri": "https://localhost:8080/",
     "height": 207
    },
    "colab_type": "code",
    "executionInfo": {
     "elapsed": 7290,
     "status": "ok",
     "timestamp": 1592311033794,
     "user": {
      "displayName": "Pariyakorn Somchit",
      "photoUrl": "https://lh3.googleusercontent.com/a-/AOh14GgJgBsiBo138fI22g6wrRXQHFvIJq7u1tHwyb_kvg=s64",
      "userId": "02113052735497444860"
     },
     "user_tz": -420
    },
    "id": "sXOzaYH-fPZn",
    "outputId": "2d012e7f-43ec-4a7c-a0cd-bd2c0c92f2f3"
   },
   "outputs": [
    {
     "name": "stdout",
     "output_type": "stream",
     "text": [
      "Collecting kmodes\n",
      "  Downloading https://files.pythonhosted.org/packages/b2/55/d8ec1ae1f7e1e202a8a4184c6852a3ee993b202b0459672c699d0ac18fc8/kmodes-0.10.2-py2.py3-none-any.whl\n",
      "Requirement already satisfied: scikit-learn>=0.19.0 in /usr/local/lib/python3.6/dist-packages (from kmodes) (0.22.2.post1)\n",
      "Requirement already satisfied: numpy>=1.10.4 in /usr/local/lib/python3.6/dist-packages (from kmodes) (1.18.5)\n",
      "Requirement already satisfied: scipy>=0.13.3 in /usr/local/lib/python3.6/dist-packages (from kmodes) (1.4.1)\n",
      "Requirement already satisfied: joblib>=0.11 in /usr/local/lib/python3.6/dist-packages (from kmodes) (0.15.1)\n",
      "Installing collected packages: kmodes\n",
      "Successfully installed kmodes-0.10.2\n"
     ]
    },
    {
     "name": "stderr",
     "output_type": "stream",
     "text": [
      "/usr/local/lib/python3.6/dist-packages/statsmodels/tools/_testing.py:19: FutureWarning: pandas.util.testing is deprecated. Use the functions in the public API at pandas.testing instead.\n",
      "  import pandas.util.testing as tm\n"
     ]
    }
   ],
   "source": [
    "# Importing the neccessary libraries\n",
    "# Though some of these libraries are not used until the models are built in section 3 - its imported as few of these are needed inside the functions that are written in this section\n",
    "# Importing libraries for K-Means, DBSCAN, Agglomerative Clustering, StandardScaler\n",
    "# Importing metrics for getting the performance metrics\n",
    "# GridSearchCV and RandomizedSearchCV to help with parameter tuning\n",
    "!pip install kmodes\n",
    "from kmodes.kmodes import KModes\n",
    "from sklearn.cluster import KMeans, Birch, AgglomerativeClustering\n",
    "from sklearn.preprocessing import StandardScaler\n",
    "from sklearn import metrics\n",
    "from sklearn.metrics.cluster import adjusted_rand_score, homogeneity_score, completeness_score, v_measure_score\n",
    "from sklearn.model_selection import GridSearchCV, RandomizedSearchCV\n",
    "import seaborn as sns\n",
    "import matplotlib.pyplot as plt\n",
    "from sklearn.decomposition import PCA\n",
    "from sklearn.preprocessing import scale"
   ]
  },
  {
   "cell_type": "code",
   "execution_count": null,
   "metadata": {
    "colab": {},
    "colab_type": "code",
    "id": "KrdgC2OewlBr"
   },
   "outputs": [],
   "source": [
    "# A function for fitting the three clustering algorithm models\n",
    "\n",
    "# Standardizing the data\n",
    "\n",
    "scaler = StandardScaler()\n",
    "IbmX_scaled = scaler.fit_transform(IbmX)\n",
    "mushroomX_scaled = scaler.fit_transform(mushroomX)\n",
    "\n",
    "def models(X):\n",
    "  clf1 = kmeans.fit(X)\n",
    "  clf2 = birch.fit(X)\n",
    "  clf3 = kmodes.fit(X)\n",
    "  clf4 = hac.fit(X)\n",
    "\n",
    "  return clf1, clf2, clf3, clf4"
   ]
  },
  {
   "cell_type": "markdown",
   "metadata": {
    "colab_type": "text",
    "id": "01XlvBTX3BtZ"
   },
   "source": [
    "## 2.2 Performance Metrics\n",
    "\n",
    "---\n",
    "Adjusted Rand Index\n",
    "\n",
    "Homogeneity\n",
    "\n",
    "Completeness\n",
    "\n",
    "V Measure\n",
    "\n",
    "---"
   ]
  },
  {
   "cell_type": "code",
   "execution_count": null,
   "metadata": {
    "colab": {},
    "colab_type": "code",
    "id": "g09Vzmzokrba"
   },
   "outputs": [],
   "source": [
    "def metrics(X, y, data):\n",
    "  clf1, clf2, clf3, clf4 = models(X)\n",
    "  model = []\n",
    "  model.append(('K-Means', clf1))\n",
    "  model.append(('Birch', clf2))\n",
    "  model.append(('K-Modes', clf3))\n",
    "  model.append(('HAC', clf4))\n",
    "  print(50*'-')\n",
    "  print(\"\\tPerformance Metrics on %s data\" % (str(data)) )\n",
    "  print(50*'-')\n",
    "  for name, i in model:\n",
    "    labels_pred = i.labels_\n",
    "    labels_true = y\n",
    "    ari = adjusted_rand_score(labels_true, labels_pred)\n",
    "    homogeneity = homogeneity_score(labels_true, labels_pred)\n",
    "    completeness = completeness_score(labels_true, labels_pred)\n",
    "    vmeasure = v_measure_score(labels_true, labels_pred)\n",
    "    print(\"%s algorithm \\n\" % (name))\n",
    "    print(\"Adjusted Rand Index Score: %.5f\" % (ari))\n",
    "    print(\"Homogeneity Score: %.5f\" % (homogeneity))\n",
    "    print(\"Completeness Score: %.5f\" % (completeness))\n",
    "    print(\"V Measure Score: %.5f\" % (vmeasure))\n",
    "    print(50*'-')"
   ]
  },
  {
   "cell_type": "markdown",
   "metadata": {
    "colab_type": "text",
    "id": "jj_7wN42c7KK"
   },
   "source": [
    "# **3. Evaluation and Comparison of the default models** "
   ]
  },
  {
   "cell_type": "markdown",
   "metadata": {
    "colab_type": "text",
    "id": "loo0WFmL-kjA"
   },
   "source": [
    "**Modelling Clustering Algorithms with default Parameter values**\n",
    "\n",
    "---\n",
    "K-Means\n",
    "    \n",
    "Birch Clustering\n",
    "\n",
    "K- Modes\n",
    "\n",
    "Hierarchical Agglomerative Clustering\n",
    " \n",
    "---\n",
    "\n"
   ]
  },
  {
   "cell_type": "code",
   "execution_count": null,
   "metadata": {
    "colab": {},
    "colab_type": "code",
    "id": "oAtbvEUxoEc1"
   },
   "outputs": [],
   "source": [
    "# To hide all the warnings for a neat presentation\n",
    "import warnings\n",
    "warnings.filterwarnings('ignore')\n",
    "#warnings.filterwarnings(action='once') # uncomment to display the warnings once adn not repeatedly and comment the line just above\n",
    "\n",
    "# Calling the models - These models are fitted through the written function models() which are called under Performance metrics function (metrics())\n",
    "\n",
    "kmeans = KMeans()\n",
    "birch = Birch()\n",
    "kmodes = KModes()\n",
    "hac = AgglomerativeClustering()"
   ]
  },
  {
   "cell_type": "code",
   "execution_count": null,
   "metadata": {
    "colab": {
     "base_uri": "https://localhost:8080/",
     "height": 1000
    },
    "colab_type": "code",
    "executionInfo": {
     "elapsed": 12925,
     "status": "ok",
     "timestamp": 1592311067390,
     "user": {
      "displayName": "Pariyakorn Somchit",
      "photoUrl": "https://lh3.googleusercontent.com/a-/AOh14GgJgBsiBo138fI22g6wrRXQHFvIJq7u1tHwyb_kvg=s64",
      "userId": "02113052735497444860"
     },
     "user_tz": -420
    },
    "id": "HUkKQl6hokgD",
    "outputId": "e7626d2a-7c6a-4adf-af17-a42f8ed75e02"
   },
   "outputs": [
    {
     "name": "stdout",
     "output_type": "stream",
     "text": [
      "--------------------------------------------------\n",
      "\tPerformance Metrics on IBM data\n",
      "--------------------------------------------------\n",
      "K-Means algorithm \n",
      "\n",
      "Adjusted Rand Index Score: 0.00555\n",
      "Homogeneity Score: 0.06661\n",
      "Completeness Score: 0.01546\n",
      "V Measure Score: 0.02510\n",
      "--------------------------------------------------\n",
      "Birch algorithm \n",
      "\n",
      "Adjusted Rand Index Score: 0.04791\n",
      "Homogeneity Score: 0.01131\n",
      "Completeness Score: 0.00677\n",
      "V Measure Score: 0.00847\n",
      "--------------------------------------------------\n",
      "K-Modes algorithm \n",
      "\n",
      "Adjusted Rand Index Score: -0.00052\n",
      "Homogeneity Score: 0.05171\n",
      "Completeness Score: 0.01150\n",
      "V Measure Score: 0.01881\n",
      "--------------------------------------------------\n",
      "HAC algorithm \n",
      "\n",
      "Adjusted Rand Index Score: 0.04302\n",
      "Homogeneity Score: 0.01128\n",
      "Completeness Score: 0.00804\n",
      "V Measure Score: 0.00939\n",
      "--------------------------------------------------\n",
      "\n",
      "--------------------------------------------------\n",
      "\tPerformance Metrics on Mushroom data\n",
      "--------------------------------------------------\n",
      "K-Means algorithm \n",
      "\n",
      "Adjusted Rand Index Score: 0.25917\n",
      "Homogeneity Score: 0.71035\n",
      "Completeness Score: 0.25466\n",
      "V Measure Score: 0.37492\n",
      "--------------------------------------------------\n",
      "Birch algorithm \n",
      "\n",
      "Adjusted Rand Index Score: 0.19123\n",
      "Homogeneity Score: 0.28421\n",
      "Completeness Score: 0.31559\n",
      "V Measure Score: 0.29908\n",
      "--------------------------------------------------\n",
      "K-Modes algorithm \n",
      "\n",
      "Adjusted Rand Index Score: 0.23005\n",
      "Homogeneity Score: 0.61834\n",
      "Completeness Score: 0.22554\n",
      "V Measure Score: 0.33052\n",
      "--------------------------------------------------\n",
      "HAC algorithm \n",
      "\n",
      "Adjusted Rand Index Score: 0.21244\n",
      "Homogeneity Score: 0.26965\n",
      "Completeness Score: 0.36082\n",
      "V Measure Score: 0.30864\n",
      "--------------------------------------------------\n"
     ]
    }
   ],
   "source": [
    "# Performance Metrics - called using the written function metrics()\n",
    "\n",
    "metrics(IbmX_scaled, Ibmy, \"IBM\")\n",
    "print()\n",
    "metrics(mushroomX_scaled, mushroomy, \"Mushroom\")\n"
   ]
  },
  {
   "cell_type": "code",
   "execution_count": null,
   "metadata": {
    "colab": {
     "base_uri": "https://localhost:8080/",
     "height": 132
    },
    "colab_type": "code",
    "executionInfo": {
     "elapsed": 2908,
     "status": "ok",
     "timestamp": 1592311076766,
     "user": {
      "displayName": "Pariyakorn Somchit",
      "photoUrl": "https://lh3.googleusercontent.com/a-/AOh14GgJgBsiBo138fI22g6wrRXQHFvIJq7u1tHwyb_kvg=s64",
      "userId": "02113052735497444860"
     },
     "user_tz": -420
    },
    "id": "TCqokkb1CtU-",
    "outputId": "ef09ce73-2e8a-46f8-871c-3645a1f8bbdd"
   },
   "outputs": [
    {
     "data": {
      "image/png": "[encoded data removed]",
      "text/plain": [
       "<Figure size 2880x360 with 8 Axes>"
      ]
     },
     "metadata": {
      "needs_background": "light",
      "tags": []
     },
     "output_type": "display_data"
    }
   ],
   "source": [
    "# Plotting to see how the default K-means model has clustered the classes of Ibm\n",
    "# Reference: https://medium.com/@brijpatel1823/mushroom-classification-logistic-regression-vs-k-mean-clustering-5d9f75afa209\n",
    "\n",
    "kmean_pred = KMeans()\n",
    "kmean_pred.fit(IbmX_scaled)\n",
    "clusters = kmean_pred.predict(IbmX_scaled)\n",
    "cluster_result = pd.DataFrame()\n",
    "cluster_result['cluster'] = clusters\n",
    "cluster_result['Actual'] = Ibmy\n",
    "sns.factorplot(col='cluster', x='Actual', data=cluster_result, kind='count')\n",
    "plt.legend(labels=['No'])\n",
    "plt.show()"
   ]
  },
  {
   "cell_type": "markdown",
   "metadata": {
    "colab_type": "text",
    "id": "zPG-EX1PCyW1"
   },
   "source": [
    "**Comments:** There is not one cluster that is more homogenous with almost only one class"
   ]
  },
  {
   "cell_type": "code",
   "execution_count": null,
   "metadata": {
    "colab": {
     "base_uri": "https://localhost:8080/",
     "height": 132
    },
    "colab_type": "code",
    "executionInfo": {
     "elapsed": 2772,
     "status": "ok",
     "timestamp": 1592311083365,
     "user": {
      "displayName": "Pariyakorn Somchit",
      "photoUrl": "https://lh3.googleusercontent.com/a-/AOh14GgJgBsiBo138fI22g6wrRXQHFvIJq7u1tHwyb_kvg=s64",
      "userId": "02113052735497444860"
     },
     "user_tz": -420
    },
    "id": "jaE6tfAjA1Ov",
    "outputId": "2549e5f7-2ae3-4cc9-fefa-5a9f68a94805"
   },
   "outputs": [
    {
     "data": {
      "image/png": "[encoded data removed]",
      "text/plain": [
       "<Figure size 2880x360 with 8 Axes>"
      ]
     },
     "metadata": {
      "needs_background": "light",
      "tags": []
     },
     "output_type": "display_data"
    }
   ],
   "source": [
    "# Plotting to see how the default K-means model has clustered the classes of mushroom\n",
    "kmean_pred = KMeans()\n",
    "kmean_pred.fit(mushroomX_scaled)\n",
    "clusters = kmean_pred.predict(mushroomX_scaled)\n",
    "cluster_result = pd.DataFrame()\n",
    "cluster_result['cluster'] = clusters\n",
    "cluster_result['Actual'] = mushroomy\n",
    "sns.factorplot(col='cluster', x='Actual', data=cluster_result, kind='count')\n",
    "plt.legend(labels=['edible'])\n",
    "plt.show()"
   ]
  },
  {
   "cell_type": "markdown",
   "metadata": {
    "colab_type": "text",
    "id": "nmZJGruvCPKG"
   },
   "source": [
    "**Comments:** The first and fourth cluster is more homogenous with class (poisonous). Cluster 6 is clustered more with edible mushroom. Other clusters have mixture of both posionous and edible mushrooms"
   ]
  },
  {
   "cell_type": "markdown",
   "metadata": {
    "colab_type": "text",
    "id": "fnvElFbG54e0"
   },
   "source": [
    "# **4. Parameter Optimization - Manual Tuning**"
   ]
  },
  {
   "cell_type": "markdown",
   "metadata": {
    "colab_type": "text",
    "id": "IoPLzMtJ6gBw"
   },
   "source": [
    "## 4.1 K-Means"
   ]
  },
  {
   "cell_type": "code",
   "execution_count": null,
   "metadata": {
    "colab": {
     "base_uri": "https://localhost:8080/",
     "height": 69
    },
    "colab_type": "code",
    "executionInfo": {
     "elapsed": 927,
     "status": "ok",
     "timestamp": 1592291975765,
     "user": {
      "displayName": "Anju Susan Aju",
      "photoUrl": "",
      "userId": "05425130991030184662"
     },
     "user_tz": -60
    },
    "id": "Ki-PbnmydhH7",
    "outputId": "6728228b-2a3a-4253-c14c-2ff2e171d70f"
   },
   "outputs": [
    {
     "data": {
      "text/plain": [
       "KMeans(algorithm='auto', copy_x=True, init='k-means++', max_iter=300,\n",
       "       n_clusters=8, n_init=10, n_jobs=None, precompute_distances='auto',\n",
       "       random_state=None, tol=0.0001, verbose=0)"
      ]
     },
     "execution_count": 18,
     "metadata": {
      "tags": []
     },
     "output_type": "execute_result"
    }
   ],
   "source": [
    "# Default model\n",
    "\n",
    "kmeans"
   ]
  },
  {
   "cell_type": "code",
   "execution_count": null,
   "metadata": {
    "colab": {
     "base_uri": "https://localhost:8080/",
     "height": 208
    },
    "colab_type": "code",
    "executionInfo": {
     "elapsed": 2001,
     "status": "ok",
     "timestamp": 1592291979496,
     "user": {
      "displayName": "Anju Susan Aju",
      "photoUrl": "",
      "userId": "05425130991030184662"
     },
     "user_tz": -60
    },
    "id": "_6EgvYmadZSs",
    "outputId": "99600b0f-f4cd-429b-c591-377be57e9ab7"
   },
   "outputs": [
    {
     "name": "stdout",
     "output_type": "stream",
     "text": [
      "On IBM\n",
      "For init  k-means++\n",
      "homogeneity:  0.06914163617091286\n",
      "For init  random\n",
      "homogeneity:  0.06848476290922627\n",
      "----------------------------------------------------------------------------------------------------\n",
      "On Mushroom\n",
      "For init  k-means++\n",
      "homogeneity:  0.6623492301576244\n",
      "For init  random\n",
      "homogeneity:  0.6182852491442673\n"
     ]
    }
   ],
   "source": [
    "# Step 1 - Optimizing init parameter - Based on homogeneity score\n",
    "\n",
    "init_opt = ['k-means++', 'random']\n",
    "\n",
    "# Iterating the values of the parameter, fitting the model and getting the accuracy on IBM\n",
    "print(\"On IBM\")\n",
    "for i in init_opt:\n",
    "  model = KMeans(init = i)\n",
    "  model.fit(IbmX_scaled)\n",
    "  print(\"For init \", str(i))\n",
    "  labels_pred = model.labels_\n",
    "  labels_true = Ibmy\n",
    "  homogeneity = homogeneity_score(labels_true, labels_pred)\n",
    "  print(\"homogeneity: \", homogeneity)\n",
    "\n",
    "print(100*'-')\n",
    "# Iterating the values of the parameter, fitting the model and getting the accuracy on Mushroom\n",
    "print(\"On Mushroom\")\n",
    "for i in init_opt:\n",
    "  model = KMeans(init = i)\n",
    "  model.fit(mushroomX_scaled)\n",
    "  print(\"For init \", str(i))\n",
    "  labels_pred = model.labels_\n",
    "  labels_true = mushroomy\n",
    "  homogeneity = homogeneity_score(labels_true, labels_pred)\n",
    "  print(\"homogeneity: \", homogeneity)  "
   ]
  },
  {
   "cell_type": "markdown",
   "metadata": {
    "colab_type": "text",
    "id": "ZDdAfb_xfCFU"
   },
   "source": [
    "**Comments:** The best value for init parameter\n",
    "\n",
    "On IBM: init = random\n",
    "\n",
    "On Mushroom: init = k-means++"
   ]
  },
  {
   "cell_type": "code",
   "execution_count": null,
   "metadata": {
    "colab": {
     "base_uri": "https://localhost:8080/",
     "height": 1000
    },
    "colab_type": "code",
    "executionInfo": {
     "elapsed": 17361,
     "status": "ok",
     "timestamp": 1592285822071,
     "user": {
      "displayName": "Agalya Ayyadurai",
      "photoUrl": "",
      "userId": "15292908053366631791"
     },
     "user_tz": -60
    },
    "id": "rjs3l48rel5p",
    "outputId": "0d57a0ca-3290-42dc-ed6b-14a5c9cf6f76"
   },
   "outputs": [
    {
     "name": "stdout",
     "output_type": "stream",
     "text": [
      "On IBM\n",
      "For n_init:  1\n",
      "homogeneity:  0.07124913299805084\n",
      "For n_init:  2\n",
      "homogeneity:  0.06491827907958966\n",
      "For n_init:  3\n",
      "homogeneity:  0.06491827907958966\n",
      "For n_init:  4\n",
      "homogeneity:  0.06491827907958966\n",
      "For n_init:  5\n",
      "homogeneity:  0.06491827907958966\n",
      "For n_init:  6\n",
      "homogeneity:  0.06491827907958966\n",
      "For n_init:  7\n",
      "homogeneity:  0.06491827907958966\n",
      "For n_init:  8\n",
      "homogeneity:  0.06491827907958966\n",
      "For n_init:  9\n",
      "homogeneity:  0.06491827907958966\n",
      "For n_init:  10\n",
      "homogeneity:  0.06491827907958966\n",
      "For n_init:  11\n",
      "homogeneity:  0.06491827907958966\n",
      "For n_init:  12\n",
      "homogeneity:  0.06491827907958966\n",
      "For n_init:  13\n",
      "homogeneity:  0.06491827907958966\n",
      "For n_init:  14\n",
      "homogeneity:  0.06491827907958966\n",
      "On Mushroom\n",
      "For n_init:  1\n",
      "homogeneity:  0.737442565341787\n",
      "For n_init:  2\n",
      "homogeneity:  0.737442565341787\n",
      "For n_init:  3\n",
      "homogeneity:  0.6647722112960464\n",
      "For n_init:  4\n",
      "homogeneity:  0.6647722112960464\n",
      "For n_init:  5\n",
      "homogeneity:  0.6679576401106303\n",
      "For n_init:  6\n",
      "homogeneity:  0.6679576401106303\n",
      "For n_init:  7\n",
      "homogeneity:  0.6679576401106303\n",
      "For n_init:  8\n",
      "homogeneity:  0.7112249598087149\n",
      "For n_init:  9\n",
      "homogeneity:  0.7112249598087149\n",
      "For n_init:  10\n",
      "homogeneity:  0.7112249598087149\n",
      "For n_init:  11\n",
      "homogeneity:  0.7112249598087149\n",
      "For n_init:  12\n",
      "homogeneity:  0.7112249598087149\n",
      "For n_init:  13\n",
      "homogeneity:  0.7112249598087149\n",
      "For n_init:  14\n",
      "homogeneity:  0.7112249598087149\n"
     ]
    }
   ],
   "source": [
    "# Step 2 - Optimizing n_init - Based on homogeneity\n",
    "\n",
    "# On IBM Data\n",
    "print(\"On IBM\")\n",
    "for i in range(1, 15):\n",
    "  model = KMeans(n_init = i, random_state = 100)\n",
    "  model.fit(IbmX_scaled)\n",
    "  print(\"For n_init: \", str(i))\n",
    "  labels_pred = model.labels_\n",
    "  labels_true = Ibmy\n",
    "  homogeneity = homogeneity_score(labels_true, labels_pred)\n",
    "  print(\"homogeneity: \", homogeneity) \n",
    "\n",
    "# On Mushroom Data\n",
    "print(\"On Mushroom\")\n",
    "for i in range(1, 15):\n",
    "  model = KMeans(n_init = i, random_state = 100)\n",
    "  model.fit(mushroomX_scaled)\n",
    "  print(\"For n_init: \", str(i))\n",
    "  labels_pred = model.labels_\n",
    "  labels_true = mushroomy\n",
    "  homogeneity = homogeneity_score(labels_true, labels_pred)\n",
    "  print(\"homogeneity: \", homogeneity) "
   ]
  },
  {
   "cell_type": "markdown",
   "metadata": {
    "colab_type": "text",
    "id": "H2Z3xvj7geMh"
   },
   "source": [
    "**Comments:** Optimum n_init parameter:\n",
    "\n",
    "On IBM: n_init = 1\n",
    "\n",
    "On Mushroom: n_init = 2"
   ]
  },
  {
   "cell_type": "code",
   "execution_count": null,
   "metadata": {
    "colab": {
     "base_uri": "https://localhost:8080/",
     "height": 590
    },
    "colab_type": "code",
    "executionInfo": {
     "elapsed": 21957,
     "status": "ok",
     "timestamp": 1592285826681,
     "user": {
      "displayName": "Agalya Ayyadurai",
      "photoUrl": "",
      "userId": "15292908053366631791"
     },
     "user_tz": -60
    },
    "id": "iO1T2QhS3O_K",
    "outputId": "fb5ee9fa-cbd8-4a52-dc23-b1ea3ee565c7"
   },
   "outputs": [
    {
     "data": {
      "image/png": "[encoded data removed]",
      "text/plain": [
       "<Figure size 432x288 with 1 Axes>"
      ]
     },
     "metadata": {
      "needs_background": "light",
      "tags": []
     },
     "output_type": "display_data"
    },
    {
     "name": "stdout",
     "output_type": "stream",
     "text": [
      "\n"
     ]
    },
    {
     "data": {
      "image/png": "[encoded data removed]",
      "text/plain": [
       "<Figure size 432x288 with 1 Axes>"
      ]
     },
     "metadata": {
      "needs_background": "light",
      "tags": []
     },
     "output_type": "display_data"
    }
   ],
   "source": [
    "# Step 3 - Elbow Method to determine the optimum n_clusters\n",
    "\n",
    "SSE = [] #sum of squared error\n",
    "for i in range (1, 10):\n",
    "    kmeans = KMeans(n_clusters = i, init = 'k-means++', random_state = 1)\n",
    "    kmeans.fit(IbmX_scaled)\n",
    "    SSE.append(kmeans.inertia_) #inertia: sum of distances of samples to their closest cluster center\n",
    "    \n",
    "plt.plot(range(1, 10), SSE, 'o-')\n",
    "plt.title('Elbow graph for IBM')\n",
    "plt.xlabel('Cluster number')\n",
    "plt.ylabel('SSE (sum of squared errors)')\n",
    "plt.show()  \n",
    "\n",
    "print()\n",
    "\n",
    "SSE = [] #sum of squared error\n",
    "for i in range (1, 10):\n",
    "    kmeans = KMeans(n_clusters = i, init = 'k-means++', random_state = 1)\n",
    "    kmeans.fit(mushroomX_scaled)\n",
    "    SSE.append(kmeans.inertia_) #inertia: sum of distances of samples to their closest cluster center\n",
    "    \n",
    "plt.plot(range(1, 10), SSE, 'o-')\n",
    "plt.title('Elbow graph for Mushroom')\n",
    "plt.xlabel('Cluster number')\n",
    "plt.ylabel('SSE (sum of squared errors)')\n",
    "plt.show()  "
   ]
  },
  {
   "cell_type": "markdown",
   "metadata": {
    "colab_type": "text",
    "id": "GB3g0_v7hZHY"
   },
   "source": [
    "**Comments:** The local or global optima is not reached in both the graphs, as we see the Error keeps decreasing as the number of clusters increases. Considering only 2 labels on both the datasets, an optimum clusters of 8 is set"
   ]
  },
  {
   "cell_type": "markdown",
   "metadata": {
    "colab_type": "text",
    "id": "o9cDsFgLiqPB"
   },
   "source": [
    "## 4.2 Birch"
   ]
  },
  {
   "cell_type": "code",
   "execution_count": null,
   "metadata": {
    "colab": {
     "base_uri": "https://localhost:8080/",
     "height": 51
    },
    "colab_type": "code",
    "executionInfo": {
     "elapsed": 527,
     "status": "ok",
     "timestamp": 1592285861938,
     "user": {
      "displayName": "Agalya Ayyadurai",
      "photoUrl": "",
      "userId": "15292908053366631791"
     },
     "user_tz": -60
    },
    "id": "fTr0JtiXiusI",
    "outputId": "300210da-e5ba-447e-8aa4-8f2575deded4"
   },
   "outputs": [
    {
     "data": {
      "text/plain": [
       "Birch(branching_factor=50, compute_labels=True, copy=True, n_clusters=3,\n",
       "      threshold=0.5)"
      ]
     },
     "execution_count": 302,
     "metadata": {
      "tags": []
     },
     "output_type": "execute_result"
    }
   ],
   "source": [
    "# Default Model\n",
    "birch"
   ]
  },
  {
   "cell_type": "code",
   "execution_count": null,
   "metadata": {
    "colab": {
     "base_uri": "https://localhost:8080/",
     "height": 1000
    },
    "colab_type": "code",
    "executionInfo": {
     "elapsed": 73426,
     "status": "ok",
     "timestamp": 1592286446680,
     "user": {
      "displayName": "Agalya Ayyadurai",
      "photoUrl": "",
      "userId": "15292908053366631791"
     },
     "user_tz": -60
    },
    "id": "SNYF7YsSoh0q",
    "outputId": "a143c563-e24b-434c-f9d8-1036449719e2"
   },
   "outputs": [
    {
     "name": "stdout",
     "output_type": "stream",
     "text": [
      "On IBM\n",
      "For threshold 0.1 Homogeneity = 0.01131\n",
      "For threshold 0.12195704601594415 Homogeneity = 0.01131\n",
      "For threshold 0.14873521072935114 Homogeneity = 0.01131\n",
      "For threshold 0.18139306939110622 Homogeneity = 0.01131\n",
      "For threshold 0.2212216291070449 Homogeneity = 0.01131\n",
      "For threshold 0.26979536400730003 Homogeneity = 0.01131\n",
      "For threshold 0.32903445623126687 Homogeneity = 0.01131\n",
      "For threshold 0.4012807031942776 Homogeneity = 0.01131\n",
      "For threshold 0.4893900918477494 Homogeneity = 0.01131\n",
      "For threshold 0.5968456995122311 Homogeneity = 0.01131\n",
      "For threshold 0.7278953843983151 Homogeneity = 0.01131\n",
      "For threshold 0.8877197088985865 Homogeneity = 0.01131\n",
      "For threshold 1.0826367338740546 Homogeneity = 0.01131\n",
      "For threshold 1.3203517797162956 Homogeneity = 0.01131\n",
      "For threshold 1.6102620275609392 Homogeneity = 0.01131\n",
      "For threshold 1.9638280019297698 Homogeneity = 0.01131\n",
      "For threshold 2.395026619987486 Homogeneity = 0.01131\n",
      "For threshold 2.92090371703225 Homogeneity = 0.01147\n",
      "For threshold 3.562247890262444 Homogeneity = 0.00074\n",
      "For threshold 4.344412298729366 Homogeneity = 0.00450\n",
      "For threshold 5.29831690628371 Homogeneity = 0.00689\n",
      "For threshold 6.461670787466972 Homogeneity = 0.00596\n",
      "For threshold 7.880462815669913 Homogeneity = -0.00000\n",
      "For threshold 9.610779662375922 Homogeneity = -0.00000\n",
      "For threshold 11.721022975334806 Homogeneity = -0.00000\n",
      "For threshold 14.294613383568455 Homogeneity = -0.00000\n",
      "For threshold 17.43328822199989 Homogeneity = -0.00000\n",
      "For threshold 21.261123338996576 Homogeneity = -0.00000\n",
      "For threshold 25.92943797404667 Homogeneity = -0.00000\n",
      "For threshold 31.622776601683793 Homogeneity = -0.00000\n",
      "----------------------------------------------------------------------------------------------------\n",
      "On Mushroom\n",
      "For threshold 0.01 Homogeneity = 0.47973\n",
      "For threshold 0.012195704601594415 Homogeneity = 0.47973\n",
      "For threshold 0.014873521072935119 Homogeneity = 0.47973\n",
      "For threshold 0.018139306939110623 Homogeneity = 0.47973\n",
      "For threshold 0.022122162910704492 Homogeneity = 0.47973\n",
      "For threshold 0.026979536400730007 Homogeneity = 0.47973\n",
      "For threshold 0.03290344562312668 Homogeneity = 0.47973\n",
      "For threshold 0.040128070319427764 Homogeneity = 0.47973\n",
      "For threshold 0.04893900918477494 Homogeneity = 0.47973\n",
      "For threshold 0.05968456995122311 Homogeneity = 0.47973\n",
      "For threshold 0.07278953843983153 Homogeneity = 0.47973\n",
      "For threshold 0.08877197088985865 Homogeneity = 0.47973\n",
      "For threshold 0.10826367338740546 Homogeneity = 0.47973\n",
      "For threshold 0.13203517797162956 Homogeneity = 0.47973\n",
      "For threshold 0.16102620275609392 Homogeneity = 0.34162\n",
      "For threshold 0.196382800192977 Homogeneity = 0.34162\n",
      "For threshold 0.2395026619987486 Homogeneity = 0.34162\n",
      "For threshold 0.292090371703225 Homogeneity = 0.28474\n",
      "For threshold 0.35622478902624444 Homogeneity = 0.28474\n",
      "For threshold 0.43444122987293665 Homogeneity = 0.28421\n",
      "For threshold 0.529831690628371 Homogeneity = 0.05905\n",
      "For threshold 0.6461670787466973 Homogeneity = 0.16444\n",
      "For threshold 0.7880462815669912 Homogeneity = 0.05905\n",
      "For threshold 0.9610779662375922 Homogeneity = 0.05905\n",
      "For threshold 1.1721022975334805 Homogeneity = 0.04552\n",
      "For threshold 1.4294613383568455 Homogeneity = 0.05905\n",
      "For threshold 1.743328822199989 Homogeneity = 0.05905\n",
      "For threshold 2.1261123338996577 Homogeneity = 0.05905\n",
      "For threshold 2.592943797404667 Homogeneity = 0.03628\n",
      "For threshold 3.1622776601683795 Homogeneity = 0.02737\n"
     ]
    }
   ],
   "source": [
    "# Step 1 - Optimizing \"threshold\" - based on  homogeneity\n",
    "\n",
    "threshold = np.logspace(-1.0, +1.5, 30)\n",
    "\n",
    "#for i in threshold:\n",
    "\n",
    "print(\"On IBM\")\n",
    "for i in threshold:\n",
    "  model = Birch(threshold=i)\n",
    "  model.fit(IbmX_scaled)\n",
    "  labels_pred = model.labels_\n",
    "  labels_true = Ibmy\n",
    "  homogeneity = homogeneity_score(labels_true, labels_pred)\n",
    "  print(\"For threshold %s Homogeneity = %.5f\" % (str(i), homogeneity)) \n",
    "\n",
    "print(100*'-')\n",
    "\n",
    "threshold = np.logspace(-2.0, +0.5, 30)\n",
    "print(\"On Mushroom\")\n",
    "for i in threshold:\n",
    "  model = Birch(threshold=i)\n",
    "  model.fit(mushroomX_scaled)\n",
    "  labels_pred = model.labels_\n",
    "  labels_true = mushroomy\n",
    "  homogeneity = homogeneity_score(labels_true, labels_pred)\n",
    "  print(\"For threshold %s Homogeneity = %.5f\" % (str(i), homogeneity)) "
   ]
  },
  {
   "cell_type": "markdown",
   "metadata": {
    "colab_type": "text",
    "id": "Xpb2OQN7qzvh"
   },
   "source": [
    "**Comments:** Optimum values for \"threshold\":\n",
    "\n",
    "On  IBM: threshold = 0.1\n",
    "\n",
    "On Mushroom: threhold = 0.01"
   ]
  },
  {
   "cell_type": "code",
   "execution_count": null,
   "metadata": {
    "colab": {
     "base_uri": "https://localhost:8080/",
     "height": 544
    },
    "colab_type": "code",
    "executionInfo": {
     "elapsed": 14567,
     "status": "ok",
     "timestamp": 1592286545084,
     "user": {
      "displayName": "Agalya Ayyadurai",
      "photoUrl": "",
      "userId": "15292908053366631791"
     },
     "user_tz": -60
    },
    "id": "5QdMfOoMi5PB",
    "outputId": "090652c5-3899-49ad-88f1-f98d5b383bd8"
   },
   "outputs": [
    {
     "name": "stdout",
     "output_type": "stream",
     "text": [
      "On IBM\n",
      "For n_clusters 1 Homogeneity = -0.00000\n",
      "For n_clusters 2 Homogeneity = 0.01128\n",
      "For n_clusters 3 Homogeneity = 0.01131\n",
      "For n_clusters 4 Homogeneity = 0.02732\n",
      "For n_clusters 5 Homogeneity = 0.04674\n",
      "For n_clusters 6 Homogeneity = 0.06045\n",
      "For n_clusters 7 Homogeneity = 0.06112\n",
      "For n_clusters 8 Homogeneity = 0.06201\n",
      "For n_clusters 9 Homogeneity = 0.06203\n",
      "For n_clusters 10 Homogeneity = 0.06283\n",
      "For n_clusters 11 Homogeneity = 0.06348\n",
      "For n_clusters 12 Homogeneity = 0.07037\n",
      "For n_clusters 13 Homogeneity = 0.07105\n",
      "For n_clusters 14 Homogeneity = 0.07566\n",
      "----------------------------------------------------------------------------------------------------\n",
      "On Mushroom\n",
      "For n_clusters 1 Homogeneity = 0.00000\n",
      "For n_clusters 2 Homogeneity = 0.26965\n",
      "For n_clusters 3 Homogeneity = 0.28421\n",
      "For n_clusters 4 Homogeneity = 0.30057\n",
      "For n_clusters 5 Homogeneity = 0.55317\n",
      "For n_clusters 6 Homogeneity = 0.58575\n",
      "For n_clusters 7 Homogeneity = 0.60560\n",
      "For n_clusters 8 Homogeneity = 0.61477\n",
      "For n_clusters 9 Homogeneity = 0.63431\n",
      "For n_clusters 10 Homogeneity = 0.78128\n",
      "For n_clusters 11 Homogeneity = 0.78128\n",
      "For n_clusters 12 Homogeneity = 0.78159\n",
      "For n_clusters 13 Homogeneity = 0.78497\n",
      "For n_clusters 14 Homogeneity = 0.80057\n"
     ]
    }
   ],
   "source": [
    "# Step 2 - optimizing \"n_clusters\" parameter - based on homogeneity score\n",
    "\n",
    "print(\"On IBM\")\n",
    "for i in range(1, 15, 1):\n",
    "  model = Birch(n_clusters=i)\n",
    "  model.fit(IbmX_scaled)\n",
    "  labels_pred = model.labels_\n",
    "  labels_true = Ibmy\n",
    "  homogeneity = homogeneity_score(labels_true, labels_pred)\n",
    "  print(\"For n_clusters %s Homogeneity = %.5f\" % (str(i), homogeneity)) \n",
    "\n",
    "print(100*'-')\n",
    "print(\"On Mushroom\")\n",
    "for i in range(1, 15, 1):\n",
    "  model = Birch(n_clusters=i)\n",
    "  model.fit(mushroomX_scaled)\n",
    "  labels_pred = model.labels_\n",
    "  labels_true = mushroomy\n",
    "  homogeneity = homogeneity_score(labels_true, labels_pred)\n",
    "  print(\"For n_clusters %s Homogeneity = %.5f\" % (str(i), homogeneity)) "
   ]
  },
  {
   "cell_type": "markdown",
   "metadata": {
    "colab_type": "text",
    "id": "SQ5cAFU3rFlJ"
   },
   "source": [
    "**Comments:** Optimum value for n_clusters:\n",
    "\n",
    "On IBM: n_clusters = 8 (The homogeneity could improve even with more clusters than 14)\n",
    "\n",
    "On Mushroom: n_clusters = 8 (The homogeneity could improve even with more clusters than 14)"
   ]
  },
  {
   "cell_type": "markdown",
   "metadata": {
    "colab_type": "text",
    "id": "5tzTyLX3ZXqe"
   },
   "source": [
    "## 4.3 K-Modes"
   ]
  },
  {
   "cell_type": "code",
   "execution_count": null,
   "metadata": {
    "colab": {
     "base_uri": "https://localhost:8080/",
     "height": 68
    },
    "colab_type": "code",
    "executionInfo": {
     "elapsed": 950,
     "status": "ok",
     "timestamp": 1592298724281,
     "user": {
      "displayName": "Pariyakorn Somchit",
      "photoUrl": "https://lh3.googleusercontent.com/a-/AOh14GgJgBsiBo138fI22g6wrRXQHFvIJq7u1tHwyb_kvg=s64",
      "userId": "02113052735497444860"
     },
     "user_tz": -420
    },
    "id": "XkoVt0xWZipk",
    "outputId": "a9fe36c9-4673-4078-a10d-4c2334b1eace"
   },
   "outputs": [
    {
     "data": {
      "text/plain": [
       "KModes(cat_dissim=<function matching_dissim at 0x7ff1a5931268>, init='Cao',\n",
       "       max_iter=100, n_clusters=8, n_init=1, n_jobs=1, random_state=None,\n",
       "       verbose=0)"
      ]
     },
     "execution_count": 17,
     "metadata": {
      "tags": []
     },
     "output_type": "execute_result"
    }
   ],
   "source": [
    "# default model\n",
    "\n",
    "kmodes"
   ]
  },
  {
   "cell_type": "code",
   "execution_count": null,
   "metadata": {
    "colab": {
     "base_uri": "https://localhost:8080/",
     "height": 153
    },
    "colab_type": "code",
    "executionInfo": {
     "elapsed": 17163,
     "status": "ok",
     "timestamp": 1592298934247,
     "user": {
      "displayName": "Pariyakorn Somchit",
      "photoUrl": "https://lh3.googleusercontent.com/a-/AOh14GgJgBsiBo138fI22g6wrRXQHFvIJq7u1tHwyb_kvg=s64",
      "userId": "02113052735497444860"
     },
     "user_tz": -420
    },
    "id": "J6NzqGG2ZoEp",
    "outputId": "49d6f753-1bf0-4615-f789-2374cc05ac3b"
   },
   "outputs": [
    {
     "name": "stdout",
     "output_type": "stream",
     "text": [
      "On IBM\n",
      "For init: Huang, Homogeneity = 0.05427\n",
      "For init: Cao, Homogeneity = 0.05171\n",
      "For init: random, Homogeneity = 0.04798\n",
      "On Mushroom\n",
      "For init: Huang, Homogeneity = 0.59222\n",
      "For init: Cao, Homogeneity = 0.61834\n",
      "For init: random, Homogeneity = 0.57177\n"
     ]
    }
   ],
   "source": [
    "# Step 1 - Optimizing \"init\" parameter based on Homogeneity\n",
    "\n",
    "init_opt = ['Huang', 'Cao', 'random']\n",
    "\n",
    "print(\"On IBM\")\n",
    "for i in init_opt:\n",
    "  model = KModes(init=i)\n",
    "  model.fit(IbmX_scaled)\n",
    "  labels_pred = model.labels_\n",
    "  labels_true = Ibmy\n",
    "  homogeneity = homogeneity_score(labels_true, labels_pred)\n",
    "  print(\"For init: %s, Homogeneity = %.5f\" % (str(i), homogeneity)) \n",
    "\n",
    "print(\"On Mushroom\")\n",
    "for i in init_opt:\n",
    "  model = KModes(init=i)\n",
    "  model.fit(mushroomX_scaled)\n",
    "  labels_pred = model.labels_\n",
    "  labels_true = mushroomy\n",
    "  homogeneity = homogeneity_score(labels_true, labels_pred)\n",
    "  print(\"For init: %s, Homogeneity = %.5f\" % (str(i), homogeneity))"
   ]
  },
  {
   "cell_type": "markdown",
   "metadata": {
    "colab_type": "text",
    "id": "GFqpqwZstQL6"
   },
   "source": [
    "**Comments:** The best value for init parameter\n",
    "\n",
    "On IBM: init = Huang\n",
    "\n",
    "On Mushroom: init = Cao"
   ]
  },
  {
   "cell_type": "code",
   "execution_count": null,
   "metadata": {
    "colab": {
     "base_uri": "https://localhost:8080/",
     "height": 590
    },
    "colab_type": "code",
    "executionInfo": {
     "elapsed": 41756,
     "status": "ok",
     "timestamp": 1592301207537,
     "user": {
      "displayName": "Pariyakorn Somchit",
      "photoUrl": "https://lh3.googleusercontent.com/a-/AOh14GgJgBsiBo138fI22g6wrRXQHFvIJq7u1tHwyb_kvg=s64",
      "userId": "02113052735497444860"
     },
     "user_tz": -420
    },
    "id": "GMTAbulyafhP",
    "outputId": "c2301cb4-04af-4851-87e2-b3c423491db1"
   },
   "outputs": [
    {
     "data": {
      "image/png": "[encoded data removed]",
      "text/plain": [
       "<Figure size 432x288 with 1 Axes>"
      ]
     },
     "metadata": {
      "needs_background": "light",
      "tags": []
     },
     "output_type": "display_data"
    },
    {
     "name": "stdout",
     "output_type": "stream",
     "text": [
      "\n"
     ]
    },
    {
     "data": {
      "image/png": "[encoded data removed]",
      "text/plain": [
       "<Figure size 432x288 with 1 Axes>"
      ]
     },
     "metadata": {
      "needs_background": "light",
      "tags": []
     },
     "output_type": "display_data"
    }
   ],
   "source": [
    "# Step 2 - Optimised n_clusters by comparing cost for each K\n",
    "\n",
    "cost = []\n",
    "for i in list(range(1,10)):\n",
    "    kmode = KModes(n_clusters = i, init = \"Huang\")\n",
    "    kmode.fit_predict(IbmX_scaled)\n",
    "    cost.append(kmode.cost_)\n",
    "    \n",
    "plt.plot(range(1,10,1), cost, 'o-')\n",
    "plt.title('Elbow graph for IBM')\n",
    "plt.xlabel('Cluster number')\n",
    "plt.ylabel('Cost')\n",
    "plt.show()\n",
    "\n",
    "print()\n",
    "\n",
    "cost = []\n",
    "for i in list(range(1,10)):\n",
    "    kmode = KModes(n_clusters = i, init = \"Cao\")\n",
    "    kmode.fit_predict(mushroomX_scaled)\n",
    "    cost.append(kmode.cost_)\n",
    "    \n",
    "plt.plot(range(1,10,1), cost, 'o-')\n",
    "plt.title('Elbow graph for Mushroom')\n",
    "plt.xlabel('Cluster number')\n",
    "plt.ylabel('Cost')\n",
    "plt.show() "
   ]
  },
  {
   "cell_type": "markdown",
   "metadata": {
    "colab_type": "text",
    "id": "ctyyXl2tuEmN"
   },
   "source": [
    "**Comment:** There is no clear elbow for both data sets, rather there are fairly smooth curves. Considering only 2 labels on both the data sets, an optimum clusters of 8 is set."
   ]
  },
  {
   "cell_type": "markdown",
   "metadata": {
    "colab_type": "text",
    "id": "Jb6qJ_QD6kn_"
   },
   "source": [
    "## 4.4 Hierarchical Agglomerative Clustering"
   ]
  },
  {
   "cell_type": "code",
   "execution_count": null,
   "metadata": {
    "colab": {
     "base_uri": "https://localhost:8080/",
     "height": 68
    },
    "colab_type": "code",
    "executionInfo": {
     "elapsed": 1264,
     "status": "ok",
     "timestamp": 1592311093800,
     "user": {
      "displayName": "Pariyakorn Somchit",
      "photoUrl": "https://lh3.googleusercontent.com/a-/AOh14GgJgBsiBo138fI22g6wrRXQHFvIJq7u1tHwyb_kvg=s64",
      "userId": "02113052735497444860"
     },
     "user_tz": -420
    },
    "id": "Msm2Q8X1qAcS",
    "outputId": "7f6aed8f-9a5b-4feb-84bd-7c7e3ac7c4cd"
   },
   "outputs": [
    {
     "data": {
      "text/plain": [
       "AgglomerativeClustering(affinity='euclidean', compute_full_tree='auto',\n",
       "                        connectivity=None, distance_threshold=None,\n",
       "                        linkage='ward', memory=None, n_clusters=2)"
      ]
     },
     "execution_count": 17,
     "metadata": {
      "tags": []
     },
     "output_type": "execute_result"
    }
   ],
   "source": [
    "# default model\n",
    "hac"
   ]
  },
  {
   "cell_type": "code",
   "execution_count": null,
   "metadata": {
    "colab": {
     "base_uri": "https://localhost:8080/",
     "height": 1000
    },
    "colab_type": "code",
    "executionInfo": {
     "elapsed": 198710,
     "status": "ok",
     "timestamp": 1592312438478,
     "user": {
      "displayName": "Pariyakorn Somchit",
      "photoUrl": "https://lh3.googleusercontent.com/a-/AOh14GgJgBsiBo138fI22g6wrRXQHFvIJq7u1tHwyb_kvg=s64",
      "userId": "02113052735497444860"
     },
     "user_tz": -420
    },
    "id": "xfcz-ccMHaM9",
    "outputId": "dc967127-4c3b-4dd8-95e3-33d01c9ed9bf"
   },
   "outputs": [
    {
     "name": "stdout",
     "output_type": "stream",
     "text": [
      "On IBM\n"
     ]
    },
    {
     "data": {
      "image/png": "[encoded data removed]",
      "text/plain": [
       "<Figure size 720x720 with 1 Axes>"
      ]
     },
     "metadata": {
      "needs_background": "light",
      "tags": []
     },
     "output_type": "display_data"
    },
    {
     "name": "stdout",
     "output_type": "stream",
     "text": [
      "----------------------------------------------------------------------------------------------------\n",
      "On MUSHROOM\n"
     ]
    },
    {
     "data": {
      "image/png": "[encoded data removed]",
      "text/plain": [
       "<Figure size 720x720 with 1 Axes>"
      ]
     },
     "metadata": {
      "needs_background": "light",
      "tags": []
     },
     "output_type": "display_data"
    }
   ],
   "source": [
    "# Create Dendrogram for Visualization\n",
    "\n",
    "from scipy.cluster.hierarchy import dendrogram, linkage\n",
    "\n",
    "print(\"On IBM\")\n",
    "plt.figure(figsize=(10, 10))\n",
    "ibm_den = dendrogram(linkage(IbmX_scaled, 'ward'))\n",
    "plt.show()\n",
    "\n",
    "print(100*'-')\n",
    "print(\"On Mushroom\")\n",
    "plt.figure(figsize=(10, 10))\n",
    "mushroom_den = dendrogram(linkage(mushroomX_scaled, 'ward'))\n",
    "plt.show()"
   ]
  },
  {
   "cell_type": "code",
   "execution_count": null,
   "metadata": {
    "colab": {
     "base_uri": "https://localhost:8080/",
     "height": 187
    },
    "colab_type": "code",
    "executionInfo": {
     "elapsed": 7289,
     "status": "ok",
     "timestamp": 1592286705876,
     "user": {
      "displayName": "Agalya Ayyadurai",
      "photoUrl": "",
      "userId": "15292908053366631791"
     },
     "user_tz": -60
    },
    "id": "DSsuw3SiqCkG",
    "outputId": "9170e26e-2fc5-4d5f-dcbe-b9a6cb37f16f"
   },
   "outputs": [
    {
     "name": "stdout",
     "output_type": "stream",
     "text": [
      "On IBM\n",
      "For linkage: ward, Homogeneity = 0.01128\n",
      "For linkage: complete, Homogeneity = 0.00067\n",
      "For linkage: average, Homogeneity = 0.00163\n",
      "For linkage: single, Homogeneity = 0.00163\n",
      "On Mushroom\n",
      "For linkage: ward, Homogeneity = 0.26965\n",
      "For linkage: complete, Homogeneity = 0.00969\n",
      "For linkage: average, Homogeneity = 0.02283\n",
      "For linkage: single, Homogeneity = 0.02283\n"
     ]
    }
   ],
   "source": [
    "# Step 1 - optimizing \"linkage\" parameter based on Homogeneity\n",
    "\n",
    "linkage_opt = ['ward', 'complete', 'average', 'single']\n",
    "\n",
    "print(\"On IBM\")\n",
    "for i in linkage_opt:\n",
    "  model = AgglomerativeClustering(linkage=i)\n",
    "  model.fit(IbmX_scaled)\n",
    "  labels_pred = model.labels_\n",
    "  labels_true = Ibmy\n",
    "  homogeneity = homogeneity_score(labels_true, labels_pred)\n",
    "  print(\"For linkage: %s, Homogeneity = %.5f\" % (str(i), homogeneity)) \n",
    "\n",
    "print(\"On Mushroom\")\n",
    "for i in linkage_opt:\n",
    "  model = AgglomerativeClustering(linkage=i)\n",
    "  model.fit(mushroomX_scaled)\n",
    "  labels_pred = model.labels_\n",
    "  labels_true = mushroomy\n",
    "  homogeneity = homogeneity_score(labels_true, labels_pred)\n",
    "  print(\"For linkage: %s, Homogeneity = %.5f\" % (str(i), homogeneity)) "
   ]
  },
  {
   "cell_type": "markdown",
   "metadata": {
    "colab_type": "text",
    "id": "M48acd1irwGX"
   },
   "source": [
    "**Comments:** On both data, the defautl value \"ward\" performs well"
   ]
  },
  {
   "cell_type": "code",
   "execution_count": null,
   "metadata": {
    "colab": {
     "base_uri": "https://localhost:8080/",
     "height": 544
    },
    "colab_type": "code",
    "executionInfo": {
     "elapsed": 33858,
     "status": "ok",
     "timestamp": 1592286795949,
     "user": {
      "displayName": "Agalya Ayyadurai",
      "photoUrl": "",
      "userId": "15292908053366631791"
     },
     "user_tz": -60
    },
    "id": "NS_Jr5y8r20l",
    "outputId": "dfe0312f-a39d-43cd-fae7-aa0931b46219"
   },
   "outputs": [
    {
     "name": "stdout",
     "output_type": "stream",
     "text": [
      "On IBM\n",
      "For n_clusters 1 Homogeneity = -0.00000\n",
      "For n_clusters 2 Homogeneity = 0.01128\n",
      "For n_clusters 3 Homogeneity = 0.01131\n",
      "For n_clusters 4 Homogeneity = 0.02732\n",
      "For n_clusters 5 Homogeneity = 0.04674\n",
      "For n_clusters 6 Homogeneity = 0.06045\n",
      "For n_clusters 7 Homogeneity = 0.06112\n",
      "For n_clusters 8 Homogeneity = 0.06201\n",
      "For n_clusters 9 Homogeneity = 0.06203\n",
      "For n_clusters 10 Homogeneity = 0.06283\n",
      "For n_clusters 11 Homogeneity = 0.06348\n",
      "For n_clusters 12 Homogeneity = 0.07037\n",
      "For n_clusters 13 Homogeneity = 0.07105\n",
      "For n_clusters 14 Homogeneity = 0.07566\n",
      "----------------------------------------------------------------------------------------------------\n",
      "On Mushroom\n",
      "For n_clusters 1 Homogeneity = 0.00000\n",
      "For n_clusters 2 Homogeneity = 0.26965\n",
      "For n_clusters 3 Homogeneity = 0.47973\n",
      "For n_clusters 4 Homogeneity = 0.50153\n",
      "For n_clusters 5 Homogeneity = 0.58390\n",
      "For n_clusters 6 Homogeneity = 0.59490\n",
      "For n_clusters 7 Homogeneity = 0.71225\n",
      "For n_clusters 8 Homogeneity = 0.73500\n",
      "For n_clusters 9 Homogeneity = 0.74418\n",
      "For n_clusters 10 Homogeneity = 0.85040\n",
      "For n_clusters 11 Homogeneity = 0.85040\n",
      "For n_clusters 12 Homogeneity = 0.85040\n",
      "For n_clusters 13 Homogeneity = 0.85402\n",
      "For n_clusters 14 Homogeneity = 0.85480\n"
     ]
    }
   ],
   "source": [
    "# Step 2 - optimizing \"n_clusters\" parameter - based on homogeneity score\n",
    "\n",
    "print(\"On IBM\")\n",
    "for i in range(1, 15, 1):\n",
    "  model = AgglomerativeClustering(n_clusters=i)\n",
    "  model.fit(IbmX_scaled)\n",
    "  labels_pred = model.labels_\n",
    "  labels_true = Ibmy\n",
    "  homogeneity = homogeneity_score(labels_true, labels_pred)\n",
    "  print(\"For n_clusters %s Homogeneity = %.5f\" % (str(i), homogeneity)) \n",
    "\n",
    "print(100*'-')\n",
    "print(\"On Mushroom\")\n",
    "for i in range(1, 15, 1):\n",
    "  model = AgglomerativeClustering(n_clusters=i)\n",
    "  model.fit(mushroomX_scaled)\n",
    "  labels_pred = model.labels_\n",
    "  labels_true = mushroomy\n",
    "  homogeneity = homogeneity_score(labels_true, labels_pred)\n",
    "  print(\"For n_clusters %s Homogeneity = %.5f\" % (str(i), homogeneity)) "
   ]
  },
  {
   "cell_type": "markdown",
   "metadata": {
    "colab_type": "text",
    "id": "rBIBvnGTsAQe"
   },
   "source": [
    "**Comments:** In both the datasets, the homogeneity increases as the n_clusters increases. Taking an optimum of n_clusters = 8"
   ]
  },
  {
   "cell_type": "markdown",
   "metadata": {
    "colab_type": "text",
    "id": "KOk499tRu-wt"
   },
   "source": [
    "# **5. Evaluation and Comparison of Manually Tuned Models**"
   ]
  },
  {
   "cell_type": "code",
   "execution_count": null,
   "metadata": {
    "colab": {
     "base_uri": "https://localhost:8080/",
     "height": 1000
    },
    "colab_type": "code",
    "executionInfo": {
     "elapsed": 13538,
     "status": "ok",
     "timestamp": 1592301551917,
     "user": {
      "displayName": "Pariyakorn Somchit",
      "photoUrl": "https://lh3.googleusercontent.com/a-/AOh14GgJgBsiBo138fI22g6wrRXQHFvIJq7u1tHwyb_kvg=s64",
      "userId": "02113052735497444860"
     },
     "user_tz": -420
    },
    "id": "wGhhZ5A4sWqP",
    "outputId": "4277a405-6c6e-4a0d-cc53-d7d01a52e991"
   },
   "outputs": [
    {
     "name": "stdout",
     "output_type": "stream",
     "text": [
      "--------------------------------------------------\n",
      "\tPerformance Metrics on IBM data\n",
      "--------------------------------------------------\n",
      "K-Means algorithm \n",
      "\n",
      "Adjusted Rand Index Score: 0.00056\n",
      "Homogeneity Score: 0.00472\n",
      "Completeness Score: 0.00101\n",
      "V Measure Score: 0.00166\n",
      "--------------------------------------------------\n",
      "Birch algorithm \n",
      "\n",
      "Adjusted Rand Index Score: 0.00118\n",
      "Homogeneity Score: 0.00658\n",
      "Completeness Score: 0.00142\n",
      "V Measure Score: 0.00233\n",
      "--------------------------------------------------\n",
      "K-Modes algorithm \n",
      "\n",
      "Adjusted Rand Index Score: -0.00052\n",
      "Homogeneity Score: 0.05171\n",
      "Completeness Score: 0.01150\n",
      "V Measure Score: 0.01881\n",
      "--------------------------------------------------\n",
      "HAC algorithm \n",
      "\n",
      "Adjusted Rand Index Score: 0.00118\n",
      "Homogeneity Score: 0.00658\n",
      "Completeness Score: 0.00142\n",
      "V Measure Score: 0.00233\n",
      "--------------------------------------------------\n",
      "--------------------------------------------------\n",
      "\tPerformance Metrics on Mushroom data\n",
      "--------------------------------------------------\n",
      "K-Means algorithm \n",
      "\n",
      "Adjusted Rand Index Score: 0.14293\n",
      "Homogeneity Score: 0.53303\n",
      "Completeness Score: 0.18359\n",
      "V Measure Score: 0.27311\n",
      "--------------------------------------------------\n",
      "Birch algorithm \n",
      "\n",
      "Adjusted Rand Index Score: 0.17032\n",
      "Homogeneity Score: 0.54492\n",
      "Completeness Score: 0.19648\n",
      "V Measure Score: 0.28882\n",
      "--------------------------------------------------\n",
      "K-Modes algorithm \n",
      "\n",
      "Adjusted Rand Index Score: 0.23005\n",
      "Homogeneity Score: 0.61834\n",
      "Completeness Score: 0.22554\n",
      "V Measure Score: 0.33052\n",
      "--------------------------------------------------\n",
      "HAC algorithm \n",
      "\n",
      "Adjusted Rand Index Score: 0.17541\n",
      "Homogeneity Score: 0.55122\n",
      "Completeness Score: 0.19770\n",
      "V Measure Score: 0.29102\n",
      "--------------------------------------------------\n"
     ]
    }
   ],
   "source": [
    "# Calling models for the optimum parameter values on IBM Dataset and storing the models to the variables in the function\n",
    "\n",
    "data = ''\n",
    "\n",
    "if data == \"IBM\":\n",
    "  kmeans = KMeans(n_clusters = 8, n_init = 1,init = 'random' )\n",
    "  birch = Birch(threshold = 0.1, n_clusters = 8)\n",
    "  kmodes = KModes(init = 'Huang', n_clusters = 8)\n",
    "  hac = AgglomerativeClustering(n_clusters = 8)\n",
    "else:\n",
    "  kmeans = KMeans(n_clusters = 8, n_init = 2)\n",
    "  birch = Birch(threshold=0.01, n_clusters = 8)\n",
    "  kmodes = KModes(init = 'Cao', n_clusters = 8)\n",
    "  hac = AgglomerativeClustering(n_clusters = 8)\n",
    "\n",
    "data = \"IBM\"\n",
    "metrics(IbmX, Ibmy, \"IBM\")\n",
    "\n",
    "data == \"Mushroom\"\n",
    "metrics(mushroomX, mushroomy, \"Mushroom\")"
   ]
  },
  {
   "cell_type": "markdown",
   "metadata": {
    "colab_type": "text",
    "id": "oBjLc4x0uClx"
   },
   "source": [
    "# **6. PCA**"
   ]
  },
  {
   "cell_type": "code",
   "execution_count": null,
   "metadata": {
    "colab": {},
    "colab_type": "code",
    "id": "a2YmPtgtuHfw"
   },
   "outputs": [],
   "source": [
    "# Importing PCA for Dimensionality Reduction\n",
    "\n",
    "from sklearn.decomposition import PCA\n",
    "\n",
    "# PCA to reduce the dimensions\n",
    "reduced_IBM = PCA(n_components=8).fit_transform(IbmX_scaled) \n",
    "reduced_mushroom = PCA(n_components=8).fit_transform(mushroomX_scaled) \n"
   ]
  },
  {
   "cell_type": "markdown",
   "metadata": {
    "colab_type": "text",
    "id": "bnwZNx9xuWQP"
   },
   "source": [
    "# **7. Evaluation and Comparison of models after PCA**"
   ]
  },
  {
   "cell_type": "code",
   "execution_count": null,
   "metadata": {
    "colab": {
     "base_uri": "https://localhost:8080/",
     "height": 1000
    },
    "colab_type": "code",
    "executionInfo": {
     "elapsed": 7571,
     "status": "ok",
     "timestamp": 1592301492726,
     "user": {
      "displayName": "Pariyakorn Somchit",
      "photoUrl": "https://lh3.googleusercontent.com/a-/AOh14GgJgBsiBo138fI22g6wrRXQHFvIJq7u1tHwyb_kvg=s64",
      "userId": "02113052735497444860"
     },
     "user_tz": -420
    },
    "id": "OSifR7syyDHv",
    "outputId": "20548812-8fd8-4abf-e164-214b69a18660"
   },
   "outputs": [
    {
     "name": "stdout",
     "output_type": "stream",
     "text": [
      "--------------------------------------------------\n",
      "\tPerformance Metrics on IBM data\n",
      "--------------------------------------------------\n",
      "K-Means algorithm \n",
      "\n",
      "Adjusted Rand Index Score: 0.00833\n",
      "Homogeneity Score: 0.05748\n",
      "Completeness Score: 0.01285\n",
      "V Measure Score: 0.02100\n",
      "--------------------------------------------------\n",
      "Birch algorithm \n",
      "\n",
      "Adjusted Rand Index Score: 0.01820\n",
      "Homogeneity Score: 0.08350\n",
      "Completeness Score: 0.01917\n",
      "V Measure Score: 0.03118\n",
      "--------------------------------------------------\n",
      "K-Modes algorithm \n",
      "\n",
      "Adjusted Rand Index Score: -0.00086\n",
      "Homogeneity Score: 0.00444\n",
      "Completeness Score: 0.04962\n",
      "V Measure Score: 0.00814\n",
      "--------------------------------------------------\n",
      "HAC algorithm \n",
      "\n",
      "Adjusted Rand Index Score: 0.01820\n",
      "Homogeneity Score: 0.08350\n",
      "Completeness Score: 0.01917\n",
      "V Measure Score: 0.03118\n",
      "--------------------------------------------------\n",
      "--------------------------------------------------\n",
      "\tPerformance Metrics on Mushroom data\n",
      "--------------------------------------------------\n",
      "K-Means algorithm \n",
      "\n",
      "Adjusted Rand Index Score: 0.25083\n",
      "Homogeneity Score: 0.65737\n",
      "Completeness Score: 0.23663\n",
      "V Measure Score: 0.34800\n",
      "--------------------------------------------------\n",
      "Birch algorithm \n",
      "\n",
      "Adjusted Rand Index Score: 0.25839\n",
      "Homogeneity Score: 0.72229\n",
      "Completeness Score: 0.25973\n",
      "V Measure Score: 0.38207\n",
      "--------------------------------------------------\n",
      "K-Modes algorithm \n",
      "\n",
      "Adjusted Rand Index Score: -0.00008\n",
      "Homogeneity Score: 0.00083\n",
      "Completeness Score: 0.06682\n",
      "V Measure Score: 0.00164\n",
      "--------------------------------------------------\n",
      "HAC algorithm \n",
      "\n",
      "Adjusted Rand Index Score: 0.25839\n",
      "Homogeneity Score: 0.72229\n",
      "Completeness Score: 0.25973\n",
      "V Measure Score: 0.38207\n",
      "--------------------------------------------------\n"
     ]
    }
   ],
   "source": [
    "data = ''\n",
    "\n",
    "if data == \"IBM\":\n",
    "  kmeans = KMeans(n_clusters = 8, n_init = 1,init = 'random' )\n",
    "  birch = Birch(threshold = 0.1, n_clusters = 8)\n",
    "  kmodes = KModes(init = 'Huang', n_clusters = 8)\n",
    "  hac = AgglomerativeClustering(n_clusters = 8)\n",
    "else:\n",
    "  kmeans = KMeans(n_clusters = 8, n_init = 2)\n",
    "  birch = Birch(threshold=0.01, n_clusters = 8)\n",
    "  kmodes = KModes(init = 'Cao', n_clusters = 8)\n",
    "  hac = AgglomerativeClustering(n_clusters = 8)\n",
    "\n",
    "data = \"IBM\"\n",
    "metrics(reduced_IBM, Ibmy, \"IBM\")\n",
    "\n",
    "data == \"Mushroom\"\n",
    "metrics(reduced_mushroom, mushroomy, \"Mushroom\")"
   ]
  },
  {
   "cell_type": "markdown",
   "metadata": {
    "colab_type": "text",
    "id": "GV8NssviufS8"
   },
   "source": [
    "# **8. Proposing the best and worst performing algorithms on both the datasets**"
   ]
  },
  {
   "cell_type": "markdown",
   "metadata": {
    "colab_type": "text",
    "id": "Xi-CmSwyzw4S"
   },
   "source": [
    "\n",
    "---\n",
    "\n",
    "\n",
    "**ON IBM**\n",
    "\n",
    "*Best: Birch, HAC*\n",
    "\n",
    "Birch and HAC both give ARI and V-measure of 0.01820 and 0.03118 which are very low, but still the highest amongst all algorithms. Overall, Birch and HAC do not perform that well in IBM, but compare to K-Means and K-Modes, we can conclude that they are best performing clustering algorithm for IBM.\n",
    "\n",
    "*Worst: K-Modes*\n",
    "\n",
    "K-Modes gives ARI and V-measure score of -0.00086 and 0.00814, hence, this makes it the worst performing clustering algorithm for IBM.\n",
    "\n",
    "---\n",
    "\n",
    "\n",
    "**ON MUSHROOM**\n",
    "\n",
    "*Best: Birch, HAC*\n",
    "\n",
    "Birch and HAC both give ARI and V-measure of 0.25839 and 0.38207 which still considerd low, but it is the highest amongst all algorithms. Overall, Birch and HAC do not perform that well in Mushroom, but compare to K-Means and K-Modes, we can conclude that they are best performing clustering algorithm for Mushroom.\n",
    "\n",
    "*Worst: K-Modes*\n",
    "\n",
    "K-Modes gives ARI and V-measure score of -0.00008 and 0.00164, hence, this makes it the worst performing clustering algorithm for Mushroom.\n",
    "\n",
    "---\n",
    "\n",
    "**ACROSS IBM AND MUSHROOM**\n",
    "\n",
    "Overall, clustering algorithm does not perform well on IBM or Mushroom data set like they do in classification algorithm. Since both data sets already have labelled dependent variables, it is best to choose classification method rather than clustering method.\n",
    "\n",
    "\n",
    "\n",
    "---"
   ]
  }
 ],
 "metadata": {
  "colab": {
   "collapsed_sections": [],
   "name": "Clustering.ipynb",
   "provenance": [],
   "toc_visible": true
  },
  "kernelspec": {
   "display_name": "Python 3",
   "language": "python",
   "name": "python3"
  },
  "language_info": {
   "codemirror_mode": {
    "name": "ipython",
    "version": 3
   },
   "file_extension": ".py",
   "mimetype": "text/x-python",
   "name": "python",
   "nbconvert_exporter": "python",
   "pygments_lexer": "ipython3",
   "version": "3.6.10"
  }
 },
 "nbformat": 4,
 "nbformat_minor": 1
}
